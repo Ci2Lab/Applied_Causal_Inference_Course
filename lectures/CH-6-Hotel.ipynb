{
 "cells": [
  {
   "cell_type": "markdown",
   "metadata": {},
   "source": [
    "# Chapter 6. A real-world example about Hotels Bookings\n",
    "\n",
    "We consider the problem of estimating the impact of assigning a different hotel room as compared to what the customer had originally reserved.\n",
    "\n",
    "The gold standard of finding this out would be to use experiments such as Randomized Controlled Trials wherein each customer is randomly assigned to one of the two categories i.e. each customer is either assigned a different room or the same room as he had booked before. But what if we cannot intervene or its too costly too perform such an experiment? The Hotel would start losing its reputation if people learn that its randomly assigning people to different rooms. Or what if a 6 people family get assigned a single room? Can we somehow answer our query using only observational data or data that has been collected in the past?\n",
    "\n",
    "This dataset contains booking information for a city hotel and a resort hotel taken from a real hotel in Portugal, and includes information such as when the booking was made, length of stay, the number of adults, children, and/or babies, and the number of available parking spaces, among other things. All personally identifying information has been removed from the data.\n",
    "\n",
    "![img](img/ch7/Hotel.png)"
   ]
  },
  {
   "cell_type": "markdown",
   "metadata": {},
   "source": [
    "This dataset contains booking information for a city hotel and a resort hotel taken from a real hotel in Portugal, and includes information such as when the booking was made, length of stay, the number of adults, children, and/or babies, and the number of available parking spaces, among other things. All personally identifying information has been removed from the data.\n",
    "\n",
    "Additional details on how the daataset has been created can be found in the original [article](https://www.sciencedirect.com/science/article/pii/S2352340918315191) by *Antonio et. al for Data in Brief, Volume 22, February 2019* or [here](https://github.com/rfordatascience/tidytuesday/blob/master/data/2020/2020-02-11/readme.md)."
   ]
  },
  {
   "cell_type": "markdown",
   "metadata": {},
   "source": [
    "## Load Data"
   ]
  },
  {
   "cell_type": "code",
   "execution_count": null,
   "metadata": {
    "scrolled": true
   },
   "outputs": [],
   "source": [
    "import dowhy\n",
    "import pandas as pd\n",
    "import numpy as np\n",
    "import matplotlib.pyplot as plt\n",
    "\n",
    "dataset = pd.read_csv('https://raw.githubusercontent.com/Sid-darthvader/DoWhy-The-Causal-Story-Behind-Hotel-Booking-Cancellations/master/hotel_bookings.csv')\n",
    "dataset.head()"
   ]
  },
  {
   "cell_type": "code",
   "execution_count": null,
   "metadata": {
    "scrolled": true
   },
   "outputs": [],
   "source": [
    "dataset.columns"
   ]
  },
  {
   "cell_type": "markdown",
   "metadata": {},
   "source": [
    "## Feature Engineering & Pre-Processing\n",
    "\n",
    "Lets create some new and meaningful features so as to reduce the dimensionality of the dataset. \n",
    "The following features have been created:\n",
    "\n",
    "- Total Stay = stays_in_weekend_nights + stays_in_week_nights\n",
    "- Guests = adults + children + babies\n",
    "- Different_room_assigned = 1 if reserved_room_type & assigned_room_type are different, 0 otherwise.\n",
    "\n",
    "We also remove other columns that either contain *NULL* values or have too many unique values (e.g., *agent ID*). \n",
    "We also impute missing values of the *country* column with the most frequent country. We remove *distribution_channel* since it has a high overlap with *market_segment*."
   ]
  },
  {
   "cell_type": "code",
   "execution_count": null,
   "metadata": {},
   "outputs": [],
   "source": [
    "# Total stay in nights\n",
    "dataset['total_stay'] = dataset['stays_in_week_nights']+dataset['stays_in_weekend_nights']\n",
    "# Total number of guests\n",
    "dataset['guests'] = dataset['adults']+dataset['children'] +dataset['babies']\n",
    "# Delete rows where guests=nan\n",
    "dataset = dataset.drop(dataset.loc[pd.isna(dataset[\"guests\"]), :].index)\n",
    "# Creating the different_room_assigned feature\n",
    "dataset['different_room_assigned']=0\n",
    "slice_indices =dataset['reserved_room_type']!=dataset['assigned_room_type']\n",
    "dataset.loc[slice_indices,'different_room_assigned']=1\n",
    "# Deleting older features\n",
    "dataset = dataset.drop(['stays_in_week_nights','stays_in_weekend_nights','adults','children','babies'\n",
    "                        ,'reserved_room_type','assigned_room_type', 'required_car_parking_spaces', \n",
    "                        'total_of_special_requests', 'adr', 'distribution_channel', 'deposit_type'],axis=1)\n",
    "dataset.columns"
   ]
  },
  {
   "cell_type": "code",
   "execution_count": null,
   "metadata": {},
   "outputs": [],
   "source": [
    "dataset.isnull().sum() # Country,Agent,Company contain 488,16340,112593 missing entries \n",
    "dataset = dataset.drop(['agent','company'],axis=1)\n",
    "# Replacing missing countries with most freqently occuring countries\n",
    "dataset['country']= dataset['country'].fillna(dataset['country'].mode()[0])\n",
    "\n",
    "dataset = dataset.drop(['reservation_status','reservation_status_date','arrival_date_day_of_month'],axis=1)\n",
    "dataset = dataset.drop(['arrival_date_year'],axis=1)\n",
    "\n",
    "# Replacing 1 by True and 0 by False for the experiment and outcome variables\n",
    "dataset['different_room_assigned']= dataset['different_room_assigned'].replace(1,True)\n",
    "dataset['different_room_assigned']= dataset['different_room_assigned'].replace(0,False)\n",
    "dataset['is_canceled']= dataset['is_canceled'].replace(1,True)\n",
    "dataset['is_canceled']= dataset['is_canceled'].replace(0,False)\n",
    "dataset.head()"
   ]
  },
  {
   "cell_type": "markdown",
   "metadata": {},
   "source": [
    "### Calculating expected counts\n",
    "\n",
    "Since the number of number of cancellations and the number of times a different room was assigned is heavily imbalanced, we first choose 1000 observations at random to see that in how many cases do the variables; '*is_cancelled*' & '*different_room_assigned*' attain the same values. This whole process is then repeated 10000 times and the expected count turns out to be 51.8% which is almost 50% (i.e. the probability of these two variables attaining the same value at random). So statistically speaking, we have no definite conclusion at this stage. Thus assigning rooms different to what a customer had reserved during his booking earlier, may or may not lead to him/her cancelling that booking."
   ]
  },
  {
   "cell_type": "code",
   "execution_count": null,
   "metadata": {},
   "outputs": [],
   "source": [
    "counts_sum=0\n",
    "for i in range(1,10000):\n",
    "        counts_i = 0\n",
    "        rdf = dataset.sample(1000)\n",
    "        counts_i = rdf[rdf[\"is_canceled\"]== rdf[\"different_room_assigned\"]].shape[0]\n",
    "        counts_sum+= counts_i\n",
    "counts_sum/10000"
   ]
  },
  {
   "cell_type": "markdown",
   "metadata": {},
   "source": [
    "We now consider the scenario when there were no booking changes and recalculate the expected count."
   ]
  },
  {
   "cell_type": "code",
   "execution_count": null,
   "metadata": {},
   "outputs": [],
   "source": [
    "# Expected Count when there are no booking changes = 49.2%\n",
    "counts_sum=0\n",
    "for i in range(1,10000):\n",
    "        counts_i = 0\n",
    "        rdf = dataset[dataset[\"booking_changes\"]==0].sample(1000)\n",
    "        counts_i = rdf[rdf[\"is_canceled\"]== rdf[\"different_room_assigned\"]].shape[0]\n",
    "        counts_sum+= counts_i\n",
    "counts_sum/10000"
   ]
  },
  {
   "cell_type": "markdown",
   "metadata": {},
   "source": [
    "In the 2nd case, we take the scenario when there were booking changes(>0) and recalculate the expected count."
   ]
  },
  {
   "cell_type": "code",
   "execution_count": null,
   "metadata": {},
   "outputs": [],
   "source": [
    "# Expected Count when there are booking changes = 66.4%\n",
    "counts_sum=0\n",
    "for i in range(1,10000):\n",
    "        counts_i = 0\n",
    "        rdf = dataset[dataset[\"booking_changes\"]>0].sample(1000)\n",
    "        counts_i = rdf[rdf[\"is_canceled\"]== rdf[\"different_room_assigned\"]].shape[0]\n",
    "        counts_sum+= counts_i\n",
    "counts_sum/10000"
   ]
  },
  {
   "cell_type": "markdown",
   "metadata": {},
   "source": [
    "There is definitely some change happening when the number of booking changes are non-zero. So it gives us a hint that *Booking Changes* must be a confounding variable.\n",
    "\n",
    "But is *Booking Changes* the only confounding variable? What if there were some unobserved confounders, regarding which we have no information(feature) present in our dataset. Would we still be able to make the same claims as before?"
   ]
  },
  {
   "cell_type": "markdown",
   "metadata": {},
   "source": [
    "## Causal discovery\n",
    "\n",
    "### Step-1: Create a causal graph\n",
    "\n",
    "Represent your prior knowledge about the predictive modelling problem as a graph using assumptions. Even a partial graph would be enough (the rest can be figured out by DoWhy).\n",
    "\n",
    "Here are a list of assumptions that have then been translated into a Causal Diagram:\n",
    "\n",
    "- Market Segment has 2 levels, \"TA\" refers to the \"Travel Agents\" and \"TO\" means \"Tour Operators\" so it should affect the *Lead Time* (which is simply the number of days between booking and arrival).\n",
    "\n",
    "- Country would also play a role in deciding whether a person books early or not (hence more *Lead Time*) and what type of *Meal* a person would prefer.\n",
    "\n",
    "- *Lead Time* would definitely affected the number of *Days in Waitlist* (There are lesser chances of finding a reservation if you’re booking late). Additionally, higher *Lead Times* can also lead to *Cancellations*.\n",
    "\n",
    "- The number of *Days in Waitlist*, the *Total Stay* in nights and the number of *Guests* might affect whether the booking is cancelled or retained.\n",
    "\n",
    "- *Previous Booking Retentions* would affect whether a customer is a *Repeated Guest* or not. Additionally, both of these variables would affect whether the booking get cancelled or not (Ex- A customer who has retained his past 5 bookings in the past has a higher chance of retaining this one also. Similarly a person who has been cancelling this booking has a higher chance of repeating the same).\n",
    "\n",
    "- *Booking Changes* would affect whether the customer is assigned a different room or not which might also lead to *cancellation*.\n",
    "\n",
    "- Finally, the number of *Booking Changes* being the only confounder affecting *Treatment* and *Outcome* is highly unlikely and its possible that there might be some *Unobsevered Confounders*, regarding which we have no information being captured in our data."
   ]
  },
  {
   "cell_type": "code",
   "execution_count": null,
   "metadata": {},
   "outputs": [],
   "source": [
    "import pygraphviz\n",
    "causal_graph = \"\"\"digraph {\n",
    "different_room_assigned[label=\"Different Room Assigned\"];\n",
    "is_canceled[label=\"Booking Cancelled\"];\n",
    "booking_changes[label=\"Booking Changes\"];\n",
    "previous_bookings_not_canceled[label=\"Previous Booking Retentions\"];\n",
    "days_in_waiting_list[label=\"Days in Waitlist\"];\n",
    "lead_time[label=\"Lead Time\"];\n",
    "market_segment[label=\"Market Segment\"];\n",
    "country[label=\"Country\"];\n",
    "U[label=\"Unobserved Confounders\",observed=\"no\"];\n",
    "is_repeated_guest;\n",
    "total_stay;\n",
    "guests;\n",
    "meal;\n",
    "hotel;\n",
    "\n",
    "U->{different_room_assigned,guests,total_stay,total_of_special_requests};\n",
    "market_segment -> lead_time;\n",
    "lead_time->is_canceled; country -> lead_time;\n",
    "different_room_assigned -> is_canceled;\n",
    "country->meal;\n",
    "lead_time -> days_in_waiting_list;\n",
    "days_in_waiting_list ->{is_canceled,different_room_assigned};\n",
    "previous_bookings_not_canceled -> is_canceled;\n",
    "previous_bookings_not_canceled -> is_repeated_guest;\n",
    "is_repeated_guest -> {different_room_assigned,is_canceled};\n",
    "total_stay -> is_canceled;\n",
    "guests -> is_canceled;\n",
    "booking_changes -> different_room_assigned; booking_changes -> is_canceled;\n",
    "hotel -> {different_room_assigned,is_canceled};\n",
    "}\"\"\""
   ]
  },
  {
   "cell_type": "code",
   "execution_count": null,
   "metadata": {},
   "outputs": [],
   "source": [
    "model= dowhy.CausalModel(\n",
    "        data = dataset,\n",
    "        graph=causal_graph.replace(\"\\n\", \" \"),\n",
    "        treatment='different_room_assigned',\n",
    "        outcome='is_canceled')\n",
    "model.view_model()\n",
    "from IPython.display import Image, display\n",
    "display(Image(filename=\"causal_model.png\"))"
   ]
  },
  {
   "cell_type": "markdown",
   "metadata": {},
   "source": [
    "### Step-2: Identify the Causal Effect\n",
    "\n",
    "**We say that Treatment causes Outcome if changing Treatment leads to a change in Outcome keeping everything else constant**. \n",
    "Thus in this step, by using properties of the causal graph, we identify the causal effect to be estimated.\n",
    "\n",
    "Keeping everything else constant can be thought by imagining a Counterfactual World or a paralell universe where everything was same uptill the point when the treatment was introduced. In the factual world the treatment was provided whereas in the Counterfactual world it wasn’t. Thus any change in Outcome that we might be observing would be solely due to the Treatment.\n",
    "\n",
    "Thus in this step, by using properties of the causal graph, we identify the causal effect to be estimated."
   ]
  },
  {
   "cell_type": "code",
   "execution_count": null,
   "metadata": {},
   "outputs": [],
   "source": [
    "#Identify the causal effect\n",
    "identified_estimand = model.identify_effect()\n",
    "print(identified_estimand)"
   ]
  },
  {
   "cell_type": "markdown",
   "metadata": {},
   "source": [
    "### Step-3: Estimate identified cause\n",
    "\n",
    "Causal effect is the magnitude by which the Outcome changes due to a unit change in Treatment."
   ]
  },
  {
   "cell_type": "code",
   "execution_count": null,
   "metadata": {},
   "outputs": [],
   "source": [
    "estimate = model.estimate_effect(identified_estimand,\n",
    "                                 method_name=\"backdoor.propensity_score_weighting\",target_units=\"ate\")\n",
    "# ATE = Average Treatment Effect\n",
    "# ATT = Average Treatment Effect on Treated (i.e. those who were assigned a different room)\n",
    "# ATC = Average Treatment Effect on Control (i.e. those who were not assigned a different room)\n",
    "print(estimate)"
   ]
  },
  {
   "cell_type": "markdown",
   "metadata": {},
   "source": [
    "The result is surprising. It means that having a different room assigned **decreases** the chances of a cancellation. "
   ]
  },
  {
   "cell_type": "markdown",
   "metadata": {},
   "source": [
    "### Step 4: Refute the obtained results\n",
    "\n",
    "Note that the causal part does not come from data. It comes from your assumptions that lead to identification. Data is simply used for statistical estimation. Thus it becomes critical to verify whether our assumptions were even correct in the first step or not!\n",
    "\n",
    "There exist several different refutation methods to verify our assumptions:\n",
    "\n",
    "- **Add Random Common Cause:** Adds randomly drawn covariates to data and re-runs the analysis to see if the causal estimate changes or not. If our assumption was originally correct then there shouldn’t much variation in the causal estimate. In other words, does the estimation method change its estimate after we add an independent random variable as a common cause to the dataset? *(It should not)*"
   ]
  },
  {
   "cell_type": "code",
   "execution_count": null,
   "metadata": {},
   "outputs": [],
   "source": [
    "refute1_results=model.refute_estimate(identified_estimand, estimate,\n",
    "        method_name=\"random_common_cause\")\n",
    "print(refute1_results)"
   ]
  },
  {
   "cell_type": "markdown",
   "metadata": {},
   "source": [
    "- **Placebo Treatment:** What happens to the estimated causal effect when we replace the true treatment variable with an independent random variable? *(The effect should go to zero)*"
   ]
  },
  {
   "cell_type": "code",
   "execution_count": null,
   "metadata": {},
   "outputs": [],
   "source": [
    "refute2_results=model.refute_estimate(identified_estimand, estimate,\n",
    "        method_name=\"placebo_treatment_refuter\")\n",
    "print(refute2_results)"
   ]
  },
  {
   "cell_type": "markdown",
   "metadata": {},
   "source": [
    "### Notes:\n",
    "\n",
    "By using multiple robustness checks, we have validated that our causal assumptions were indeed correct!\n",
    "\n",
    "This tells us that on an average the Probability of a hotel booking being cancelled decreases by ~35.4% when the Person is assigned the same room compared to the case when he is assigned a different room than what he had chosen during booking.\n",
    "\n",
    "However, tere could also be other mechanisms at play. Perhaps assigning a different room only happens at check-in, and the chances of a cancellation once the customer is already at the hotel are low? In that case, the graph is missing a critical variable on when these events happen. Does *different_room_assigned* happen mostly on the day of the booking? Knowing that variable can help improve the graph and our analysis."
   ]
  }
 ],
 "metadata": {
  "kernelspec": {
   "display_name": "Python 3 (ipykernel)",
   "language": "python",
   "name": "python3"
  },
  "language_info": {
   "codemirror_mode": {
    "name": "ipython",
    "version": 3
   },
   "file_extension": ".py",
   "mimetype": "text/x-python",
   "name": "python",
   "nbconvert_exporter": "python",
   "pygments_lexer": "ipython3",
   "version": "3.7.13"
  },
  "vscode": {
   "interpreter": {
    "hash": "f82454df3ab4669350e470cecfad51160e6fdff8e76eafd19d8880dd92d922a3"
   }
  }
 },
 "nbformat": 4,
 "nbformat_minor": 2
}
