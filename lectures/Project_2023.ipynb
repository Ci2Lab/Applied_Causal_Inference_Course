{
 "cells": [
  {
   "attachments": {},
   "cell_type": "markdown",
   "metadata": {},
   "source": [
    "# Course project\n",
    "\n",
    "This is a group project. Each group will have 2 members. \n",
    "Some parts of the required knowdelge to do the project is covered in lectures. However, students should do some research and investigation to fullfill the project.  \n",
    "\n",
    "The submission include a Jupyter Notebook that explain the use case/dataset, the metholdofy, the used libraries and the results with proper visualization and discussion.\n",
    "Moreover, each team is asked to present their work in a 10-15 minutes recorded video within 2 weeks from the end of the course. More information on submission will be provided later.\n",
    "\n",
    "## Step 1: Data selection\n",
    "Find a dataset of your choice. Datasets can be discrete or continuous. \n",
    "\n",
    "A. We encourage you to select a dataset from your self. The dataset can come from your PhD research or other topics. Talk to your advisers.\n",
    "\n",
    "\n",
    "B. However, if you cannot find any datasets, you can choose one of the following options:\n",
    "\n",
    "1. **Anomalies in a Telecommunication Network**\n",
    "    \n",
    "    Dataset: https://competition.huaweicloud.com/information/1000041487/circumstance\n",
    "\n",
    "2. **Electricity Consumption in Tetouan City, Morocco**\n",
    "\n",
    "    Paper: https://ieeexplore.ieee.org/document/8703007\n",
    "    \n",
    "    Dataset: https://archive.ics.uci.edu/ml/datasets/Power+consumption+of+Tetouan+city\n",
    "\n",
    "3. **Condition Monitoring of a Hydraulic System**\n",
    "\n",
    "    Paper: https://ieeexplore.ieee.org/document/7151267\n",
    "    \n",
    "    Dataset: https://archive-beta.ics.uci.edu/dataset/447/condition+monitoring+of+hydraulic+systems\n",
    "\n",
    "If you like to try another dataset, still you have a chance for it!\n",
    "Check the [UC Irvine Machine Learning Repository](https://archive-beta.ics.uci.edu/) and pick one of them. \n",
    "\n",
    "\n",
    "## Step 2: Structure learning\n",
    "\t\t\n",
    "Use a library of your choice (for example [bnlearn](https://erdogant.github.io/bnlearn/pages/html/index.html), [cdt](https://fentechsolutions.github.io/CausalDiscoveryToolbox/html/index.html) or [pgmpy](https://pgmpy.org/) (for example [gcatsle](....) to retrieve the causal graph from the selected dataset. \n",
    "\n",
    "**Your are encouraged to use and compare different methods for structure learning.** \n",
    "\n",
    "## Step 3: Validation\n",
    "\n",
    "1. **Does the extracted DAG make sense?**\n",
    "\n",
    "    - Can you test the cause-effect relationship between nodes using analitycal approaches? (e.g., mutual information, chi-square independence test, entropy, etc...). Feel free to pick your metric.\n",
    "    - Can you support the extracted DAG with some domain explanation?\n",
    "\n",
    "2. **Can you make the DAG simpler by pruning the weaker causal relations?**\n",
    "\n",
    "\n",
    "\n",
    "\n",
    "\n"
   ]
  }
 ],
 "metadata": {
  "kernelspec": {
   "display_name": "Python 3 (ipykernel)",
   "language": "python",
   "name": "python3"
  },
  "language_info": {
   "codemirror_mode": {
    "name": "ipython",
    "version": 3
   },
   "file_extension": ".py",
   "mimetype": "text/x-python",
   "name": "python",
   "nbconvert_exporter": "python",
   "pygments_lexer": "ipython3",
   "version": "3.7.13"
  }
 },
 "nbformat": 4,
 "nbformat_minor": 2
}
