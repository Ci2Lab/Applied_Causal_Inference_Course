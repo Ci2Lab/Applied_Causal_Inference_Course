{
 "cells": [
  {
   "attachments": {},
   "cell_type": "markdown",
   "metadata": {},
   "source": [
    "# Course project\n",
    "\n",
    "This is a group project. Each group will have 2 members. \n",
    "Some parts of the required knowdelge to do the project is covered in lectures. However, students should do some research and investigation to fullfill the project.  \n",
    "\n",
    "The submission include a Jupyter Notebook that explain the use case/dataset, the metholdofy, the used libraries and the results with proper visualization and discussion.\n",
    "Moreover, each team is asked to present their work in a 10-15 minutes recorded video within 2 weeks from the end of the course. More information on submission will be provided later.\n",
    "\n",
    "## Step 1: Data selection\n",
    "Find a dataset of your choice. It can come from your PhD research or other topics as well. Datasets can be discrete or continuous.\n",
    "We encourage you to select a dataset from your self. However, if you cannot find any datasets, you can choose one of the following options:\n",
    "\n",
    "1. \n",
    "2. \n",
    "3.\n",
    "\n",
    "\n",
    "## Step 2: Structure learning\n",
    "\t\t\n",
    "Use a library of your choice (for example [bnlearn](https://erdogant.github.io/bnlearn/pages/html/index.html), [cdt](https://fentechsolutions.github.io/CausalDiscoveryToolbox/html/index.html) or [pgmpy](https://pgmpy.org/) (for example [gcatsle](....) to retrieve the causal graph from the selected dataset. \n",
    "\n",
    "**Your are encouraged to use and compare different methods for structure learning.** \n",
    "\n",
    "## Step 3: Validation\n",
    "\n",
    "1. **Does the extracted DAG make sense?**\n",
    "\n",
    "    - Can you test the cause-effect relationship between nodes using analitycal approaches? (e.g., mutual information, chi-square independence test, entropy, etc...). Feel free to pick your metric.\n",
    "    - Can you support the extracted DAG with some domain explanation?\n",
    "\n",
    "2. **Can you make the DAG simpler by pruning the weaker causal relations?**\n",
    "\n",
    "\n",
    "\n",
    "\n",
    "\n"
   ]
  }
 ],
 "metadata": {
  "language_info": {
   "name": "python"
  },
  "orig_nbformat": 4
 },
 "nbformat": 4,
 "nbformat_minor": 2
}
