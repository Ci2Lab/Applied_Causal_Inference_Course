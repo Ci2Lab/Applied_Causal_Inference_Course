{
 "cells": [
  {
   "cell_type": "markdown",
   "metadata": {},
   "source": [
    "## Let's make another model using Structure Learning\n",
    "\n",
    "Use a library of your choice (for example [bnlearn](https://erdogant.github.io/bnlearn/pages/html/index.html), [cdt](https://fentechsolutions.github.io/CausalDiscoveryToolbox/html/index.html) or [pgmpy](https://pgmpy.org/) to retrieve the causal graph from the following dataset. \n",
    "\t\t\n",
    "\n",
    "- **Your are encouraged to use and compare different methods for structure learning.** \n",
    "- **Use some explanations to support your results. Do the results make sense based on your knowledge?**\n",
    "\n",
    "### Car Fuel Consumption Database\n",
    "\n",
    "This dataset was taken from the *StatLib* library which is maintained at Carnegie Mellon University. The dataset was used in the 1983 American Statistical Association Exposition.\n",
    "It is a collection of 392 cars, each with some following \"attributes\".\t\n",
    "The dataset has been acquired from (https://archive.ics.uci.edu/ml/datasets/auto+mpg). You can import directly using pandas as:"
   ]
  },
  {
   "cell_type": "code",
   "execution_count": 1,
   "metadata": {},
   "outputs": [],
   "source": [
    "import pandas as pd\n",
    "data_mpg = pd.read_csv('http://archive.ics.uci.edu/ml/machine-learning-databases/auto-mpg/auto-mpg.data-original')"
   ]
  },
  {
   "cell_type": "markdown",
   "metadata": {},
   "source": [
    "You can remove some entries like \"model year\", \"origin\", \"car name\". The remaining columns are as follows:\n",
    "\n",
    "**mpg** (miles-per-gallon) | **cylinders** | **displacement** | **horsepower** | **weight** | **acceleration**"
   ]
  },
  {
   "cell_type": "code",
   "execution_count": null,
   "metadata": {},
   "outputs": [],
   "source": []
  }
 ],
 "metadata": {
  "kernelspec": {
   "display_name": "Python 3 (ipykernel)",
   "language": "python",
   "name": "python3"
  },
  "language_info": {
   "codemirror_mode": {
    "name": "ipython",
    "version": 3
   },
   "file_extension": ".py",
   "mimetype": "text/x-python",
   "name": "python",
   "nbconvert_exporter": "python",
   "pygments_lexer": "ipython3",
   "version": "3.7.13"
  },
  "vscode": {
   "interpreter": {
    "hash": "f82454df3ab4669350e470cecfad51160e6fdff8e76eafd19d8880dd92d922a3"
   }
  }
 },
 "nbformat": 4,
 "nbformat_minor": 2
}
