{
 "cells": [
  {
   "cell_type": "code",
   "execution_count": 1,
   "metadata": {},
   "outputs": [
    {
     "name": "stderr",
     "output_type": "stream",
     "text": [
      "c:\\Users\\miche\\anaconda3\\lib\\site-packages\\numpy\\_distributor_init.py:30: UserWarning: loaded more than 1 DLL from .libs:\n",
      "c:\\Users\\miche\\anaconda3\\lib\\site-packages\\numpy\\.libs\\libopenblas.EL2C6PLE4ZYW3ECEVIV3OXXGRN2NRFM2.gfortran-win_amd64.dll\n",
      "c:\\Users\\miche\\anaconda3\\lib\\site-packages\\numpy\\.libs\\libopenblas.WCDJNK7YVMPZQ2ME2ZZHJJRJ3JIKNDB7.gfortran-win_amd64.dll\n",
      "  warnings.warn(\"loaded more than 1 DLL from .libs:\"\n"
     ]
    }
   ],
   "source": [
    "from __future__ import division\n",
    "\n",
    "import numpy as np\n",
    "import pandas as pd\n",
    "import matplotlib.pyplot as plt\n",
    "import seaborn as sns\n",
    "\n",
    "sns.set_style(\"whitegrid\")\n",
    "sns.set_palette(\"colorblind\")\n",
    "\n",
    "%matplotlib inline\n",
    "\n",
    "import utils as dg"
   ]
  },
  {
   "cell_type": "markdown",
   "metadata": {},
   "source": [
    "In this lesson, we will be using the excellent [`CausalInference`](http://causalinferenceinpython.org/) package to give an overview of how we can use the potential outcomes framework to try and make causal inferences about situations where we only have observational data. \n",
    "We will be using be using my own functions to generate data. This has two advantages: we can and will generate datasets with specific properties, and we have the ability to \"intervene\" in the data generating system directly, giving us the ability to check whether our inferences are correct.\n",
    "\n",
    "To begin, let's look at a motivating example.\n",
    "\n",
    "# Introduction\n",
    "\n",
    "One day a team lead notices that some members of their team wear red shirts, and that these members of the team tend to be less productive. Being data drive, the Team Lead starts to record whether or not a team member wears a red shirt ($X=1$ for a red shirtt, $X=0$ for no red shirt) and whether or not they are productive ($Y=1$ for productive, $Y=0$ for unproductive).\n",
    "\n",
    "After making observations for a week, they end up with a dataset like the following:"
   ]
  },
  {
   "cell_type": "code",
   "execution_count": 2,
   "metadata": {},
   "outputs": [
    {
     "data": {
      "text/html": [
       "<div>\n",
       "<style scoped>\n",
       "    .dataframe tbody tr th:only-of-type {\n",
       "        vertical-align: middle;\n",
       "    }\n",
       "\n",
       "    .dataframe tbody tr th {\n",
       "        vertical-align: top;\n",
       "    }\n",
       "\n",
       "    .dataframe thead th {\n",
       "        text-align: right;\n",
       "    }\n",
       "</style>\n",
       "<table border=\"1\" class=\"dataframe\">\n",
       "  <thead>\n",
       "    <tr style=\"text-align: right;\">\n",
       "      <th></th>\n",
       "      <th>x</th>\n",
       "      <th>y</th>\n",
       "    </tr>\n",
       "  </thead>\n",
       "  <tbody>\n",
       "    <tr>\n",
       "      <th>0</th>\n",
       "      <td>1</td>\n",
       "      <td>0</td>\n",
       "    </tr>\n",
       "    <tr>\n",
       "      <th>1</th>\n",
       "      <td>0</td>\n",
       "      <td>0</td>\n",
       "    </tr>\n",
       "    <tr>\n",
       "      <th>2</th>\n",
       "      <td>0</td>\n",
       "      <td>0</td>\n",
       "    </tr>\n",
       "    <tr>\n",
       "      <th>3</th>\n",
       "      <td>0</td>\n",
       "      <td>1</td>\n",
       "    </tr>\n",
       "    <tr>\n",
       "      <th>4</th>\n",
       "      <td>0</td>\n",
       "      <td>1</td>\n",
       "    </tr>\n",
       "  </tbody>\n",
       "</table>\n",
       "</div>"
      ],
      "text/plain": [
       "   x  y\n",
       "0  1  0\n",
       "1  0  0\n",
       "2  0  0\n",
       "3  0  1\n",
       "4  0  1"
      ]
     },
     "execution_count": 2,
     "metadata": {},
     "output_type": "execute_result"
    }
   ],
   "source": [
    "observed_data_0 = dg.generate_dataset_0()\n",
    "\n",
    "observed_data_0.head()"
   ]
  },
  {
   "cell_type": "markdown",
   "metadata": {},
   "source": [
    "The first question the team lead asks is: are people wearing red shirts more likely to be productive that those who don't? This means estimating the quantity\n",
    "\n",
    "$P(Y=1|X=1) - (Y=1|X=0)$\n",
    "\n",
    "which we can do directly from the data:"
   ]
  },
  {
   "cell_type": "code",
   "execution_count": 3,
   "metadata": {},
   "outputs": [
    {
     "data": {
      "text/plain": [
       "{'estimated_effect': -0.1785995912389965,\n",
       " 'standard_error': 0.08667752928545812}"
      ]
     },
     "execution_count": 3,
     "metadata": {},
     "output_type": "execute_result"
    }
   ],
   "source": [
    "def estimate_uplift(ds):\n",
    "    \"\"\"\n",
    "    Estimate the difference in means between two groups.\n",
    "    \n",
    "    Parameters\n",
    "    ----------\n",
    "    ds: pandas.DataFrame\n",
    "        a dataframe of samples.\n",
    "        \n",
    "    Returns\n",
    "    -------\n",
    "    estimated_uplift: dict[Str: float] containing two items:\n",
    "        \"estimated_effect\" - the difference in mean values of $y$ for treated and untreated samples.\n",
    "        \"standard_error\" - 90% confidence intervals arround \"estimated_effect\"\n",
    "        \n",
    "        \n",
    "    \"\"\"\n",
    "    base = ds[ds.x == 0]\n",
    "    variant = ds[ds.x == 1]\n",
    "    \n",
    "    delta = variant.y.mean() - base.y.mean()\n",
    "    delta_err = 1.96 * np.sqrt(\n",
    "        variant.y.var() / variant.shape[0] + \n",
    "        base.y.var() / base.shape[0])\n",
    "    \n",
    "    return {\"estimated_effect\": delta, \"standard_error\": delta_err}\n",
    "\n",
    "estimate_uplift(observed_data_0)"
   ]
  },
  {
   "cell_type": "markdown",
   "metadata": {},
   "source": [
    "It looks like people with red shirts are less productive. \n",
    "\n",
    "We can use this information to make statements about what we might think about someone's probability if we see them wearing a red shirt. As long as we believe that they are \"drawn from the same distribution\" as our previous observations, we expect the same correlations to exist. \n",
    "\n",
    "The problem comes if we try to use this information as an argument about whether or not the team lead should **force** people to wear red shirts. If the team lead does this they fundamentally change the system we are sampling from, potentially altering or even reversing any correlations we observed before.\n",
    "\n",
    "The cleanest way to actually measure the effect of some change in a system is by running a [randomized control trial](https://en.wikipedia.org/wiki/Randomized_controlled_trial). Specifically, we want to randomize who gets red shirts and who doesn't, and look at the different values of $y$ we receive. This removes the effect of any [confounding variables](https://en.wikipedia.org/wiki/Confounding) which might be influencing the metric we care about.\n",
    "\n",
    "Because we generated our dataset from a known process (in this case a function I wrote), we can intervene in it directly and measure the effect of an A/B test:"
   ]
  },
  {
   "cell_type": "code",
   "execution_count": 4,
   "metadata": {},
   "outputs": [
    {
     "data": {
      "text/plain": [
       "{'estimated_effect': 0.19659999999999994,\n",
       " 'standard_error': 0.019208777739805553}"
      ]
     },
     "execution_count": 4,
     "metadata": {},
     "output_type": "execute_result"
    }
   ],
   "source": [
    "def run_ab_test(datagenerator, n_samples=10000, filter_=None):\n",
    "    \"\"\"\n",
    "    Generates n_samples from datagenerator with the value of X randomized\n",
    "    so that 50% of the samples receive treatment X=1 and 50% receive X=0,\n",
    "    and feeds the results into \"estimate_uplift\" to get an unbiased \n",
    "    estimate of the average treatment effect.\n",
    "    \n",
    "    Returns\n",
    "    -------\n",
    "    effect: dict\n",
    "    \"\"\"\n",
    "    n_samples_a = int(n_samples / 2)\n",
    "    n_samples_b = n_samples - n_samples_a\n",
    "    set_X = np.concatenate([np.ones(n_samples_a), np.zeros(n_samples_b)]).astype(np.int64)\n",
    "    ds = datagenerator(n_samples=n_samples, set_X=set_X)\n",
    "    if filter_ != None:\n",
    "        ds = ds[filter_(ds)].copy()\n",
    "    return estimate_uplift(ds)\n",
    "\n",
    "run_ab_test(dg.generate_dataset_0)"
   ]
  },
  {
   "cell_type": "markdown",
   "metadata": {},
   "source": [
    "Suddenly, it looks like the direction of the effect of wearing red shirts has reversed. \n",
    "\n",
    "What's going on?\n",
    "\n",
    "Note: In the above example, and in all following examples, we are assuming that our samples are [i.i.d.](https://en.wikipedia.org/wiki/Independent_and_identically_distributed_random_variables), and obey the [Stable unit treatment value assumption (SUTVA)](https://en.wikipedia.org/wiki/Rubin_causal_model#Stable_unit_treatment_value_assumption_%28SUTVA%29). Basically this means that when one person chooses, or is forced to wear a red shirt they have no influence on the choice or effect of another person wearing a red shirt. By construction, the synthetic datagenerators we use all have this property. In reality it is yet another thing you have to assume to be true."
   ]
  },
  {
   "cell_type": "markdown",
   "metadata": {
    "cell_id": "2af0f94f-a505-4c90-9d16-988bb6956eaf",
    "deepnote_cell_height": 578.6875,
    "deepnote_cell_type": "markdown",
    "owner_user_id": "6d4b6780-4c9b-422a-b280-80fd46703815"
   },
   "source": [
    "# Chapter 2 Discussion: Statistical Paradoxes in Causal Inference\n",
    "\n",
    "Observation bias and sub-group differences can easily produce statistical paradoxes in any data science application.\n",
    "Here we can see the most common paradoxes encountered in data science with the new language of DAGs.\n",
    "\n",
    "<br/><br/>\n",
    "## Simpson's Paradox\n",
    "\n",
    "Simpson’s paradox is often presented as a compelling demonstration of why we need statistics education in our schools. It is a reminder of how easy it is to fall into a web of paradoxical conclusions when relying solely on intuition, unaided by rigorous statistical methods. The paradox can demonstrate the limits of statistical methods, and why causal, rather than statistical considerations are necessary to avoid those paradoxical conclusions [Judea Pearl, 2014](https://ftp.cs.ucla.edu/pub/stat_ser/r414.pdf).\n",
    "\n",
    "Simpson' Paradox occurs when an observed relationship between two variables is reversed when you take into account another variable.\n",
    "\n",
    "### Example 1: Effective Treatment\n",
    "\n",
    "Imagine we are trying to work out whether a certain drug is an effective treatment for a disease. To decide whether it is effective, we compare people who took the treatment by examining how many of each recovered from the disease."
   ]
  },
  {
   "cell_type": "code",
   "execution_count": 5,
   "metadata": {
    "cell_id": "00001-065bba9e-92f4-48a9-a5c7-12740ba17b1b",
    "deepnote_cell_height": 465,
    "deepnote_cell_type": "code",
    "deepnote_output_heights": [
     206
    ]
   },
   "outputs": [
    {
     "data": {
      "text/html": [
       "<table ><tr ><th >group</th><th colspan='2'>treatment=0</th><th colspan='2'>treatment=1</th></tr><tr ><td >0</td><td >1/22</td><td >0.05</td><td ><b >18/109</b></td><td ><b >0.17</b></td></tr><tr ><td >1</td><td >1/5</td><td >0.20</td><td ><b >13/36</b></td><td ><b >0.36</b></td></tr><tr ><td >2</td><td >2/4</td><td >0.50</td><td ><b >3/5</b></td><td ><b >0.60</b></td></tr><tr ><td >3</td><td >61/91</td><td >0.67</td><td ><b >51/72</b></td><td ><b >0.71</b></td></tr><tr ><td >4</td><td >112/128</td><td >0.88</td><td ><b >25/28</b></td><td ><b >0.89</b></td></tr><tr ><td >total:</td><td ><b >177/250</b></td><td ><b >0.71</b></td><td >110/250</td><td >0.44</td></tr></table>"
      ],
      "text/plain": [
       "<IPython.core.display.HTML object>"
      ]
     },
     "execution_count": 5,
     "metadata": {},
     "output_type": "execute_result"
    }
   ],
   "source": [
    "import numpy as np\n",
    "import pandas as pd\n",
    "import matplotlib.pyplot as plt\n",
    "import seaborn as sns\n",
    "sns.set_theme()\n",
    "\n",
    "import utils as u\n",
    "from IPython.core.display import HTML\n",
    "\n",
    "HTML(u.create_table(pd.read_csv(\"data/Simpson_paradox_binary_example.csv\")))"
   ]
  },
  {
   "cell_type": "markdown",
   "metadata": {
    "cell_id": "00002-04afdd62-b5a2-49e9-bcac-462b621d23ac",
    "deepnote_cell_height": 214.734375,
    "deepnote_cell_type": "markdown"
   },
   "source": [
    "When we just look at the *total* value at the bottom in the table above, we find that of 250 people who took the drug, 110 recovered (44%), whereas out of the 250 people who did not take the drug 177 recovered (71%). From these results it looks like there is a clear advantage to not taking the drug. Unfortunately, this drug was not administered as part of a random controlled trial. This means that the decision of whether or not to take the drug may have been **confounded**.\n",
    "\n",
    "When we look at different age groups, our conclusion about the drug effectiveness is reversed.\n",
    "\n",
    "What's worse, is that it is possible that if we take into account another variable the correlation might be reversed again. This is why random controlled trials are so important for separating correlation and causation."
   ]
  },
  {
   "cell_type": "markdown",
   "metadata": {
    "cell_id": "00003-ff6a98b4-02fa-4243-a9cf-ab43da5d6618",
    "deepnote_cell_height": 145.171875,
    "deepnote_cell_type": "markdown"
   },
   "source": [
    "### Example 2: Two Distributions\n",
    "\n",
    "An effective way to visualize this paradox is considering a continuos distribution example. A simple example would be look at the Covariance between two variables, $x$ and $y$, which is one sign for a collection of subgroups, but a different sign for the whole population."
   ]
  },
  {
   "cell_type": "code",
   "execution_count": 6,
   "metadata": {
    "cell_id": "00004-3b1275d4-e086-4bef-b70c-3aaf1c994c2b",
    "deepnote_cell_height": 516,
    "deepnote_cell_type": "code"
   },
   "outputs": [],
   "source": [
    "def generate_gaussian_simpsons_paradox(n_subgroups=3, n_samples=1000):\n",
    "\n",
    "    overall_cov = 3*np.array([[1,0.9], [0.9,1]])\n",
    "\n",
    "    means = np.random.multivariate_normal(mean=[0,0], cov=overall_cov, size=n_subgroups)\n",
    "    \n",
    "    weights = np.random.uniform(size=n_subgroups)\n",
    "    weights /= np.sum(weights)\n",
    "    covs = [np.random.uniform(0.2,0.8) for _ in range(n_subgroups)]\n",
    "    covs = [np.array([[1,-c], [-c,1]]) for c in covs]\n",
    "\n",
    "\n",
    "    samples = []\n",
    "\n",
    "    for sg, (mean, cov, w) in enumerate(zip(means, covs, weights)):\n",
    "        n = int(round(n_samples * w))\n",
    "        sample = np.random.multivariate_normal(mean=mean, cov=cov, size=n)\n",
    "        sample = pd.DataFrame(sample, columns=[\"x\", \"y\"])\n",
    "        sample[\"z\"] = sg\n",
    "        samples.append(sample)\n",
    "        \n",
    "    df = pd.concat(samples)\n",
    "    \n",
    "    return df\n",
    "\n"
   ]
  },
  {
   "cell_type": "code",
   "execution_count": 7,
   "metadata": {
    "cell_id": "00005-356f68ca-b1ad-42bd-8879-67ff32b335df",
    "deepnote_cell_height": 262.75,
    "deepnote_cell_type": "code"
   },
   "outputs": [
    {
     "name": "stdout",
     "output_type": "stream",
     "text": [
      "Total Covariance: 2.237\n",
      "Subgroup 0 covariance: -0.688\n",
      "Subgroup 1 covariance: -0.252\n",
      "Subgroup 2 covariance: -0.604\n"
     ]
    }
   ],
   "source": [
    "np.random.seed(1)\n",
    "\n",
    "df = generate_gaussian_simpsons_paradox()\n",
    "print(\"Total Covariance: {:.3f}\".format(df[[\"x\", \"y\"]].cov().iloc[0,1]))\n",
    "for z in df.z.unique():\n",
    "    print(\"Subgroup {} covariance: {:.3f}\".format(z,df[df.z==z][[\"x\", \"y\"]].cov().iloc[0,1]))"
   ]
  },
  {
   "cell_type": "markdown",
   "metadata": {
    "cell_id": "00006-ff255bad-5b01-4b24-8fd3-600a244354c6",
    "deepnote_cell_height": 88.78125,
    "deepnote_cell_type": "markdown"
   },
   "source": [
    "This is clearer if we plot what's going on.\n",
    "\n",
    "For the overall population, there is a positive correlation between $x$ and $y$:"
   ]
  },
  {
   "cell_type": "code",
   "execution_count": 8,
   "metadata": {
    "cell_id": "00007-33a74aab-53b2-4cab-8263-a8760a269146",
    "deepnote_cell_height": 404,
    "deepnote_cell_type": "code",
    "deepnote_output_heights": [
     271
    ]
   },
   "outputs": [
    {
     "data": {
      "image/png": "[encoded data removed]",
      "text/plain": [
       "<Figure size 432x288 with 1 Axes>"
      ]
     },
     "metadata": {},
     "output_type": "display_data"
    }
   ],
   "source": [
    "sns.regplot(data=df, x=\"x\", y=\"y\");\n",
    "plt.xlim(-6,6);\n",
    "plt.ylim(-6,6);"
   ]
  },
  {
   "cell_type": "markdown",
   "metadata": {
    "cell_id": "00008-f6807f74-1db3-4328-920b-be24570730c0",
    "deepnote_cell_height": 52.390625,
    "deepnote_cell_type": "markdown"
   },
   "source": [
    "However for each subpopulation, the correlation is negative!"
   ]
  },
  {
   "cell_type": "code",
   "execution_count": 9,
   "metadata": {
    "cell_id": "00009-b1292730-35f5-4a68-a375-e04309c36251",
    "deepnote_cell_height": 476,
    "deepnote_cell_type": "code",
    "deepnote_output_heights": [
     271
    ]
   },
   "outputs": [
    {
     "data": {
      "image/png": "[encoded data removed]",
      "text/plain": [
       "<Figure size 432x288 with 1 Axes>"
      ]
     },
     "metadata": {},
     "output_type": "display_data"
    }
   ],
   "source": [
    "fig, ax = plt.subplots()\n",
    "\n",
    "plt.xlim(-6,6);\n",
    "plt.ylim(-6,6);\n",
    "\n",
    "for z in df.z.unique():\n",
    "    sns.regplot(data=df[df.z==z], x=\"x\", y=\"y\", ax=ax)"
   ]
  },
  {
   "cell_type": "markdown",
   "metadata": {
    "cell_id": "00010-1b54005f-8484-472e-aa64-318d1a0dfe01",
    "deepnote_cell_height": 1314.828125,
    "deepnote_cell_type": "markdown"
   },
   "source": [
    "<br/><br/>\n",
    "## Berkson’s Paradox\n",
    "\n",
    "A first example is the weird **observed negative association** between COVID-19 severity and smoking cigarettes. \n",
    "The work of Griffith 2020 recently published on Nature suggests that this can be a case of **Collider Bias**, also called **Berkson’s Paradox**.\n",
    "\n",
    ">Griffith, G.J., Morris, T.T., Tudball, M.J. et al. Collider bias undermines our understanding of COVID-19 disease risk and severity. Nat Commun 11, 5749 (2020). https://doi.org/10.1038/s41467-020-19478-2\n",
    "\n",
    "To understand this paradox, let us consider the following graphical model, where we include a third random variable: \"being hospitalized\".\n",
    "\n",
    "<img src=\"img/ch3/Berkson_paradox_Covid.png\" alt=\"drawing\" width=\"800\"/>\n",
    "\n",
    "This third variable \"being hospitalized\" is a **collider** of the first two. This means that both smoking cigarettes and having severe COVID-19 increase chances of being ill in a hospital. Berkson’s Paradox precisely arises when we condition on a collider, i.e. when we only observe data from hospitalized people rather than considering the whole population.\n",
    "\n",
    "\n",
    "Let’s consider the following example dataset. In the left figure we have observations from the whole population, while on the right figure we only consider a subset of hospitalized people (i.e. we condition on the collider variable).\n",
    "\n",
    "<img src=\"img/ch3/Berkson_paradox_Covid_plot.png\" alt=\"drawing\" width=\"800\"/>\n",
    "\n",
    "In the left figure we can observe the positive correlation between COVID-19 severity and smoking cigarettes that we expected as we know that smoking is a risk factor for respiratory diseases. However, in the right figure, where we only consider hospital patients, we see the opposite trend! \n",
    "\n",
    "To understand this, consider the following points:\n",
    "\n",
    "- Having high severity of COVID-19 increases chances of being hospitalized. In particular, if severity > 1 hospitalization is required.\n",
    "\n",
    "- Smoking several cigarettes a day is a major risk factor for a variety of diseases (heart attacks, cancer, diabetes), which increase the chances of being hospitalized for some reason.\n",
    "\n",
    "- Hence, if a hospital patient has lower COVID-19 severity, they have higher chances of smoking cigarettes! Indeed, they must have some disease different from COVID-19 (e.g. heart attacks, cancer, diabetes) to justify their hospitalization, and this disease may very well be caused by their smoking cigarettes."
   ]
  },
  {
   "cell_type": "markdown",
   "metadata": {
    "cell_id": "00011-76c31017-8905-49fc-b5c3-3ea46fee3a74",
    "deepnote_cell_height": 1208.265625,
    "deepnote_cell_type": "markdown",
    "owner_user_id": "a91a2c6a-0c99-4421-a773-926bd3919ed9"
   },
   "source": [
    "<br/><br/>\n",
    "## Latent Variables\n",
    "\n",
    "The presence of a latent variable may also produce an apparently inverted correlation between two variables. While Berkson’s Paradox arises because of the conditioning on a collider variable (which should therefore be avoided), this other kind of paradox can be fixed by conditioning on the latent variable (=fork in a DAG).\n",
    "\n",
    "Let’s consider, for instance, the relation between number of firefighter deployed to extinguish a fire and the number people that are injured in the fire. \n",
    "We would expect that having more firefighters would improve the outcome, yet a positive correlation is observed in aggregated data: the more firefighters are deployed, the higher the number of injured!\n",
    "\n",
    "To understand this paradox, let us consider the following graphical model. The key is to consider again a third random variable: “fire severity”.\n",
    "\n",
    "<img src=\"img/ch3/Fork_paradox_fire.png\" alt=\"drawing\" width=\"800\"/>\n",
    "\n",
    "This third latent variable positively correlates with the other two. Indeed, more severe fires tend to cause more injuries, and at the same time they require more firefighters to be extinguished.\n",
    "\n",
    "Let’s consider the following example dataset. In the left figure we have aggregated observations from all kinds of fires, while on the right figure we only consider observations corresponding to three fixed degrees of fire severity (i.e. we condition our observations on the latent variable).\n",
    "\n",
    "<img src=\"img/ch3/Fork_paradox_fire_plot.png\" alt=\"drawing\" width=\"800\"/>\n",
    "\n",
    "In the right figure, where we condition observations on the degrees of fire severity, we can see the negative correlation we would have expected:\n",
    "\n",
    "- For a fire of given severity we can indeed observe that the more the firefighters deployed, the fewer the injured people.\n",
    "- If the we look at fires with higher severity, we observe the same trend even though both number of firefighters deployed and number of injured people are higher."
   ]
  },
  {
   "cell_type": "markdown",
   "metadata": {},
   "source": [
    "<br/><br/>\n",
    "## Group Activity\n",
    "\n",
    "Divide into two groups. The first group finds an online example of Simpson's paradox. The second group finds an online example of Berkson's paradox online. Then, each group discusses its examples with the class for 5-10 minutes.\n"
   ]
  }
 ],
 "metadata": {
  "deepnote": {},
  "deepnote_execution_queue": [],
  "deepnote_notebook_id": "a096b144-b18a-4053-af0a-305f6f8f70e7",
  "interpreter": {
   "hash": "f82454df3ab4669350e470cecfad51160e6fdff8e76eafd19d8880dd92d922a3"
  },
  "kernelspec": {
   "display_name": "Python 3.8.8 ('base')",
   "language": "python",
   "name": "python3"
  },
  "language_info": {
   "codemirror_mode": {
    "name": "ipython",
    "version": 3
   },
   "file_extension": ".py",
   "mimetype": "text/x-python",
   "name": "python",
   "nbconvert_exporter": "python",
   "pygments_lexer": "ipython3",
   "version": "3.8.8"
  }
 },
 "nbformat": 4,
 "nbformat_minor": 2
}
