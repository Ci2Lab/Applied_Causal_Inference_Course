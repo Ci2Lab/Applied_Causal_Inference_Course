{
 "cells": [
  {
   "attachments": {},
   "cell_type": "markdown",
   "metadata": {},
   "source": [
    "# Chapter 5: Causal Structure Learning from Data\n",
    "\n",
    "In the previous chapter, we build a causal model knowing the equation structure of the problem from our domain knowledge. However, we do not have the privilege of knowing causal structure in the real world.\n",
    "\n",
    "\n",
    "In this chapter, our goal is to create a causal model without knowing the causal structure of the problem. In other words, our problem is the **causal structure identification or discovery**. So, we have two major steps:\n",
    "\n",
    "\n",
    "Incorporating prior knowledge is always a big help to causal discovery algorithms."
   ]
  },
  {
   "attachments": {},
   "cell_type": "markdown",
   "metadata": {},
   "source": [
    "\n",
    "## How can we discover a causal structure from a dataset without domain knowledge?\n",
    "\n",
    "Causal structure identification or discovery can be challenging, especially when you have no prior knowledge or domain expertise about the dataset. In addition, it is an ongoing field of research, and there are limitations and challenges involved in inferring causal relationships from observational data alone. \n",
    "\n",
    "However, some methods and approaches can be employed to uncover causal relationships in such situations. Such methods can be divided into different categories. However, the two main groups are **Independence-Based Methods** and **Score-Based Methods**. We will explain them in more detail as follows.\n",
    "\n",
    "\n",
    "\n",
    "\n",
    "## A. Independence-Based Methods\n",
    "\n",
    "Independence-based methods assume that the distribution is faithful to the underlying causal DAG. \n",
    "\n",
    "- In orher workds, there is a one-to-one correspondence between d-separationsin the graph and conditional independences in the distribution of the data.  \n",
    "\n",
    "- Any query of a d-separation statement can therefore be answered by checking the corresponding conditional independence test. \n",
    "\n",
    "Independence-based methods test for conditional independences in the data. \n",
    "\n",
    "- These properties are related to the graph structure by the Markov condition and faithfulness.\n",
    "- However,often the graph is not uniquely identifiable; the method may therefore output different graphs for the same dataset.\n",
    "\n",
    "\n",
    "The figure below summarizes the independence-based approaches for the identification of causal structures. \n",
    "\n",
    "![img](img/ch6/independence_tests.png)\n",
    "\n",
    "\n",
    "Most independence-based methods first estimate the skeleton, the undirected edges, and then orient as many edges as possible afterward.\n",
    "\n",
    "#### Step 1: Estimation of the skeleton\n",
    "\n",
    "- knowing which variables are connected by an arrow but not what direction the arrows point.\n",
    "\n",
    "- Two nodes $X,Y$ in a DAG $(\\mathbf{X},\\mathcal{E})$ are adjacent if and only if they cannot be d-separated by any subset $S \\in \\mathbf{V} \\ {X,Y}$.\n",
    "\n",
    "- If two nodes $X,Y$ in a DAG $(\\mathbf{X},\\mathcal{E})$ are not adjacent, then they are d-separated by either $\\mathbf{Pa}_X$ or $\\mathbf{Pa}_Y$.\n",
    "\n",
    "It follows that if two variables are always dependent, no matter what other variables one conditions on, these two variables must be adjacent (i.e., an edge must connect them).\n",
    "\n",
    "#### Step 2: Orientation of Edges\n",
    "\n",
    "- After the skeleton is built, if two nodes are not directly connected in the obtained skeleton, there is a set that d-separates these nodes. \n",
    "\n",
    "- Often, we’ll only be able to orient some arrows. \n",
    "\n",
    "- The ambiguity of the directions of other arrows generates a class of causal structures, e.g. a markov equavalnt class.\n",
    "\n",
    "\n",
    "**Inductive Causation (IC)** [algorithm](https://www.ics.uci.edu/~dechter/courses/ics-295cr/spring-2021/reading/Theory_of_Inferred_Causation_R156.pdf), the **Spirtes-Glymour-Scheines (SGS)** [algorithm](https://people.cs.umass.edu/~mccallum/courses/gm2011/22-causality.pdf), and the **Peter-Clark (PC)** [algorithm](https://proceedings.mlr.press/v89/tu19a/tu19a.pdf) (named after Peter Spirtes and Clark Glymour) are famous independence-test based algorithms. \n",
    "\n",
    "<br>\n",
    "\n",
    "### Peter-Clark (PC) Algorithm:\n",
    "\n",
    "**Step 1:** form a fully connected, undirected graph using every variable in the dataset (Fig. B). \n",
    "\n",
    "**Step 2:**  edges are deleted if the corresponding variables are independent (Fig. C). \n",
    "\n",
    "**Step 3:**  connected edges undergo conditional independence testing. If conditioning on a third variable kills the dependence between two variables, links are deleted between those two variables (Fig. D).\n",
    "\n",
    "**Step 4:**  colliders are oriented based on the d-separation sets (Fig. E). \n",
    "\n",
    "**Step 5:**  remaining edges are directed based on two constraints (Fig. F), \n",
    "- 1) no new v-structures and \n",
    "- 2) no directed cycles can be formed.\n",
    "\n",
    "An outline of the PC algorithm is illustrated in the figure below (image taken from [here](https://www.frontiersin.org/articles/10.3389/fgene.2019.00524/full)). \n",
    "\n",
    "![img](img/ch6/PC-Method.png)\n"
   ]
  },
  {
   "attachments": {},
   "cell_type": "markdown",
   "metadata": {},
   "source": [
    "## B. Score-based Methods\n",
    "\n",
    "Independent-based causal discovery methods rely on conditional independence tests, which assume faithfulness between the DAG and the data. However, this assumption is quite strong, and obtaining reliable conditional independence tests may require large sample sizes. Additionally, the outcome of Independent-based causal discovery methods is often non-unique, meaning that multiple graph structures can fit the data equally well.\n",
    "\n",
    "\n",
    "Alternatively, Score-based methods for causal discovery are approaches that aim to identify causal relationships by evaluating the fit or goodness-of-fit of different causal models to the observed data. \n",
    "\n",
    "These score-based methods assign scores to different causal structures based on how well they explain the data, and the structure with the highest score is considered the most likely causal model. \n",
    "\n",
    "\n",
    "Score-based Methods for causal discovery have two main components:\n",
    "\n",
    "*   a) **Search Algorithm** to optimize throughout the search space of all possible DAGs (e.g. *Hill Climb Search, Exhaustive Search, and Chow-Liu*)\n",
    "\n",
    "\n",
    "*   b) **Scoring Function** to measure how well a Bayesian network fits the data. Commonly used scoring functions are *K2* and the *Bayesian Information Criterion (BIC)*.\n",
    "\n",
    "\n",
    "Given a dataset $\\mathcal{D} = (X^1,\\dots,X^n)$ from a vector $X$ of variables (e.g., a sample containing $n$ i.i.d. observations), the idea is to assign a score $S(\\mathcal{D}, \\mathcal{G})$ to each graph $\\mathcal{G}$ and search over the space of DAGs to find the graph with the highest score:\n",
    "\n",
    "$$\\hat{ \\mathcal{G} } = argmax_\\mathcal{ \\{G\\} } S(\\mathcal{D},\\mathcal{G})$$\n",
    "\n",
    "\n",
    "\n",
    "### a) Search Algorithms\n",
    "\n",
    "A search algorithm is used to explore the graph space (i.e., the set of all possible graphs given the nodes) to maximize (or minimize) the given score function. \n",
    "\n",
    "The choice of search method depends on various factors, including the size of the variable set, computational resources, and specific requirements of the causal discovery task. Different search methods have their strengths and limitations in terms of computational efficiency, accuracy, and ability to handle large-scale problems.\n",
    "\n",
    "Following are some examples of search methods used in causal discovery. \n",
    "\n",
    "\n",
    "**Exhaustive Search:**  \n",
    "\n",
    "- Exhaustive search is a straightforward but computationally intensive method that evaluates all possible causal structures within a given set of variables. \n",
    "- It systematically examines every combination of directed edges and evaluates their fit using the scoring criterion. \n",
    "- However, exhaustive search becomes infeasible for large variable sets due to the exponential growth of possible structures.\n",
    "\n",
    "\n",
    "**Greedy Search Techniques:**\n",
    "\n",
    "- Greedy search methods iteratively build causal structures by adding or removing edges based on their impact on the score.\n",
    "- They start with an initial structure, such as an empty graph, and iteratively modify it to improve the score. \n",
    "- The search terminates once a local maximum is found, i.e. adding other edges would not increase the score associated to the model.\n",
    "- Popular greedy search algorithms include the Hill-Climbing algorithm and its variants. \n",
    "- Greedy searches reach to a local optimum and cannot guarantee an optimal solution. \n",
    "\n",
    "**Metaheuristic Search:**\n",
    "\n",
    "- Metaheuristic search methods, such as genetic algorithms, particle swarm optimization, or simulated annealing, employ stochastic optimization techniques to explore the space of possible causal structures. \n",
    "- These methods use iterative processes that involve randomly perturbing or modifying existing structures and selecting or refining the best-fitting structures based on the scoring criterion.\n",
    "\n",
    "\n",
    "\n",
    "### b) Scoring Functions\n",
    "\n",
    "Scoring functions $S$, also known as scoring criteria or scoring metrics, are used in score-based causal discovery approaches to evaluate and compare the fit of different causal structures to the observed data, with higher scores indicating better fit.\n",
    "\n",
    "\n",
    "Here are some commonly used scoring functions in score-based causal discovery:\n",
    "\n",
    "**Bayesian Information Criterion (BIC):** \n",
    "\n",
    "- The BIC scoring function is based on the principle of maximum likelihood estimation (MLE) and takes into account both the likelihood of the data and the number of parameters in the model.\n",
    "- BIC penalizes more complex models to avoid overfitting and favors simpler models that still provide a good fit to the data.\n",
    "- the BIC scoring function is often used in combination with search algorithms, such as hill climbing or genetic algorithms, to explore and evaluate different causal structures. \n",
    "- BIC for data $\\mathcal{D}$ and graph $\\mathcal{G}$ defines as:\n",
    "\n",
    "$$BIC(\\mathcal{D},\\mathcal{G}) = -2 * log(L) + k * log(n)$$\n",
    "\n",
    "where $L$ is the likelihood of the data given the causal model, $k$ is the number of parameters in the model, and $n$ is the sample size. The first term ($-2 * log(L)$) represents the fit of the model to the data, with lower values indicating a better fit. The second term ($k * log(n)$) penalizes the model complexity.\n",
    "\n",
    "\n",
    "**Akaike Information Criterion (AIC):**\n",
    "\n",
    "- Like the BIC (Bayesian Information Criterion), the AIC is a measure that balances the goodness-of-fit of a model to the data with the complexity of the model.\n",
    "- The AIC scoring function is derived from information theory and is based on the principle of maximum likelihood estimation (MLE). \n",
    "- It evaluates the fit of a model by considering both the likelihood of the data and the number of parameters in the model. \n",
    "- AIC for data $\\mathcal{D}$ and graph $\\mathcal{G}$ defines as:\n",
    "\n",
    "$$AIC(\\mathcal{D},\\mathcal{G}) = -2 * log(L) + 2 *k$$\n",
    "\n",
    "where $L$ is the likelihood of the data given the causal model, and $k$ is the number of parameters in the model. In the AIC score, the first term ($-2 * log(L)$) represents the fit of the model to the data, with lower values indicating a better fit. The second term ($2 * k$) penalizes the model complexity. \n",
    "\n",
    "Unlike the BIC, which includes a penalty factor that increases with the sample size, the AIC penalty term is a fixed factor of 2 multiplied by the number of parameters.\n",
    "\n",
    "\n",
    "\n",
    "**Bayesian Scoring Criterion (BS):** \n",
    "\n",
    "- The Bayesian score function, also known as the Bayesian scoring criterion or the Bayesian information score, incorporates Bayesian principles and probabilities to evaluate the fit of different causal structures to the observed data.\n",
    "\n",
    "- The Bayesian score function considers both the likelihood of the data given the causal model and the prior probability of the model itself. \n",
    "\n",
    "- It assigns scores to different causal structures based on their posterior probabilities, which are obtained by combining the prior probabilities and the likelihoods.\n",
    "\n",
    "- The structure with the highest Bayesian score is considered the most plausible model.\n",
    "\n",
    "- The Bayesian score function can be written as:\n",
    "\n",
    "$$BS(\\mathcal{D},\\mathcal{G}) = log P(\\mathcal{D} , \\mathcal{G}) = log (P(\\mathcal{D} | \\mathcal{G}) * P(\\mathcal{G})) = log P(\\mathcal{D} | \\mathcal{G}) + log P(\\mathcal{G})$$\n",
    "\n",
    "where $log P(\\mathcal{D} | \\mathcal{G})$ represents the likelihood of the observed data given the causal model, and $P(\\mathcal{G})$ represents the prior probability of the model.\n",
    "\n",
    "The **likelihood term** $log P(\\mathcal{D} | \\mathcal{G})$ assesses how well the model explains the observed data. It evaluates the fit of the model by considering the probability distribution implied by the model and comparing it to the actual data.\n",
    "\n",
    "The **prior probability term** $P(\\mathcal{G})$ represents prior knowledge or assumptions about the probability of each causal structure. It encodes beliefs or expectations about the plausibility of different structures before observing the data.\n",
    "\n",
    "\n",
    "It's important to note that the Bayesian score function requires prior probabilities, which can be based on expert knowledge or can be specified using non-informative priors. The choice of prior probabilities may influence the results, and different choices can lead to different model selections.\n",
    "\n",
    "\n",
    "\n",
    "### c) Other Causal Discovery Methods\n",
    "\n",
    "\n",
    "Causal discovery methods can be categorized into several different approaches based on the underlying principles and techniques they employ. We explaned two major approaches, **Independence-Based Methods** and **Score-Based Methods**.\n",
    "\n",
    "Other common approaches are:\n",
    "\n",
    "**Information-Theoretic Methods:** \n",
    "\n",
    "- Information-theoretic methods employ principles from information theory to discover causal relationships. These methods measure the amount of information shared between variables to infer causal dependencies. \n",
    "- Examples of information-theoretic methods include **Mutual Information**, **Transfer Entropy**, and **Granger Causality**.\n",
    "\n",
    "[Here](https://sites.google.com/view/itci22) is the proccesing of the AAAI 2022 Workshop on Information-Theoretic Methods for Causal Inference and Discovery. Nice papers!\n",
    "\n",
    "**Machine Learning Methods:**\n",
    "\n",
    "- Machine learning-based approaches use advanced algorithms and models to learn causal relationships from data. \n",
    "- These methods often involve training predictive models, such as Bayesian networks, structural equation models, or causal Bayesian networks, to estimate causal relationships. - -- Machine learning methods for causal discovery include methods based on neural networks, decision trees, random forests, etc.\n",
    "\n",
    "We recommend you to check Chapter 4 and 7, Learning Cause-Effect Models from the [Elements of Causal Inference](https://mitpress.mit.edu/books/elements-causal-inference) book to learn more abo0ut ML based causal discovery methods.\n",
    "\n",
    "Also, the [Machine Learning for Causal Inference in Biological Networks: Perspectives of This Challenge](https://www.frontiersin.org/articles/10.3389/fbinf.2021.746712/full) provides a nice overview on such ML-based methods.\n"
   ]
  },
  {
   "attachments": {},
   "cell_type": "markdown",
   "metadata": {},
   "source": [
    "## Do you want to know more about causal discovery methods?\n",
    "\n",
    "\n",
    "A broad overview of different causal structure search methods is available at:\n",
    "[Review of Causal Discovery Methods Based on Graphical Models](https://www.frontiersin.org/articles/10.3389/fgene.2019.00524/full#:~:text=Causal%20discovery%20aims%20to%20find,process%20or%20the%20sampling%20process). This paper is written by Clark Glymour and Peter Spirtes who are two frontiers in the causal inference theory.\n",
    "\n",
    "\n",
    "Finally, **structure learning is an active field of research.** These algorithms don't guarantee to retrieve the true causal relationship for all the variables. However, they can help better understand the problems and some relationships between variables. "
   ]
  },
  {
   "attachments": {},
   "cell_type": "markdown",
   "metadata": {},
   "source": [
    "## Example for Causal Structure Learning : Shortness of Breath Disease\n",
    "\n",
    "In this example we will try to analyse patients treatment regarding shortness-of-breath (dyspnoea). The dataset has few variables and is siumulated by [Lauritzen and Spiegelhalter,1988](https://www.jstor.org/stable/2345762?seq=1). The data is about relationship between lung diseases (tuberculosis, lung cancer or bronchitis) and visits to infection areas for 20000 patientes.\n",
    "\n",
    "### Background:\n",
    "\n",
    "- Shortness-of-breath (dyspnoea) may be due to **tuberculosis, lung cancer, bronchitis**, or none of them, or more than one of them. \n",
    "\n",
    "- We asume that a visit to an infectious area increases the chances of tuberculosis, while smoking is known to be a risk factor for both lung cancer and bronchitis. \n",
    "\n",
    "- The results of a single chest X-ray do not discriminate between lung cancer and tuberculosis, as neither does the presence or absence of dyspnoea.\n",
    "\n",
    "\n",
    "**What is the causal model for the dyspnoea based on the Lauritzen and Spiegelhalter dataset?**\n",
    "\n",
    "To solve this problem, we will make use of the *bnlearn* and *pgmpy* library, which are a Python implementation for Bayesian Networks with various algorithms for Structure Learning, Parameter Estimation, Approximate (Sampling Based), and Causal Inference.\n"
   ]
  },
  {
   "attachments": {},
   "cell_type": "markdown",
   "metadata": {},
   "source": [
    "### Import Data and Ground Truth\n"
   ]
  },
  {
   "cell_type": "code",
   "execution_count": 1,
   "metadata": {},
   "outputs": [
    {
     "name": "stdout",
     "output_type": "stream",
     "text": [
      "[bnlearn] >bayes DAG created.\n",
      "[bnlearn] >Extracting files..\n"
     ]
    },
    {
     "name": "stderr",
     "output_type": "stream",
     "text": [
      "Generating for node: dysp: 100%|██████████| 8/8 [00:00<00:00, 225.81it/s]\n"
     ]
    },
    {
     "name": "stdout",
     "output_type": "stream",
     "text": [
      "[bnlearn] >Forward sampling for 20000 samples..\n"
     ]
    },
    {
     "name": "stderr",
     "output_type": "stream",
     "text": [
      "Generating for node: dysp: 100%|██████████| 7/7 [00:00<00:00, 138.71it/s]\n"
     ]
    }
   ],
   "source": [
    "import utils\n",
    "df = utils.generate_dyspnoea_dataset()\n",
    "# Save the DataFrame in case\n",
    "# df.to_csv(\"dyspnoea.csv\", index=False)"
   ]
  },
  {
   "cell_type": "code",
   "execution_count": 2,
   "metadata": {},
   "outputs": [
    {
     "data": {
      "image/svg+xml": [
       "<?xml version=\"1.0\" encoding=\"UTF-8\" standalone=\"no\"?>\n",
       "<!DOCTYPE svg PUBLIC \"-//W3C//DTD SVG 1.1//EN\"\n",
       " \"http://www.w3.org/Graphics/SVG/1.1/DTD/svg11.dtd\">\n",
       "<!-- Generated by graphviz version 3.0.0 (20220226.1711)\n",
       " -->\n",
       "<!-- Pages: 1 -->\n",
       "<svg width=\"375pt\" height=\"188pt\"\n",
       " viewBox=\"0.00 0.00 374.89 188.00\" xmlns=\"http://www.w3.org/2000/svg\" xmlns:xlink=\"http://www.w3.org/1999/xlink\">\n",
       "<g id=\"graph0\" class=\"graph\" transform=\"scale(1 1) rotate(0) translate(4 184)\">\n",
       "<polygon fill=\"white\" stroke=\"transparent\" points=\"-4,4 -4,-184 370.89,-184 370.89,4 -4,4\"/>\n",
       "<!-- tuberculosis_area -->\n",
       "<g id=\"node1\" class=\"node\">\n",
       "<title>tuberculosis_area</title>\n",
       "<ellipse fill=\"none\" stroke=\"black\" cx=\"74.09\" cy=\"-162\" rx=\"74.19\" ry=\"18\"/>\n",
       "<text text-anchor=\"middle\" x=\"74.09\" y=\"-158.3\" font-family=\"Times New Roman,serif\" font-size=\"14.00\">tuberculosis_area</text>\n",
       "</g>\n",
       "<!-- tuberculosis -->\n",
       "<g id=\"node2\" class=\"node\">\n",
       "<title>tuberculosis</title>\n",
       "<ellipse fill=\"none\" stroke=\"black\" cx=\"74.09\" cy=\"-90\" rx=\"54.69\" ry=\"18\"/>\n",
       "<text text-anchor=\"middle\" x=\"74.09\" y=\"-86.3\" font-family=\"Times New Roman,serif\" font-size=\"14.00\">tuberculosis</text>\n",
       "</g>\n",
       "<!-- tuberculosis_area&#45;&gt;tuberculosis -->\n",
       "<g id=\"edge1\" class=\"edge\">\n",
       "<title>tuberculosis_area&#45;&gt;tuberculosis</title>\n",
       "<path fill=\"none\" stroke=\"black\" d=\"M74.09,-143.7C74.09,-135.98 74.09,-126.71 74.09,-118.11\"/>\n",
       "<polygon fill=\"black\" stroke=\"black\" points=\"77.59,-118.1 74.09,-108.1 70.59,-118.1 77.59,-118.1\"/>\n",
       "</g>\n",
       "<!-- dyspnea -->\n",
       "<g id=\"node3\" class=\"node\">\n",
       "<title>dyspnea</title>\n",
       "<ellipse fill=\"none\" stroke=\"black\" cx=\"201.09\" cy=\"-18\" rx=\"40.89\" ry=\"18\"/>\n",
       "<text text-anchor=\"middle\" x=\"201.09\" y=\"-14.3\" font-family=\"Times New Roman,serif\" font-size=\"14.00\">dyspnea</text>\n",
       "</g>\n",
       "<!-- tuberculosis&#45;&gt;dyspnea -->\n",
       "<g id=\"edge2\" class=\"edge\">\n",
       "<title>tuberculosis&#45;&gt;dyspnea</title>\n",
       "<path fill=\"none\" stroke=\"black\" d=\"M101.03,-74.15C120.44,-63.46 146.76,-48.95 167.53,-37.5\"/>\n",
       "<polygon fill=\"black\" stroke=\"black\" points=\"169.28,-40.53 176.35,-32.64 165.9,-34.4 169.28,-40.53\"/>\n",
       "</g>\n",
       "<!-- xray -->\n",
       "<g id=\"node4\" class=\"node\">\n",
       "<title>xray</title>\n",
       "<ellipse fill=\"none\" stroke=\"black\" cx=\"95.09\" cy=\"-18\" rx=\"27\" ry=\"18\"/>\n",
       "<text text-anchor=\"middle\" x=\"95.09\" y=\"-14.3\" font-family=\"Times New Roman,serif\" font-size=\"14.00\">xray</text>\n",
       "</g>\n",
       "<!-- tuberculosis&#45;&gt;xray -->\n",
       "<g id=\"edge3\" class=\"edge\">\n",
       "<title>tuberculosis&#45;&gt;xray</title>\n",
       "<path fill=\"none\" stroke=\"black\" d=\"M79.18,-72.05C81.58,-64.06 84.49,-54.33 87.17,-45.4\"/>\n",
       "<polygon fill=\"black\" stroke=\"black\" points=\"90.54,-46.37 90.06,-35.79 83.83,-44.36 90.54,-46.37\"/>\n",
       "</g>\n",
       "<!-- lung_cancer -->\n",
       "<g id=\"node5\" class=\"node\">\n",
       "<title>lung_cancer</title>\n",
       "<ellipse fill=\"none\" stroke=\"black\" cx=\"201.09\" cy=\"-90\" rx=\"54.69\" ry=\"18\"/>\n",
       "<text text-anchor=\"middle\" x=\"201.09\" y=\"-86.3\" font-family=\"Times New Roman,serif\" font-size=\"14.00\">lung_cancer</text>\n",
       "</g>\n",
       "<!-- lung_cancer&#45;&gt;dyspnea -->\n",
       "<g id=\"edge5\" class=\"edge\">\n",
       "<title>lung_cancer&#45;&gt;dyspnea</title>\n",
       "<path fill=\"none\" stroke=\"black\" d=\"M201.09,-71.7C201.09,-63.98 201.09,-54.71 201.09,-46.11\"/>\n",
       "<polygon fill=\"black\" stroke=\"black\" points=\"204.59,-46.1 201.09,-36.1 197.59,-46.1 204.59,-46.1\"/>\n",
       "</g>\n",
       "<!-- lung_cancer&#45;&gt;xray -->\n",
       "<g id=\"edge4\" class=\"edge\">\n",
       "<title>lung_cancer&#45;&gt;xray</title>\n",
       "<path fill=\"none\" stroke=\"black\" d=\"M177.83,-73.64C161.43,-62.81 139.42,-48.27 122.22,-36.91\"/>\n",
       "<polygon fill=\"black\" stroke=\"black\" points=\"123.99,-33.89 113.72,-31.3 120.13,-39.73 123.99,-33.89\"/>\n",
       "</g>\n",
       "<!-- smoke -->\n",
       "<g id=\"node6\" class=\"node\">\n",
       "<title>smoke</title>\n",
       "<ellipse fill=\"none\" stroke=\"black\" cx=\"260.09\" cy=\"-162\" rx=\"34.39\" ry=\"18\"/>\n",
       "<text text-anchor=\"middle\" x=\"260.09\" y=\"-158.3\" font-family=\"Times New Roman,serif\" font-size=\"14.00\">smoke</text>\n",
       "</g>\n",
       "<!-- smoke&#45;&gt;lung_cancer -->\n",
       "<g id=\"edge6\" class=\"edge\">\n",
       "<title>smoke&#45;&gt;lung_cancer</title>\n",
       "<path fill=\"none\" stroke=\"black\" d=\"M246.71,-145.12C239.37,-136.42 230.13,-125.45 221.88,-115.66\"/>\n",
       "<polygon fill=\"black\" stroke=\"black\" points=\"224.37,-113.19 215.25,-107.8 219.02,-117.7 224.37,-113.19\"/>\n",
       "</g>\n",
       "<!-- bronchitis -->\n",
       "<g id=\"node7\" class=\"node\">\n",
       "<title>bronchitis</title>\n",
       "<ellipse fill=\"none\" stroke=\"black\" cx=\"320.09\" cy=\"-90\" rx=\"46.59\" ry=\"18\"/>\n",
       "<text text-anchor=\"middle\" x=\"320.09\" y=\"-86.3\" font-family=\"Times New Roman,serif\" font-size=\"14.00\">bronchitis</text>\n",
       "</g>\n",
       "<!-- smoke&#45;&gt;bronchitis -->\n",
       "<g id=\"edge7\" class=\"edge\">\n",
       "<title>smoke&#45;&gt;bronchitis</title>\n",
       "<path fill=\"none\" stroke=\"black\" d=\"M273.71,-145.12C281.35,-136.2 291.03,-124.91 299.57,-114.94\"/>\n",
       "<polygon fill=\"black\" stroke=\"black\" points=\"302.27,-117.18 306.12,-107.31 296.95,-112.62 302.27,-117.18\"/>\n",
       "</g>\n",
       "<!-- bronchitis&#45;&gt;dyspnea -->\n",
       "<g id=\"edge8\" class=\"edge\">\n",
       "<title>bronchitis&#45;&gt;dyspnea</title>\n",
       "<path fill=\"none\" stroke=\"black\" d=\"M295.44,-74.5C277.45,-63.92 252.91,-49.48 233.37,-37.99\"/>\n",
       "<polygon fill=\"black\" stroke=\"black\" points=\"234.9,-34.82 224.5,-32.77 231.35,-40.86 234.9,-34.82\"/>\n",
       "</g>\n",
       "</g>\n",
       "</svg>\n"
      ],
      "text/plain": [
       "<graphviz.graphs.Digraph at 0x1e5157f3340>"
      ]
     },
     "execution_count": 2,
     "metadata": {},
     "output_type": "execute_result"
    }
   ],
   "source": [
    "ground_truth = utils.plot_dyspnoea_dataset(mode = \"graphviz\")\n",
    "ground_truth"
   ]
  },
  {
   "attachments": {},
   "cell_type": "markdown",
   "metadata": {},
   "source": [
    "This is the 'ground truth', which is the model that generates the data. Let's see if we can retrieve it back from the data (this is where the **causal structure learning** can help us). "
   ]
  },
  {
   "attachments": {},
   "cell_type": "markdown",
   "metadata": {},
   "source": [
    "Here are few rows of the data:\n"
   ]
  },
  {
   "cell_type": "code",
   "execution_count": 2,
   "metadata": {
    "scrolled": true
   },
   "outputs": [
    {
     "data": {
      "text/html": [
       "<div>\n",
       "<style scoped>\n",
       "    .dataframe tbody tr th:only-of-type {\n",
       "        vertical-align: middle;\n",
       "    }\n",
       "\n",
       "    .dataframe tbody tr th {\n",
       "        vertical-align: top;\n",
       "    }\n",
       "\n",
       "    .dataframe thead th {\n",
       "        text-align: right;\n",
       "    }\n",
       "</style>\n",
       "<table border=\"1\" class=\"dataframe\">\n",
       "  <thead>\n",
       "    <tr style=\"text-align: right;\">\n",
       "      <th></th>\n",
       "      <th>tuberculosis_area</th>\n",
       "      <th>tuberculosis</th>\n",
       "      <th>dyspnea</th>\n",
       "      <th>xray</th>\n",
       "      <th>lung_cancer</th>\n",
       "      <th>smoke</th>\n",
       "      <th>bronchitis</th>\n",
       "    </tr>\n",
       "  </thead>\n",
       "  <tbody>\n",
       "    <tr>\n",
       "      <th>0</th>\n",
       "      <td>1</td>\n",
       "      <td>1</td>\n",
       "      <td>1</td>\n",
       "      <td>1</td>\n",
       "      <td>1</td>\n",
       "      <td>0</td>\n",
       "      <td>1</td>\n",
       "    </tr>\n",
       "    <tr>\n",
       "      <th>1</th>\n",
       "      <td>1</td>\n",
       "      <td>1</td>\n",
       "      <td>1</td>\n",
       "      <td>1</td>\n",
       "      <td>1</td>\n",
       "      <td>0</td>\n",
       "      <td>1</td>\n",
       "    </tr>\n",
       "    <tr>\n",
       "      <th>2</th>\n",
       "      <td>1</td>\n",
       "      <td>1</td>\n",
       "      <td>0</td>\n",
       "      <td>1</td>\n",
       "      <td>1</td>\n",
       "      <td>0</td>\n",
       "      <td>0</td>\n",
       "    </tr>\n",
       "    <tr>\n",
       "      <th>3</th>\n",
       "      <td>1</td>\n",
       "      <td>1</td>\n",
       "      <td>0</td>\n",
       "      <td>1</td>\n",
       "      <td>1</td>\n",
       "      <td>0</td>\n",
       "      <td>0</td>\n",
       "    </tr>\n",
       "    <tr>\n",
       "      <th>4</th>\n",
       "      <td>1</td>\n",
       "      <td>1</td>\n",
       "      <td>0</td>\n",
       "      <td>1</td>\n",
       "      <td>1</td>\n",
       "      <td>0</td>\n",
       "      <td>0</td>\n",
       "    </tr>\n",
       "  </tbody>\n",
       "</table>\n",
       "</div>"
      ],
      "text/plain": [
       "   tuberculosis_area  tuberculosis  dyspnea  xray  lung_cancer  smoke  \\\n",
       "0                  1             1        1     1            1      0   \n",
       "1                  1             1        1     1            1      0   \n",
       "2                  1             1        0     1            1      0   \n",
       "3                  1             1        0     1            1      0   \n",
       "4                  1             1        0     1            1      0   \n",
       "\n",
       "   bronchitis  \n",
       "0           1  \n",
       "1           1  \n",
       "2           0  \n",
       "3           0  \n",
       "4           0  "
      ]
     },
     "execution_count": 2,
     "metadata": {},
     "output_type": "execute_result"
    }
   ],
   "source": [
    "# Load model\n",
    "import bnlearn as bn\n",
    "import pandas as pd\n",
    "\n",
    "df = pd.read_csv('data/dyspnoea.csv')\n",
    "df.head()"
   ]
  },
  {
   "attachments": {},
   "cell_type": "markdown",
   "metadata": {},
   "source": [
    "## Scenario 1: Build a causal model when we have data and domain knowledge\n",
    "\n",
    "As we saw in the lectures, expert knowledge can be included in causal models by using graphs in the form of a Directed Acyclic Graphs. \n",
    "\n",
    "Let's assume that our knowledge about dyspnoea is limited to: smoking is related to lung cancer, smoking is related to bronchitis, and if you have lung or bronchitus we may need an x-ray examination. \n",
    "\n",
    "Therefore, we create a DAG based on this knowledge:"
   ]
  },
  {
   "cell_type": "code",
   "execution_count": 3,
   "metadata": {},
   "outputs": [
    {
     "name": "stdout",
     "output_type": "stream",
     "text": [
      "[bnlearn] >bayes DAG created.\n"
     ]
    },
    {
     "data": {
      "image/svg+xml": [
       "<?xml version=\"1.0\" encoding=\"UTF-8\" standalone=\"no\"?>\n",
       "<!DOCTYPE svg PUBLIC \"-//W3C//DTD SVG 1.1//EN\"\n",
       " \"http://www.w3.org/Graphics/SVG/1.1/DTD/svg11.dtd\">\n",
       "<!-- Generated by graphviz version 3.0.0 (20220226.1711)\n",
       " -->\n",
       "<!-- Pages: 1 -->\n",
       "<svg width=\"228pt\" height=\"188pt\"\n",
       " viewBox=\"0.00 0.00 228.39 188.00\" xmlns=\"http://www.w3.org/2000/svg\" xmlns:xlink=\"http://www.w3.org/1999/xlink\">\n",
       "<g id=\"graph0\" class=\"graph\" transform=\"scale(1 1) rotate(0) translate(4 184)\">\n",
       "<polygon fill=\"white\" stroke=\"transparent\" points=\"-4,4 -4,-184 224.39,-184 224.39,4 -4,4\"/>\n",
       "<!-- smoke -->\n",
       "<g id=\"node1\" class=\"node\">\n",
       "<title>smoke</title>\n",
       "<ellipse fill=\"none\" stroke=\"black\" cx=\"113.6\" cy=\"-162\" rx=\"34.39\" ry=\"18\"/>\n",
       "<text text-anchor=\"middle\" x=\"113.6\" y=\"-158.3\" font-family=\"Times New Roman,serif\" font-size=\"14.00\">smoke</text>\n",
       "</g>\n",
       "<!-- lung_cancer -->\n",
       "<g id=\"node2\" class=\"node\">\n",
       "<title>lung_cancer</title>\n",
       "<ellipse fill=\"none\" stroke=\"black\" cx=\"54.6\" cy=\"-90\" rx=\"54.69\" ry=\"18\"/>\n",
       "<text text-anchor=\"middle\" x=\"54.6\" y=\"-86.3\" font-family=\"Times New Roman,serif\" font-size=\"14.00\">lung_cancer</text>\n",
       "</g>\n",
       "<!-- smoke&#45;&gt;lung_cancer -->\n",
       "<g id=\"edge1\" class=\"edge\">\n",
       "<title>smoke&#45;&gt;lung_cancer</title>\n",
       "<path fill=\"none\" stroke=\"black\" d=\"M100.21,-145.12C92.88,-136.42 83.63,-125.45 75.38,-115.66\"/>\n",
       "<polygon fill=\"black\" stroke=\"black\" points=\"77.87,-113.19 68.75,-107.8 72.52,-117.7 77.87,-113.19\"/>\n",
       "</g>\n",
       "<!-- bronchitis -->\n",
       "<g id=\"node3\" class=\"node\">\n",
       "<title>bronchitis</title>\n",
       "<ellipse fill=\"none\" stroke=\"black\" cx=\"173.6\" cy=\"-90\" rx=\"46.59\" ry=\"18\"/>\n",
       "<text text-anchor=\"middle\" x=\"173.6\" y=\"-86.3\" font-family=\"Times New Roman,serif\" font-size=\"14.00\">bronchitis</text>\n",
       "</g>\n",
       "<!-- smoke&#45;&gt;bronchitis -->\n",
       "<g id=\"edge2\" class=\"edge\">\n",
       "<title>smoke&#45;&gt;bronchitis</title>\n",
       "<path fill=\"none\" stroke=\"black\" d=\"M127.21,-145.12C134.85,-136.2 144.53,-124.91 153.07,-114.94\"/>\n",
       "<polygon fill=\"black\" stroke=\"black\" points=\"155.77,-117.18 159.62,-107.31 150.45,-112.62 155.77,-117.18\"/>\n",
       "</g>\n",
       "<!-- xray -->\n",
       "<g id=\"node4\" class=\"node\">\n",
       "<title>xray</title>\n",
       "<ellipse fill=\"none\" stroke=\"black\" cx=\"113.6\" cy=\"-18\" rx=\"27\" ry=\"18\"/>\n",
       "<text text-anchor=\"middle\" x=\"113.6\" y=\"-14.3\" font-family=\"Times New Roman,serif\" font-size=\"14.00\">xray</text>\n",
       "</g>\n",
       "<!-- lung_cancer&#45;&gt;xray -->\n",
       "<g id=\"edge3\" class=\"edge\">\n",
       "<title>lung_cancer&#45;&gt;xray</title>\n",
       "<path fill=\"none\" stroke=\"black\" d=\"M68.58,-72.41C76.24,-63.31 85.87,-51.9 94.25,-41.96\"/>\n",
       "<polygon fill=\"black\" stroke=\"black\" points=\"97.15,-43.94 100.92,-34.04 91.8,-39.43 97.15,-43.94\"/>\n",
       "</g>\n",
       "<!-- bronchitis&#45;&gt;xray -->\n",
       "<g id=\"edge4\" class=\"edge\">\n",
       "<title>bronchitis&#45;&gt;xray</title>\n",
       "<path fill=\"none\" stroke=\"black\" d=\"M159.68,-72.76C151.81,-63.59 141.85,-51.96 133.2,-41.88\"/>\n",
       "<polygon fill=\"black\" stroke=\"black\" points=\"135.78,-39.5 126.61,-34.19 130.46,-44.06 135.78,-39.5\"/>\n",
       "</g>\n",
       "</g>\n",
       "</svg>\n"
      ],
      "text/plain": [
       "<graphviz.graphs.Digraph at 0x24981633880>"
      ]
     },
     "execution_count": 3,
     "metadata": {},
     "output_type": "execute_result"
    }
   ],
   "source": [
    "import graphviz as gr\n",
    "import bnlearn as bn\n",
    "\n",
    "edges = [('smoke', 'lung_cancer'),\n",
    "         ('smoke', 'bronchitis'),\n",
    "         ('lung_cancer', 'xray'),\n",
    "         ('bronchitis', 'xray')]\n",
    "\n",
    "# Create the DAG from the edges\n",
    "DAG = bn.make_DAG(edges)\n",
    "\n",
    "g = utils.plot_from_edges(edges)\n",
    "g"
   ]
  },
  {
   "attachments": {},
   "cell_type": "markdown",
   "metadata": {},
   "source": [
    "<br/><br/>\n",
    "\n",
    "At this point, we have the data set in our dataframe (df) and the DAG based on our expert knowledge. \n",
    "\n",
    "We can use parameter learning to learn conditional probability distributions (CPDs) of variables in our model using a Baysian method. \n"
   ]
  },
  {
   "cell_type": "code",
   "execution_count": 4,
   "metadata": {},
   "outputs": [
    {
     "name": "stdout",
     "output_type": "stream",
     "text": [
      "[bnlearn] >Removing columns from dataframe to make consistent with DAG [['tuberculosis_area' 'tuberculosis' 'dyspnea']]\n",
      "[bnlearn] >Parameter learning> Computing parameters using [bayes]\n",
      "[bnlearn] >CPD of smoke:\n",
      "+----------+----------+\n",
      "| smoke(0) | 0.498143 |\n",
      "+----------+----------+\n",
      "| smoke(1) | 0.501857 |\n",
      "+----------+----------+\n",
      "[bnlearn] >CPD of lung_cancer:\n",
      "+----------------+---------------------+---------------------+\n",
      "| smoke          | smoke(0)            | smoke(1)            |\n",
      "+----------------+---------------------+---------------------+\n",
      "| lung_cancer(0) | 0.15772870662460567 | 0.07268241768668754 |\n",
      "+----------------+---------------------+---------------------+\n",
      "| lung_cancer(1) | 0.8422712933753943  | 0.9273175823133124  |\n",
      "+----------------+---------------------+---------------------+\n",
      "[bnlearn] >CPD of bronchitis:\n",
      "+---------------+---------------------+--------------------+\n",
      "| smoke         | smoke(0)            | smoke(1)           |\n",
      "+---------------+---------------------+--------------------+\n",
      "| bronchitis(0) | 0.585125704999522   | 0.3266913369389885 |\n",
      "+---------------+---------------------+--------------------+\n",
      "| bronchitis(1) | 0.41487429500047796 | 0.6733086630610114 |\n",
      "+---------------+---------------------+--------------------+\n",
      "[bnlearn] >CPD of xray:\n",
      "+-------------+---------------------+-----+---------------------+\n",
      "| bronchitis  | bronchitis(0)       | ... | bronchitis(1)       |\n",
      "+-------------+---------------------+-----+---------------------+\n",
      "| lung_cancer | lung_cancer(0)      | ... | lung_cancer(1)      |\n",
      "+-------------+---------------------+-----+---------------------+\n",
      "| xray(0)     | 0.7510105092966856  | ... | 0.09837184361899191 |\n",
      "+-------------+---------------------+-----+---------------------+\n",
      "| xray(1)     | 0.24898949070331447 | ... | 0.9016281563810081  |\n",
      "+-------------+---------------------+-----+---------------------+\n"
     ]
    }
   ],
   "source": [
    "# Learn the parameters from data set.\n",
    "# As input we have the DAG without CPDs.\n",
    "DAG = bn.parameter_learning.fit(DAG, df, methodtype='bayes')"
   ]
  },
  {
   "attachments": {},
   "cell_type": "markdown",
   "metadata": {},
   "source": [
    "We can print CPD that we calculated.\n",
    "\n",
    "We also check the independencies from the DAG and calculated CPD."
   ]
  },
  {
   "cell_type": "code",
   "execution_count": 5,
   "metadata": {},
   "outputs": [
    {
     "name": "stdout",
     "output_type": "stream",
     "text": [
      "CPD of smoke:\n",
      "+----------+----------+\n",
      "| smoke(0) | 0.498143 |\n",
      "+----------+----------+\n",
      "| smoke(1) | 0.501857 |\n",
      "+----------+----------+\n",
      "CPD of lung_cancer:\n",
      "+----------------+---------------------+---------------------+\n",
      "| smoke          | smoke(0)            | smoke(1)            |\n",
      "+----------------+---------------------+---------------------+\n",
      "| lung_cancer(0) | 0.15772870662460567 | 0.07268241768668754 |\n",
      "+----------------+---------------------+---------------------+\n",
      "| lung_cancer(1) | 0.8422712933753943  | 0.9273175823133124  |\n",
      "+----------------+---------------------+---------------------+\n",
      "CPD of bronchitis:\n",
      "+---------------+---------------------+--------------------+\n",
      "| smoke         | smoke(0)            | smoke(1)           |\n",
      "+---------------+---------------------+--------------------+\n",
      "| bronchitis(0) | 0.585125704999522   | 0.3266913369389885 |\n",
      "+---------------+---------------------+--------------------+\n",
      "| bronchitis(1) | 0.41487429500047796 | 0.6733086630610114 |\n",
      "+---------------+---------------------+--------------------+\n",
      "CPD of xray:\n",
      "+-------------+---------------------+-----+---------------------+\n",
      "| bronchitis  | bronchitis(0)       | ... | bronchitis(1)       |\n",
      "+-------------+---------------------+-----+---------------------+\n",
      "| lung_cancer | lung_cancer(0)      | ... | lung_cancer(1)      |\n",
      "+-------------+---------------------+-----+---------------------+\n",
      "| xray(0)     | 0.7510105092966856  | ... | 0.09837184361899191 |\n",
      "+-------------+---------------------+-----+---------------------+\n",
      "| xray(1)     | 0.24898949070331447 | ... | 0.9016281563810081  |\n",
      "+-------------+---------------------+-----+---------------------+\n",
      "[bnlearn] >Independencies:\n",
      "(bronchitis ⟂ lung_cancer | smoke)\n",
      "(lung_cancer ⟂ bronchitis | smoke)\n",
      "(xray ⟂ smoke | lung_cancer, bronchitis)\n",
      "(smoke ⟂ xray | lung_cancer, bronchitis)\n",
      "[bnlearn] >Nodes: ['smoke', 'lung_cancer', 'bronchitis', 'xray']\n",
      "[bnlearn] >Edges: [('smoke', 'lung_cancer'), ('smoke', 'bronchitis'), ('lung_cancer', 'xray'), ('bronchitis', 'xray')]\n"
     ]
    }
   ],
   "source": [
    "# Print the CPDs\n",
    "bn.print_CPD(DAG)\n",
    "# At this point we have a DAG with the learned CPDs"
   ]
  },
  {
   "attachments": {},
   "cell_type": "markdown",
   "metadata": {},
   "source": [
    "Now we can combined our expert knowledge with the data set! \n",
    "\n",
    "Then we can make inferences which allows us to ask causal questions from the model. Let us demonstrate a few questions...\n",
    "\n",
    "<br>\n",
    "\n",
    "**Question 1:**\n",
    "\n",
    "**What is the probability of lung-cancer, given that we know that patient does smoke $P(Lung-Cancer | smoke)$?**"
   ]
  },
  {
   "cell_type": "code",
   "execution_count": 6,
   "metadata": {},
   "outputs": [
    {
     "name": "stdout",
     "output_type": "stream",
     "text": [
      "[bnlearn] >Variable Elimination..\n"
     ]
    },
    {
     "name": "stderr",
     "output_type": "stream",
     "text": [
      "Finding Elimination Order: : : 0it [00:00, ?it/s]\n",
      "0it [00:00, ?it/s]"
     ]
    },
    {
     "name": "stdout",
     "output_type": "stream",
     "text": [
      "+----+---------------+-----------+\n",
      "|    |   lung_cancer |         p |\n",
      "+====+===============+===========+\n",
      "|  0 |             0 | 0.0726824 |\n",
      "+----+---------------+-----------+\n",
      "|  1 |             1 | 0.927318  |\n",
      "+----+---------------+-----------+\n"
     ]
    },
    {
     "name": "stderr",
     "output_type": "stream",
     "text": [
      "\n"
     ]
    }
   ],
   "source": [
    "q1 = bn.inference.fit(DAG, variables=['lung_cancer'], evidence={'smoke':1})"
   ]
  },
  {
   "attachments": {},
   "cell_type": "markdown",
   "metadata": {},
   "source": [
    "<br/><br/>\n",
    "\n",
    "**Question 2:**\n",
    "\n",
    "**What is the probability of bronchitis, given that we know patient does smoke $P(bronchitis | smoke)$?**"
   ]
  },
  {
   "cell_type": "code",
   "execution_count": 7,
   "metadata": {},
   "outputs": [
    {
     "name": "stdout",
     "output_type": "stream",
     "text": [
      "[bnlearn] >Variable Elimination..\n"
     ]
    },
    {
     "name": "stderr",
     "output_type": "stream",
     "text": [
      "Finding Elimination Order: : : 0it [00:00, ?it/s]\n",
      "0it [00:00, ?it/s]"
     ]
    },
    {
     "name": "stdout",
     "output_type": "stream",
     "text": [
      "+----+--------------+----------+\n",
      "|    |   bronchitis |        p |\n",
      "+====+==============+==========+\n",
      "|  0 |            0 | 0.326691 |\n",
      "+----+--------------+----------+\n",
      "|  1 |            1 | 0.673309 |\n",
      "+----+--------------+----------+\n"
     ]
    },
    {
     "name": "stderr",
     "output_type": "stream",
     "text": [
      "\n"
     ]
    }
   ],
   "source": [
    "q2 = bn.inference.fit(DAG, variables=['bronchitis'], evidence={'smoke':1})"
   ]
  },
  {
   "attachments": {},
   "cell_type": "markdown",
   "metadata": {},
   "source": [
    "<br/><br/>\n",
    "\n",
    "**Question 3:** \n",
    "\n",
    "**What is the probability of lung-cancer, given that we know that patient does smoke and also has bronchitis $P(lung-cancer | bronchitis, smoke)$?**"
   ]
  },
  {
   "cell_type": "code",
   "execution_count": 8,
   "metadata": {},
   "outputs": [
    {
     "name": "stdout",
     "output_type": "stream",
     "text": [
      "[bnlearn] >Variable Elimination..\n"
     ]
    },
    {
     "name": "stderr",
     "output_type": "stream",
     "text": [
      "Finding Elimination Order: : : 0it [00:00, ?it/s]\n",
      "0it [00:00, ?it/s]"
     ]
    },
    {
     "name": "stdout",
     "output_type": "stream",
     "text": [
      "+----+---------------+-----------+\n",
      "|    |   lung_cancer |         p |\n",
      "+====+===============+===========+\n",
      "|  0 |             0 | 0.0726824 |\n",
      "+----+---------------+-----------+\n",
      "|  1 |             1 | 0.927318  |\n",
      "+----+---------------+-----------+\n"
     ]
    },
    {
     "name": "stderr",
     "output_type": "stream",
     "text": [
      "\n"
     ]
    }
   ],
   "source": [
    "q3 = bn.inference.fit(DAG, variables=['lung_cancer'], evidence={'smoke':1, 'bronchitis':1})"
   ]
  },
  {
   "attachments": {},
   "cell_type": "markdown",
   "metadata": {},
   "source": [
    "<br/><br/>\n",
    "\n",
    "**Question 4:**\n",
    "\n",
    "**What is the probability of lung-cancer or bronchitis, given that we know that patient does smoke but did not had xray?**"
   ]
  },
  {
   "cell_type": "code",
   "execution_count": 9,
   "metadata": {},
   "outputs": [
    {
     "name": "stdout",
     "output_type": "stream",
     "text": [
      "[bnlearn] >Variable Elimination..\n"
     ]
    },
    {
     "name": "stderr",
     "output_type": "stream",
     "text": [
      "Finding Elimination Order: : : 0it [00:00, ?it/s]\n",
      "0it [00:00, ?it/s]"
     ]
    },
    {
     "name": "stdout",
     "output_type": "stream",
     "text": [
      "+----+--------------+---------------+----------+\n",
      "|    |   bronchitis |   lung_cancer |        p |\n",
      "+====+==============+===============+==========+\n",
      "|  0 |            0 |             0 | 0.122772 |\n",
      "+----+--------------+---------------+----------+\n",
      "|  1 |            0 |             1 | 0.206891 |\n",
      "+----+--------------+---------------+----------+\n",
      "|  2 |            1 |             0 | 0.247476 |\n",
      "+----+--------------+---------------+----------+\n",
      "|  3 |            1 |             1 | 0.422862 |\n",
      "+----+--------------+---------------+----------+\n"
     ]
    },
    {
     "name": "stderr",
     "output_type": "stream",
     "text": [
      "\n"
     ]
    }
   ],
   "source": [
    "q4 = bn.inference.fit(DAG, variables=['bronchitis','lung_cancer'], evidence={'smoke':1, 'xray':0})"
   ]
  },
  {
   "attachments": {},
   "cell_type": "markdown",
   "metadata": {},
   "source": [
    "## Scenario 2: Build a causal model when we have data, but no domain knowledge!\n",
    "\n",
    "Suppose that we have the medical records of hundreds or even thousands patients treatment regarding shortness-of-breath (dyspnoea). \n",
    "\n",
    "Our goal is to determine the causality across variables given the data set. \n",
    "\n",
    "We dont have a prior knowledge. e.g. we are a data scientist whom just start to work with the dataset.\n",
    "\n",
    "We use a causal discovery method such as PC to estimate the DAG structure of the dataset."
   ]
  },
  {
   "attachments": {},
   "cell_type": "markdown",
   "metadata": {},
   "source": [
    "### Causal Discovery with a Indepence-based Method:\n",
    "\n",
    "#### PC Algorithm \n",
    "\n",
    "As we saw the PC algorithm is based on independence-based method that creates a DAG by querying the dataset for d-separation statements and by checking the corresponding conditional independence test."
   ]
  },
  {
   "cell_type": "code",
   "execution_count": 1,
   "metadata": {},
   "outputs": [],
   "source": [
    "from pgmpy.estimators import PC, HillClimbSearch, MmhcEstimator\n",
    "from pgmpy.estimators import K2Score\n",
    "import bnlearn as bn\n",
    "import utils\n",
    "import graphviz as gr\n",
    "import pandas as pd"
   ]
  },
  {
   "cell_type": "code",
   "execution_count": 2,
   "metadata": {},
   "outputs": [],
   "source": [
    "df = pd.read_csv(\"data/dyspnoea.csv\")"
   ]
  },
  {
   "cell_type": "code",
   "execution_count": 33,
   "metadata": {},
   "outputs": [
    {
     "name": "stderr",
     "output_type": "stream",
     "text": [
      "Working for n conditional variables: 4:  80%|████████  | 4/5 [00:00<00:00,  8.65it/s]\n"
     ]
    },
    {
     "data": {
      "image/svg+xml": [
       "<?xml version=\"1.0\" encoding=\"UTF-8\" standalone=\"no\"?>\n",
       "<!DOCTYPE svg PUBLIC \"-//W3C//DTD SVG 1.1//EN\"\n",
       " \"http://www.w3.org/Graphics/SVG/1.1/DTD/svg11.dtd\">\n",
       "<!-- Generated by graphviz version 3.0.0 (20220226.1711)\n",
       " -->\n",
       "<!-- Pages: 1 -->\n",
       "<svg width=\"375pt\" height=\"188pt\"\n",
       " viewBox=\"0.00 0.00 374.89 188.00\" xmlns=\"http://www.w3.org/2000/svg\" xmlns:xlink=\"http://www.w3.org/1999/xlink\">\n",
       "<g id=\"graph0\" class=\"graph\" transform=\"scale(1 1) rotate(0) translate(4 184)\">\n",
       "<polygon fill=\"white\" stroke=\"transparent\" points=\"-4,4 -4,-184 370.89,-184 370.89,4 -4,4\"/>\n",
       "<!-- lung_cancer -->\n",
       "<g id=\"node1\" class=\"node\">\n",
       "<title>lung_cancer</title>\n",
       "<ellipse fill=\"none\" stroke=\"black\" cx=\"165.8\" cy=\"-90\" rx=\"54.69\" ry=\"18\"/>\n",
       "<text text-anchor=\"middle\" x=\"165.8\" y=\"-86.3\" font-family=\"Times New Roman,serif\" font-size=\"14.00\">lung_cancer</text>\n",
       "</g>\n",
       "<!-- dyspnea -->\n",
       "<g id=\"node2\" class=\"node\">\n",
       "<title>dyspnea</title>\n",
       "<ellipse fill=\"none\" stroke=\"black\" cx=\"165.8\" cy=\"-18\" rx=\"40.89\" ry=\"18\"/>\n",
       "<text text-anchor=\"middle\" x=\"165.8\" y=\"-14.3\" font-family=\"Times New Roman,serif\" font-size=\"14.00\">dyspnea</text>\n",
       "</g>\n",
       "<!-- lung_cancer&#45;&gt;dyspnea -->\n",
       "<g id=\"edge1\" class=\"edge\">\n",
       "<title>lung_cancer&#45;&gt;dyspnea</title>\n",
       "<path fill=\"none\" stroke=\"black\" d=\"M165.8,-71.7C165.8,-63.98 165.8,-54.71 165.8,-46.11\"/>\n",
       "<polygon fill=\"black\" stroke=\"black\" points=\"169.3,-46.1 165.8,-36.1 162.3,-46.1 169.3,-46.1\"/>\n",
       "</g>\n",
       "<!-- xray -->\n",
       "<g id=\"node3\" class=\"node\">\n",
       "<title>xray</title>\n",
       "<ellipse fill=\"none\" stroke=\"black\" cx=\"271.8\" cy=\"-18\" rx=\"27\" ry=\"18\"/>\n",
       "<text text-anchor=\"middle\" x=\"271.8\" y=\"-14.3\" font-family=\"Times New Roman,serif\" font-size=\"14.00\">xray</text>\n",
       "</g>\n",
       "<!-- lung_cancer&#45;&gt;xray -->\n",
       "<g id=\"edge2\" class=\"edge\">\n",
       "<title>lung_cancer&#45;&gt;xray</title>\n",
       "<path fill=\"none\" stroke=\"black\" d=\"M189.06,-73.64C205.46,-62.81 227.47,-48.27 244.67,-36.91\"/>\n",
       "<polygon fill=\"black\" stroke=\"black\" points=\"246.75,-39.73 253.17,-31.3 242.9,-33.89 246.75,-39.73\"/>\n",
       "</g>\n",
       "<!-- bronchitis -->\n",
       "<g id=\"node4\" class=\"node\">\n",
       "<title>bronchitis</title>\n",
       "<ellipse fill=\"none\" stroke=\"black\" cx=\"46.8\" cy=\"-90\" rx=\"46.59\" ry=\"18\"/>\n",
       "<text text-anchor=\"middle\" x=\"46.8\" y=\"-86.3\" font-family=\"Times New Roman,serif\" font-size=\"14.00\">bronchitis</text>\n",
       "</g>\n",
       "<!-- bronchitis&#45;&gt;dyspnea -->\n",
       "<g id=\"edge3\" class=\"edge\">\n",
       "<title>bronchitis&#45;&gt;dyspnea</title>\n",
       "<path fill=\"none\" stroke=\"black\" d=\"M71.45,-74.5C89.44,-63.92 113.98,-49.48 133.52,-37.99\"/>\n",
       "<polygon fill=\"black\" stroke=\"black\" points=\"135.54,-40.86 142.39,-32.77 131.99,-34.82 135.54,-40.86\"/>\n",
       "</g>\n",
       "<!-- tuberculosis -->\n",
       "<g id=\"node5\" class=\"node\">\n",
       "<title>tuberculosis</title>\n",
       "<ellipse fill=\"none\" stroke=\"black\" cx=\"292.8\" cy=\"-90\" rx=\"54.69\" ry=\"18\"/>\n",
       "<text text-anchor=\"middle\" x=\"292.8\" y=\"-86.3\" font-family=\"Times New Roman,serif\" font-size=\"14.00\">tuberculosis</text>\n",
       "</g>\n",
       "<!-- tuberculosis&#45;&gt;dyspnea -->\n",
       "<g id=\"edge5\" class=\"edge\">\n",
       "<title>tuberculosis&#45;&gt;dyspnea</title>\n",
       "<path fill=\"none\" stroke=\"black\" d=\"M265.86,-74.15C246.45,-63.46 220.13,-48.95 199.36,-37.5\"/>\n",
       "<polygon fill=\"black\" stroke=\"black\" points=\"200.98,-34.4 190.54,-32.64 197.61,-40.53 200.98,-34.4\"/>\n",
       "</g>\n",
       "<!-- tuberculosis&#45;&gt;xray -->\n",
       "<g id=\"edge4\" class=\"edge\">\n",
       "<title>tuberculosis&#45;&gt;xray</title>\n",
       "<path fill=\"none\" stroke=\"black\" d=\"M287.71,-72.05C285.31,-64.06 282.4,-54.33 279.72,-45.4\"/>\n",
       "<polygon fill=\"black\" stroke=\"black\" points=\"283.06,-44.36 276.83,-35.79 276.35,-46.37 283.06,-44.36\"/>\n",
       "</g>\n",
       "<!-- smoke -->\n",
       "<g id=\"node6\" class=\"node\">\n",
       "<title>smoke</title>\n",
       "<ellipse fill=\"none\" stroke=\"black\" cx=\"106.8\" cy=\"-162\" rx=\"34.39\" ry=\"18\"/>\n",
       "<text text-anchor=\"middle\" x=\"106.8\" y=\"-158.3\" font-family=\"Times New Roman,serif\" font-size=\"14.00\">smoke</text>\n",
       "</g>\n",
       "<!-- smoke&#45;&gt;lung_cancer -->\n",
       "<g id=\"edge7\" class=\"edge\">\n",
       "<title>smoke&#45;&gt;lung_cancer</title>\n",
       "<path fill=\"none\" stroke=\"black\" d=\"M120.18,-145.12C127.51,-136.42 136.76,-125.45 145.01,-115.66\"/>\n",
       "<polygon fill=\"black\" stroke=\"black\" points=\"147.87,-117.7 151.64,-107.8 142.52,-113.19 147.87,-117.7\"/>\n",
       "</g>\n",
       "<!-- smoke&#45;&gt;bronchitis -->\n",
       "<g id=\"edge6\" class=\"edge\">\n",
       "<title>smoke&#45;&gt;bronchitis</title>\n",
       "<path fill=\"none\" stroke=\"black\" d=\"M93.18,-145.12C85.54,-136.2 75.86,-124.91 67.32,-114.94\"/>\n",
       "<polygon fill=\"black\" stroke=\"black\" points=\"69.94,-112.62 60.77,-107.31 64.62,-117.18 69.94,-112.62\"/>\n",
       "</g>\n",
       "<!-- tuberculosis_area -->\n",
       "<g id=\"node7\" class=\"node\">\n",
       "<title>tuberculosis_area</title>\n",
       "<ellipse fill=\"none\" stroke=\"black\" cx=\"292.8\" cy=\"-162\" rx=\"74.19\" ry=\"18\"/>\n",
       "<text text-anchor=\"middle\" x=\"292.8\" y=\"-158.3\" font-family=\"Times New Roman,serif\" font-size=\"14.00\">tuberculosis_area</text>\n",
       "</g>\n",
       "<!-- tuberculosis_area&#45;&gt;tuberculosis -->\n",
       "<g id=\"edge8\" class=\"edge\">\n",
       "<title>tuberculosis_area&#45;&gt;tuberculosis</title>\n",
       "<path fill=\"none\" stroke=\"black\" d=\"M292.8,-143.7C292.8,-135.98 292.8,-126.71 292.8,-118.11\"/>\n",
       "<polygon fill=\"black\" stroke=\"black\" points=\"296.3,-118.1 292.8,-108.1 289.3,-118.1 296.3,-118.1\"/>\n",
       "</g>\n",
       "</g>\n",
       "</svg>\n"
      ],
      "text/plain": [
       "<graphviz.graphs.Digraph at 0x24982ad0e80>"
      ]
     },
     "execution_count": 33,
     "metadata": {},
     "output_type": "execute_result"
    }
   ],
   "source": [
    "est = PC(data = df)\n",
    "estimated_model = est.estimate(variant=\"stable\", max_cond_vars=5, ci_test = \"chi_square\", return_type = \"dag\", significance_level = 0.01)\n",
    "utils.plot_from_model_pgmpy(estimated_model.edges())"
   ]
  },
  {
   "attachments": {},
   "cell_type": "markdown",
   "metadata": {},
   "source": [
    "We see that the graph has been correclty identified.\n",
    "\n",
    "We recall that the ground truth is:"
   ]
  },
  {
   "cell_type": "code",
   "execution_count": 14,
   "metadata": {},
   "outputs": [
    {
     "data": {
      "image/svg+xml": [
       "<?xml version=\"1.0\" encoding=\"UTF-8\" standalone=\"no\"?>\n",
       "<!DOCTYPE svg PUBLIC \"-//W3C//DTD SVG 1.1//EN\"\n",
       " \"http://www.w3.org/Graphics/SVG/1.1/DTD/svg11.dtd\">\n",
       "<!-- Generated by graphviz version 3.0.0 (20220226.1711)\n",
       " -->\n",
       "<!-- Pages: 1 -->\n",
       "<svg width=\"375pt\" height=\"188pt\"\n",
       " viewBox=\"0.00 0.00 374.89 188.00\" xmlns=\"http://www.w3.org/2000/svg\" xmlns:xlink=\"http://www.w3.org/1999/xlink\">\n",
       "<g id=\"graph0\" class=\"graph\" transform=\"scale(1 1) rotate(0) translate(4 184)\">\n",
       "<polygon fill=\"white\" stroke=\"transparent\" points=\"-4,4 -4,-184 370.89,-184 370.89,4 -4,4\"/>\n",
       "<!-- tuberculosis_area -->\n",
       "<g id=\"node1\" class=\"node\">\n",
       "<title>tuberculosis_area</title>\n",
       "<ellipse fill=\"none\" stroke=\"black\" cx=\"74.09\" cy=\"-162\" rx=\"74.19\" ry=\"18\"/>\n",
       "<text text-anchor=\"middle\" x=\"74.09\" y=\"-158.3\" font-family=\"Times New Roman,serif\" font-size=\"14.00\">tuberculosis_area</text>\n",
       "</g>\n",
       "<!-- tuberculosis -->\n",
       "<g id=\"node2\" class=\"node\">\n",
       "<title>tuberculosis</title>\n",
       "<ellipse fill=\"none\" stroke=\"black\" cx=\"74.09\" cy=\"-90\" rx=\"54.69\" ry=\"18\"/>\n",
       "<text text-anchor=\"middle\" x=\"74.09\" y=\"-86.3\" font-family=\"Times New Roman,serif\" font-size=\"14.00\">tuberculosis</text>\n",
       "</g>\n",
       "<!-- tuberculosis_area&#45;&gt;tuberculosis -->\n",
       "<g id=\"edge1\" class=\"edge\">\n",
       "<title>tuberculosis_area&#45;&gt;tuberculosis</title>\n",
       "<path fill=\"none\" stroke=\"black\" d=\"M74.09,-143.7C74.09,-135.98 74.09,-126.71 74.09,-118.11\"/>\n",
       "<polygon fill=\"black\" stroke=\"black\" points=\"77.59,-118.1 74.09,-108.1 70.59,-118.1 77.59,-118.1\"/>\n",
       "</g>\n",
       "<!-- dyspnea -->\n",
       "<g id=\"node3\" class=\"node\">\n",
       "<title>dyspnea</title>\n",
       "<ellipse fill=\"none\" stroke=\"black\" cx=\"201.09\" cy=\"-18\" rx=\"40.89\" ry=\"18\"/>\n",
       "<text text-anchor=\"middle\" x=\"201.09\" y=\"-14.3\" font-family=\"Times New Roman,serif\" font-size=\"14.00\">dyspnea</text>\n",
       "</g>\n",
       "<!-- tuberculosis&#45;&gt;dyspnea -->\n",
       "<g id=\"edge2\" class=\"edge\">\n",
       "<title>tuberculosis&#45;&gt;dyspnea</title>\n",
       "<path fill=\"none\" stroke=\"black\" d=\"M101.03,-74.15C120.44,-63.46 146.76,-48.95 167.53,-37.5\"/>\n",
       "<polygon fill=\"black\" stroke=\"black\" points=\"169.28,-40.53 176.35,-32.64 165.9,-34.4 169.28,-40.53\"/>\n",
       "</g>\n",
       "<!-- xray -->\n",
       "<g id=\"node4\" class=\"node\">\n",
       "<title>xray</title>\n",
       "<ellipse fill=\"none\" stroke=\"black\" cx=\"95.09\" cy=\"-18\" rx=\"27\" ry=\"18\"/>\n",
       "<text text-anchor=\"middle\" x=\"95.09\" y=\"-14.3\" font-family=\"Times New Roman,serif\" font-size=\"14.00\">xray</text>\n",
       "</g>\n",
       "<!-- tuberculosis&#45;&gt;xray -->\n",
       "<g id=\"edge3\" class=\"edge\">\n",
       "<title>tuberculosis&#45;&gt;xray</title>\n",
       "<path fill=\"none\" stroke=\"black\" d=\"M79.18,-72.05C81.58,-64.06 84.49,-54.33 87.17,-45.4\"/>\n",
       "<polygon fill=\"black\" stroke=\"black\" points=\"90.54,-46.37 90.06,-35.79 83.83,-44.36 90.54,-46.37\"/>\n",
       "</g>\n",
       "<!-- lung_cancer -->\n",
       "<g id=\"node5\" class=\"node\">\n",
       "<title>lung_cancer</title>\n",
       "<ellipse fill=\"none\" stroke=\"black\" cx=\"201.09\" cy=\"-90\" rx=\"54.69\" ry=\"18\"/>\n",
       "<text text-anchor=\"middle\" x=\"201.09\" y=\"-86.3\" font-family=\"Times New Roman,serif\" font-size=\"14.00\">lung_cancer</text>\n",
       "</g>\n",
       "<!-- lung_cancer&#45;&gt;dyspnea -->\n",
       "<g id=\"edge5\" class=\"edge\">\n",
       "<title>lung_cancer&#45;&gt;dyspnea</title>\n",
       "<path fill=\"none\" stroke=\"black\" d=\"M201.09,-71.7C201.09,-63.98 201.09,-54.71 201.09,-46.11\"/>\n",
       "<polygon fill=\"black\" stroke=\"black\" points=\"204.59,-46.1 201.09,-36.1 197.59,-46.1 204.59,-46.1\"/>\n",
       "</g>\n",
       "<!-- lung_cancer&#45;&gt;xray -->\n",
       "<g id=\"edge4\" class=\"edge\">\n",
       "<title>lung_cancer&#45;&gt;xray</title>\n",
       "<path fill=\"none\" stroke=\"black\" d=\"M177.83,-73.64C161.43,-62.81 139.42,-48.27 122.22,-36.91\"/>\n",
       "<polygon fill=\"black\" stroke=\"black\" points=\"123.99,-33.89 113.72,-31.3 120.13,-39.73 123.99,-33.89\"/>\n",
       "</g>\n",
       "<!-- smoke -->\n",
       "<g id=\"node6\" class=\"node\">\n",
       "<title>smoke</title>\n",
       "<ellipse fill=\"none\" stroke=\"black\" cx=\"260.09\" cy=\"-162\" rx=\"34.39\" ry=\"18\"/>\n",
       "<text text-anchor=\"middle\" x=\"260.09\" y=\"-158.3\" font-family=\"Times New Roman,serif\" font-size=\"14.00\">smoke</text>\n",
       "</g>\n",
       "<!-- smoke&#45;&gt;lung_cancer -->\n",
       "<g id=\"edge6\" class=\"edge\">\n",
       "<title>smoke&#45;&gt;lung_cancer</title>\n",
       "<path fill=\"none\" stroke=\"black\" d=\"M246.71,-145.12C239.37,-136.42 230.13,-125.45 221.88,-115.66\"/>\n",
       "<polygon fill=\"black\" stroke=\"black\" points=\"224.37,-113.19 215.25,-107.8 219.02,-117.7 224.37,-113.19\"/>\n",
       "</g>\n",
       "<!-- bronchitis -->\n",
       "<g id=\"node7\" class=\"node\">\n",
       "<title>bronchitis</title>\n",
       "<ellipse fill=\"none\" stroke=\"black\" cx=\"320.09\" cy=\"-90\" rx=\"46.59\" ry=\"18\"/>\n",
       "<text text-anchor=\"middle\" x=\"320.09\" y=\"-86.3\" font-family=\"Times New Roman,serif\" font-size=\"14.00\">bronchitis</text>\n",
       "</g>\n",
       "<!-- smoke&#45;&gt;bronchitis -->\n",
       "<g id=\"edge7\" class=\"edge\">\n",
       "<title>smoke&#45;&gt;bronchitis</title>\n",
       "<path fill=\"none\" stroke=\"black\" d=\"M273.71,-145.12C281.35,-136.2 291.03,-124.91 299.57,-114.94\"/>\n",
       "<polygon fill=\"black\" stroke=\"black\" points=\"302.27,-117.18 306.12,-107.31 296.95,-112.62 302.27,-117.18\"/>\n",
       "</g>\n",
       "<!-- bronchitis&#45;&gt;dyspnea -->\n",
       "<g id=\"edge8\" class=\"edge\">\n",
       "<title>bronchitis&#45;&gt;dyspnea</title>\n",
       "<path fill=\"none\" stroke=\"black\" d=\"M295.44,-74.5C277.45,-63.92 252.91,-49.48 233.37,-37.99\"/>\n",
       "<polygon fill=\"black\" stroke=\"black\" points=\"234.9,-34.82 224.5,-32.77 231.35,-40.86 234.9,-34.82\"/>\n",
       "</g>\n",
       "</g>\n",
       "</svg>\n"
      ],
      "text/plain": [
       "<graphviz.graphs.Digraph at 0x1e9df4767c0>"
      ]
     },
     "execution_count": 14,
     "metadata": {},
     "output_type": "execute_result"
    }
   ],
   "source": [
    "ground_truth"
   ]
  },
  {
   "attachments": {},
   "cell_type": "markdown",
   "metadata": {},
   "source": [
    "### Causal Discovery with a Score-based Method:\n",
    "\n",
    "As we saw, Score-based Methods test different graph structures in their ability to fit the data.  \n",
    "\n",
    "- In this problem, we use an Exhaustive and Hill-climb search methods. However, the library has other search methods too.\n",
    "- We use BIC and K2 Score functions.  However, the library has other scores too.\n",
    "\n",
    "Here is the [documentation](https://erdogant.github.io/bnlearn/pages/html/bnlearn.structure_learning.html) page for the **bnlearn library** regarding its various search methods and score functions. \n"
   ]
  },
  {
   "cell_type": "code",
   "execution_count": null,
   "metadata": {},
   "outputs": [],
   "source": [
    "# Search method = Exhaustive search\n",
    "# Score functions: BIC\n",
    "model_estimated = bn.structure_learning.fit(df, methodtype='ex', scoretype='bic')\n",
    "# After 8 minutes the code was still running, compared to 0.6s of the previous approach. Therefore it is here presented only for completeness"
   ]
  },
  {
   "cell_type": "code",
   "execution_count": 15,
   "metadata": {},
   "outputs": [
    {
     "name": "stdout",
     "output_type": "stream",
     "text": [
      "[bnlearn] >Computing best DAG using [hc]\n",
      "[bnlearn] >Set scoring type at [k2]\n"
     ]
    },
    {
     "data": {
      "image/svg+xml": [
       "<?xml version=\"1.0\" encoding=\"UTF-8\" standalone=\"no\"?>\n",
       "<!DOCTYPE svg PUBLIC \"-//W3C//DTD SVG 1.1//EN\"\n",
       " \"http://www.w3.org/Graphics/SVG/1.1/DTD/svg11.dtd\">\n",
       "<!-- Generated by graphviz version 3.0.0 (20220226.1711)\n",
       " -->\n",
       "<!-- Pages: 1 -->\n",
       "<svg width=\"278pt\" height=\"332pt\"\n",
       " viewBox=\"0.00 0.00 277.69 332.00\" xmlns=\"http://www.w3.org/2000/svg\" xmlns:xlink=\"http://www.w3.org/1999/xlink\">\n",
       "<g id=\"graph0\" class=\"graph\" transform=\"scale(1 1) rotate(0) translate(4 328)\">\n",
       "<polygon fill=\"white\" stroke=\"transparent\" points=\"-4,4 -4,-328 273.69,-328 273.69,4 -4,4\"/>\n",
       "<!-- tuberculosis_area -->\n",
       "<g id=\"node1\" class=\"node\">\n",
       "<title>tuberculosis_area</title>\n",
       "<ellipse fill=\"none\" stroke=\"black\" cx=\"74.09\" cy=\"-306\" rx=\"74.19\" ry=\"18\"/>\n",
       "<text text-anchor=\"middle\" x=\"74.09\" y=\"-302.3\" font-family=\"Times New Roman,serif\" font-size=\"14.00\">tuberculosis_area</text>\n",
       "</g>\n",
       "<!-- tuberculosis -->\n",
       "<g id=\"node2\" class=\"node\">\n",
       "<title>tuberculosis</title>\n",
       "<ellipse fill=\"none\" stroke=\"black\" cx=\"74.09\" cy=\"-234\" rx=\"54.69\" ry=\"18\"/>\n",
       "<text text-anchor=\"middle\" x=\"74.09\" y=\"-230.3\" font-family=\"Times New Roman,serif\" font-size=\"14.00\">tuberculosis</text>\n",
       "</g>\n",
       "<!-- tuberculosis_area&#45;&gt;tuberculosis -->\n",
       "<g id=\"edge1\" class=\"edge\">\n",
       "<title>tuberculosis_area&#45;&gt;tuberculosis</title>\n",
       "<path fill=\"none\" stroke=\"black\" d=\"M74.09,-287.7C74.09,-279.98 74.09,-270.71 74.09,-262.11\"/>\n",
       "<polygon fill=\"black\" stroke=\"black\" points=\"77.59,-262.1 74.09,-252.1 70.59,-262.1 77.59,-262.1\"/>\n",
       "</g>\n",
       "<!-- xray -->\n",
       "<g id=\"node3\" class=\"node\">\n",
       "<title>xray</title>\n",
       "<ellipse fill=\"none\" stroke=\"black\" cx=\"74.09\" cy=\"-162\" rx=\"27\" ry=\"18\"/>\n",
       "<text text-anchor=\"middle\" x=\"74.09\" y=\"-158.3\" font-family=\"Times New Roman,serif\" font-size=\"14.00\">xray</text>\n",
       "</g>\n",
       "<!-- tuberculosis&#45;&gt;xray -->\n",
       "<g id=\"edge2\" class=\"edge\">\n",
       "<title>tuberculosis&#45;&gt;xray</title>\n",
       "<path fill=\"none\" stroke=\"black\" d=\"M74.09,-215.7C74.09,-207.98 74.09,-198.71 74.09,-190.11\"/>\n",
       "<polygon fill=\"black\" stroke=\"black\" points=\"77.59,-190.1 74.09,-180.1 70.59,-190.1 77.59,-190.1\"/>\n",
       "</g>\n",
       "<!-- bronchitis -->\n",
       "<g id=\"node4\" class=\"node\">\n",
       "<title>bronchitis</title>\n",
       "<ellipse fill=\"none\" stroke=\"black\" cx=\"176.09\" cy=\"-90\" rx=\"46.59\" ry=\"18\"/>\n",
       "<text text-anchor=\"middle\" x=\"176.09\" y=\"-86.3\" font-family=\"Times New Roman,serif\" font-size=\"14.00\">bronchitis</text>\n",
       "</g>\n",
       "<!-- tuberculosis&#45;&gt;bronchitis -->\n",
       "<g id=\"edge3\" class=\"edge\">\n",
       "<title>tuberculosis&#45;&gt;bronchitis</title>\n",
       "<path fill=\"none\" stroke=\"black\" d=\"M58.35,-216.53C42.45,-197.83 22.33,-166.94 38.09,-144 56.7,-116.92 91.21,-103.67 121.07,-97.19\"/>\n",
       "<polygon fill=\"black\" stroke=\"black\" points=\"121.84,-100.6 130.98,-95.24 120.49,-93.74 121.84,-100.6\"/>\n",
       "</g>\n",
       "<!-- dyspnea -->\n",
       "<g id=\"node5\" class=\"node\">\n",
       "<title>dyspnea</title>\n",
       "<ellipse fill=\"none\" stroke=\"black\" cx=\"160.09\" cy=\"-162\" rx=\"40.89\" ry=\"18\"/>\n",
       "<text text-anchor=\"middle\" x=\"160.09\" y=\"-158.3\" font-family=\"Times New Roman,serif\" font-size=\"14.00\">dyspnea</text>\n",
       "</g>\n",
       "<!-- tuberculosis&#45;&gt;dyspnea -->\n",
       "<g id=\"edge4\" class=\"edge\">\n",
       "<title>tuberculosis&#45;&gt;dyspnea</title>\n",
       "<path fill=\"none\" stroke=\"black\" d=\"M93.61,-217.12C105.4,-207.52 120.58,-195.16 133.47,-184.67\"/>\n",
       "<polygon fill=\"black\" stroke=\"black\" points=\"135.99,-187.13 141.54,-178.1 131.58,-181.7 135.99,-187.13\"/>\n",
       "</g>\n",
       "<!-- smoke -->\n",
       "<g id=\"node7\" class=\"node\">\n",
       "<title>smoke</title>\n",
       "<ellipse fill=\"none\" stroke=\"black\" cx=\"213.09\" cy=\"-18\" rx=\"34.39\" ry=\"18\"/>\n",
       "<text text-anchor=\"middle\" x=\"213.09\" y=\"-14.3\" font-family=\"Times New Roman,serif\" font-size=\"14.00\">smoke</text>\n",
       "</g>\n",
       "<!-- bronchitis&#45;&gt;smoke -->\n",
       "<g id=\"edge10\" class=\"edge\">\n",
       "<title>bronchitis&#45;&gt;smoke</title>\n",
       "<path fill=\"none\" stroke=\"black\" d=\"M185.05,-72.05C189.37,-63.89 194.64,-53.91 199.44,-44.82\"/>\n",
       "<polygon fill=\"black\" stroke=\"black\" points=\"202.64,-46.27 204.22,-35.79 196.45,-42.99 202.64,-46.27\"/>\n",
       "</g>\n",
       "<!-- dyspnea&#45;&gt;bronchitis -->\n",
       "<g id=\"edge5\" class=\"edge\">\n",
       "<title>dyspnea&#45;&gt;bronchitis</title>\n",
       "<path fill=\"none\" stroke=\"black\" d=\"M163.97,-144.05C165.75,-136.26 167.91,-126.82 169.9,-118.08\"/>\n",
       "<polygon fill=\"black\" stroke=\"black\" points=\"173.33,-118.8 172.14,-108.28 166.5,-117.24 173.33,-118.8\"/>\n",
       "</g>\n",
       "<!-- lung_cancer -->\n",
       "<g id=\"node6\" class=\"node\">\n",
       "<title>lung_cancer</title>\n",
       "<ellipse fill=\"none\" stroke=\"black\" cx=\"215.09\" cy=\"-234\" rx=\"54.69\" ry=\"18\"/>\n",
       "<text text-anchor=\"middle\" x=\"215.09\" y=\"-230.3\" font-family=\"Times New Roman,serif\" font-size=\"14.00\">lung_cancer</text>\n",
       "</g>\n",
       "<!-- lung_cancer&#45;&gt;xray -->\n",
       "<g id=\"edge6\" class=\"edge\">\n",
       "<title>lung_cancer&#45;&gt;xray</title>\n",
       "<path fill=\"none\" stroke=\"black\" d=\"M186.22,-218.67C162.32,-206.8 128.48,-190 104.24,-177.96\"/>\n",
       "<polygon fill=\"black\" stroke=\"black\" points=\"105.65,-174.76 95.14,-173.45 102.54,-181.03 105.65,-174.76\"/>\n",
       "</g>\n",
       "<!-- lung_cancer&#45;&gt;bronchitis -->\n",
       "<g id=\"edge8\" class=\"edge\">\n",
       "<title>lung_cancer&#45;&gt;bronchitis</title>\n",
       "<path fill=\"none\" stroke=\"black\" d=\"M216.67,-215.8C217.77,-197.52 217.87,-168 210.09,-144 206.89,-134.12 201.39,-124.27 195.72,-115.8\"/>\n",
       "<polygon fill=\"black\" stroke=\"black\" points=\"198.5,-113.65 189.86,-107.52 192.78,-117.7 198.5,-113.65\"/>\n",
       "</g>\n",
       "<!-- lung_cancer&#45;&gt;dyspnea -->\n",
       "<g id=\"edge7\" class=\"edge\">\n",
       "<title>lung_cancer&#45;&gt;dyspnea</title>\n",
       "<path fill=\"none\" stroke=\"black\" d=\"M202.06,-216.41C195.28,-207.78 186.86,-197.06 179.34,-187.5\"/>\n",
       "<polygon fill=\"black\" stroke=\"black\" points=\"181.96,-185.17 173.03,-179.47 176.46,-189.5 181.96,-185.17\"/>\n",
       "</g>\n",
       "<!-- lung_cancer&#45;&gt;smoke -->\n",
       "<g id=\"edge9\" class=\"edge\">\n",
       "<title>lung_cancer&#45;&gt;smoke</title>\n",
       "<path fill=\"none\" stroke=\"black\" d=\"M220.12,-215.97C222.95,-205.66 226.28,-192.18 228.09,-180 235.18,-132.49 240.32,-119.32 232.09,-72 230.53,-63 227.58,-53.51 224.46,-45.09\"/>\n",
       "<polygon fill=\"black\" stroke=\"black\" points=\"227.71,-43.8 220.79,-35.78 221.2,-46.37 227.71,-43.8\"/>\n",
       "</g>\n",
       "</g>\n",
       "</svg>\n"
      ],
      "text/plain": [
       "<graphviz.graphs.Digraph at 0x22a2b279e50>"
      ]
     },
     "execution_count": 15,
     "metadata": {},
     "output_type": "execute_result"
    }
   ],
   "source": [
    "# Search method = Hill-climb search\n",
    "# Score functions: K2\n",
    "estimated_model_k2 = bn.structure_learning.fit(df, methodtype='hc', scoretype='k2')\n",
    "utils.plot_from_model_bnlearn(estimated_model_k2)"
   ]
  },
  {
   "cell_type": "code",
   "execution_count": 29,
   "metadata": {},
   "outputs": [
    {
     "data": {
      "image/svg+xml": [
       "<?xml version=\"1.0\" encoding=\"UTF-8\" standalone=\"no\"?>\n",
       "<!DOCTYPE svg PUBLIC \"-//W3C//DTD SVG 1.1//EN\"\n",
       " \"http://www.w3.org/Graphics/SVG/1.1/DTD/svg11.dtd\">\n",
       "<!-- Generated by graphviz version 3.0.0 (20220226.1711)\n",
       " -->\n",
       "<!-- Pages: 1 -->\n",
       "<svg width=\"375pt\" height=\"188pt\"\n",
       " viewBox=\"0.00 0.00 374.89 188.00\" xmlns=\"http://www.w3.org/2000/svg\" xmlns:xlink=\"http://www.w3.org/1999/xlink\">\n",
       "<g id=\"graph0\" class=\"graph\" transform=\"scale(1 1) rotate(0) translate(4 184)\">\n",
       "<polygon fill=\"white\" stroke=\"transparent\" points=\"-4,4 -4,-184 370.89,-184 370.89,4 -4,4\"/>\n",
       "<!-- tuberculosis_area -->\n",
       "<g id=\"node1\" class=\"node\">\n",
       "<title>tuberculosis_area</title>\n",
       "<ellipse fill=\"none\" stroke=\"black\" cx=\"74.09\" cy=\"-162\" rx=\"74.19\" ry=\"18\"/>\n",
       "<text text-anchor=\"middle\" x=\"74.09\" y=\"-158.3\" font-family=\"Times New Roman,serif\" font-size=\"14.00\">tuberculosis_area</text>\n",
       "</g>\n",
       "<!-- tuberculosis -->\n",
       "<g id=\"node2\" class=\"node\">\n",
       "<title>tuberculosis</title>\n",
       "<ellipse fill=\"none\" stroke=\"black\" cx=\"74.09\" cy=\"-90\" rx=\"54.69\" ry=\"18\"/>\n",
       "<text text-anchor=\"middle\" x=\"74.09\" y=\"-86.3\" font-family=\"Times New Roman,serif\" font-size=\"14.00\">tuberculosis</text>\n",
       "</g>\n",
       "<!-- tuberculosis_area&#45;&gt;tuberculosis -->\n",
       "<g id=\"edge1\" class=\"edge\">\n",
       "<title>tuberculosis_area&#45;&gt;tuberculosis</title>\n",
       "<path fill=\"none\" stroke=\"black\" d=\"M74.09,-143.7C74.09,-135.98 74.09,-126.71 74.09,-118.11\"/>\n",
       "<polygon fill=\"black\" stroke=\"black\" points=\"77.59,-118.1 74.09,-108.1 70.59,-118.1 77.59,-118.1\"/>\n",
       "</g>\n",
       "<!-- dyspnea -->\n",
       "<g id=\"node3\" class=\"node\">\n",
       "<title>dyspnea</title>\n",
       "<ellipse fill=\"none\" stroke=\"black\" cx=\"201.09\" cy=\"-18\" rx=\"40.89\" ry=\"18\"/>\n",
       "<text text-anchor=\"middle\" x=\"201.09\" y=\"-14.3\" font-family=\"Times New Roman,serif\" font-size=\"14.00\">dyspnea</text>\n",
       "</g>\n",
       "<!-- tuberculosis&#45;&gt;dyspnea -->\n",
       "<g id=\"edge2\" class=\"edge\">\n",
       "<title>tuberculosis&#45;&gt;dyspnea</title>\n",
       "<path fill=\"none\" stroke=\"black\" d=\"M101.03,-74.15C120.44,-63.46 146.76,-48.95 167.53,-37.5\"/>\n",
       "<polygon fill=\"black\" stroke=\"black\" points=\"169.28,-40.53 176.35,-32.64 165.9,-34.4 169.28,-40.53\"/>\n",
       "</g>\n",
       "<!-- xray -->\n",
       "<g id=\"node4\" class=\"node\">\n",
       "<title>xray</title>\n",
       "<ellipse fill=\"none\" stroke=\"black\" cx=\"95.09\" cy=\"-18\" rx=\"27\" ry=\"18\"/>\n",
       "<text text-anchor=\"middle\" x=\"95.09\" y=\"-14.3\" font-family=\"Times New Roman,serif\" font-size=\"14.00\">xray</text>\n",
       "</g>\n",
       "<!-- tuberculosis&#45;&gt;xray -->\n",
       "<g id=\"edge3\" class=\"edge\">\n",
       "<title>tuberculosis&#45;&gt;xray</title>\n",
       "<path fill=\"none\" stroke=\"black\" d=\"M79.18,-72.05C81.58,-64.06 84.49,-54.33 87.17,-45.4\"/>\n",
       "<polygon fill=\"black\" stroke=\"black\" points=\"90.54,-46.37 90.06,-35.79 83.83,-44.36 90.54,-46.37\"/>\n",
       "</g>\n",
       "<!-- lung_cancer -->\n",
       "<g id=\"node5\" class=\"node\">\n",
       "<title>lung_cancer</title>\n",
       "<ellipse fill=\"none\" stroke=\"black\" cx=\"201.09\" cy=\"-90\" rx=\"54.69\" ry=\"18\"/>\n",
       "<text text-anchor=\"middle\" x=\"201.09\" y=\"-86.3\" font-family=\"Times New Roman,serif\" font-size=\"14.00\">lung_cancer</text>\n",
       "</g>\n",
       "<!-- lung_cancer&#45;&gt;dyspnea -->\n",
       "<g id=\"edge5\" class=\"edge\">\n",
       "<title>lung_cancer&#45;&gt;dyspnea</title>\n",
       "<path fill=\"none\" stroke=\"black\" d=\"M201.09,-71.7C201.09,-63.98 201.09,-54.71 201.09,-46.11\"/>\n",
       "<polygon fill=\"black\" stroke=\"black\" points=\"204.59,-46.1 201.09,-36.1 197.59,-46.1 204.59,-46.1\"/>\n",
       "</g>\n",
       "<!-- lung_cancer&#45;&gt;xray -->\n",
       "<g id=\"edge4\" class=\"edge\">\n",
       "<title>lung_cancer&#45;&gt;xray</title>\n",
       "<path fill=\"none\" stroke=\"black\" d=\"M177.83,-73.64C161.43,-62.81 139.42,-48.27 122.22,-36.91\"/>\n",
       "<polygon fill=\"black\" stroke=\"black\" points=\"123.99,-33.89 113.72,-31.3 120.13,-39.73 123.99,-33.89\"/>\n",
       "</g>\n",
       "<!-- smoke -->\n",
       "<g id=\"node6\" class=\"node\">\n",
       "<title>smoke</title>\n",
       "<ellipse fill=\"none\" stroke=\"black\" cx=\"260.09\" cy=\"-162\" rx=\"34.39\" ry=\"18\"/>\n",
       "<text text-anchor=\"middle\" x=\"260.09\" y=\"-158.3\" font-family=\"Times New Roman,serif\" font-size=\"14.00\">smoke</text>\n",
       "</g>\n",
       "<!-- smoke&#45;&gt;lung_cancer -->\n",
       "<g id=\"edge6\" class=\"edge\">\n",
       "<title>smoke&#45;&gt;lung_cancer</title>\n",
       "<path fill=\"none\" stroke=\"black\" d=\"M246.71,-145.12C239.37,-136.42 230.13,-125.45 221.88,-115.66\"/>\n",
       "<polygon fill=\"black\" stroke=\"black\" points=\"224.37,-113.19 215.25,-107.8 219.02,-117.7 224.37,-113.19\"/>\n",
       "</g>\n",
       "<!-- bronchitis -->\n",
       "<g id=\"node7\" class=\"node\">\n",
       "<title>bronchitis</title>\n",
       "<ellipse fill=\"none\" stroke=\"black\" cx=\"320.09\" cy=\"-90\" rx=\"46.59\" ry=\"18\"/>\n",
       "<text text-anchor=\"middle\" x=\"320.09\" y=\"-86.3\" font-family=\"Times New Roman,serif\" font-size=\"14.00\">bronchitis</text>\n",
       "</g>\n",
       "<!-- smoke&#45;&gt;bronchitis -->\n",
       "<g id=\"edge7\" class=\"edge\">\n",
       "<title>smoke&#45;&gt;bronchitis</title>\n",
       "<path fill=\"none\" stroke=\"black\" d=\"M273.71,-145.12C281.35,-136.2 291.03,-124.91 299.57,-114.94\"/>\n",
       "<polygon fill=\"black\" stroke=\"black\" points=\"302.27,-117.18 306.12,-107.31 296.95,-112.62 302.27,-117.18\"/>\n",
       "</g>\n",
       "<!-- bronchitis&#45;&gt;dyspnea -->\n",
       "<g id=\"edge8\" class=\"edge\">\n",
       "<title>bronchitis&#45;&gt;dyspnea</title>\n",
       "<path fill=\"none\" stroke=\"black\" d=\"M295.44,-74.5C277.45,-63.92 252.91,-49.48 233.37,-37.99\"/>\n",
       "<polygon fill=\"black\" stroke=\"black\" points=\"234.9,-34.82 224.5,-32.77 231.35,-40.86 234.9,-34.82\"/>\n",
       "</g>\n",
       "</g>\n",
       "</svg>\n"
      ],
      "text/plain": [
       "<graphviz.graphs.Digraph at 0x24982aa9af0>"
      ]
     },
     "execution_count": 29,
     "metadata": {},
     "output_type": "execute_result"
    }
   ],
   "source": [
    "ground_truth"
   ]
  },
  {
   "attachments": {},
   "cell_type": "markdown",
   "metadata": {},
   "source": [
    "Finally, we can compare the different causal graphs that we discovered with the ground truth: \n",
    "\n",
    "![img](img/ch6/causal_structure_comparison.png)\n",
    "\n",
    "\n",
    "**Which one is better?**\n",
    "\n",
    "It is important to bear in mind that these algorithms don't guarantee to retrieve the true causal relationship for all the variables (otherwise causal inference would be easy to perform). \n",
    "However, they can help better understand the problems and some relationships between variables. "
   ]
  },
  {
   "attachments": {},
   "cell_type": "markdown",
   "metadata": {},
   "source": [
    "### References\n",
    "For this chapter, we used an exmaple from *bnlearn - Library for Bayesian network learning and inference*. The e-book has varius exmaples with nice visualization. Here is the ptython library [bnlearn](https://pypi.org/project/bnlearn/)\n",
    "\n",
    "The Python bnlearn ieself is inspired by the [bnlearn - an R package for Bayesian network learning and inference](https://www.bnlearn.com) book an amazing work by Marco Scutari, IDSIA.\n"
   ]
  }
 ],
 "metadata": {
  "interpreter": {
   "hash": "f82454df3ab4669350e470cecfad51160e6fdff8e76eafd19d8880dd92d922a3"
  },
  "kernelspec": {
   "display_name": "Python 3 (ipykernel)",
   "language": "python",
   "name": "python3"
  },
  "language_info": {
   "codemirror_mode": {
    "name": "ipython",
    "version": 3
   },
   "file_extension": ".py",
   "mimetype": "text/x-python",
   "name": "python",
   "nbconvert_exporter": "python",
   "pygments_lexer": "ipython3",
   "version": "3.8.8"
  }
 },
 "nbformat": 4,
 "nbformat_minor": 2
}
