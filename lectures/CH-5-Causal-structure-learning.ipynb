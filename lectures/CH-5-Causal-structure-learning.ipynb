{
 "cells": [
  {
   "cell_type": "markdown",
   "metadata": {},
   "source": [
    "# Chapter 5: Causal Structure Learning from Data\n",
    "\n",
    "In the previous chapter, we build a causal model knowing the equation structure of the problem from our domain knowledge. However, we do not have the privilege of knowing causal structure in the real world.\n",
    "In this chapter, our goal is to create a causal model without knowing the causal structure of the problem. In other words, our problem is **causal structure identification or discovery**.\n",
    "\n",
    "- **With structure learning, we want to determine the structure of the graph that best captures the causal dependencies between the variables in a data set.** \n",
    "- In other words, given a dataset, we derive a causal model that describes it.\n",
    "\n",
    "\n",
    "## How can we estimate the causal structure from a dataset?\n",
    "\n",
    "Unfortunately, there is no standard recipe for that, and that's why the causal inference is generally challenging. Causal discovery is an example of an inverse problem. \n",
    "\n",
    "The usual approach to solving inverse problems is to **make assumptions** about what we are trying to investigate. This narrows down the possible solutions and hopefully makes the problem solvable. \n",
    "\n",
    "Remember that there are four common assumptions made across causal discovery algorithms. \n",
    "\n",
    "- **Acyclicity** — causal structure can be represented by a DAG $G$ (mentioned in [Chapter 3](/lectures/CH-3-Graphical-Causal-Models.ipynb))\n",
    "- **Markov Property** — all nodes are independent of their non-descendants when conditioned on their parents (mentioned in [Chapter 3](/lectures/CH-3-Graphical-Causal-Models.ipynb))\n",
    "- **Faithfulness** — all conditional independences in true underlying distribution $p$ are represented in $G$ \n",
    "- **Sufficiency** — any pair of nodes in $G$ has no common external cause\n",
    "\n",
    "\n",
    "A comprehensive discussion of these causal assumptions is availabe  in [Kalainathan et al., 2018]( https://arxiv.org/abs/1803.04929)\n",
    "\n",
    "<br/><br/>\n",
    "\n",
    "\n"
   ]
  },
  {
   "cell_type": "markdown",
   "metadata": {},
   "source": [
    "While there is a large pool of different methods available (and it is still an active field of ongoing research), all these different structure learning techniques can be generally divided into two main groups:  **Independence-Based Methods** and **Score-Based Methods**\n",
    "\n",
    "### A. Independence-Based Methods\n",
    "\n",
    "Independence-based methods assume that the distribution is faithful to the underlying DAG. In orher workds, there is a one-to-one correspondence between d-separationsin the graph and conditional independences in the distribution of the data.  Any query of a d-separation statement can therefore be answered by checking the corresponding conditional independence test.  Inductive causation (IC) algorithm, the\n",
    "SGS algorithm, and the PC algorithm (named after Peter Spirtes and Clark Glymour) are famous independence-test based algorithms. \n",
    "\n",
    "The figure below summarizes the approach for the identification of causal structures. Independence-based methods test for conditional independences in the data;\n",
    "these properties are related to the graph structure by the Markov condition and faithfulness. However,often the graph is not uniquely identifiable; the method may therefore output different\n",
    "graphs $G$ and $G'$.\n",
    "\n",
    "![img](img/ch6/independence_tests.png)\n",
    "\n",
    "Most independence-based methods first estimate the skeleton, that is, the undirected edges, and orient as many edges as possible afterward.\n",
    "\n",
    "#### Estimation of the skeleton\n",
    "\n",
    "The following two statements hold:\n",
    "\n",
    "- Two nodes $X,Y$ in a DAG $(\\mathbf{X},\\mathcal{E})$ are adjacent if and only if they cannot be d-separated by any subset $S \\in \\mathbf{V} \\ {X,Y}$.\n",
    "- If two nodes $X,Y$ in a DAG $(\\mathbf{X},\\mathcal{E})$ are not adjacent, then they are d-separated by either $\\mathbf{Pa}_X$ or $\\mathbf{Pa}_Y$.\n",
    "\n",
    "It follows that if two variables are always dependent, no matter what other variables one conditions on, these two variables must be adjacent (i.e., an edge must connect them).\n",
    "\n",
    "#### Orientation of Edges\n",
    "\n",
    "After the skeleton is built, if two nodes are not directly connected in the obtained skeleton, there is a set that d-separates these nodes. \n",
    "Suppose that the skeleton contains the structure $X - Z - Y$ with no direct edge between $X$ and $$. Further, let $A$ be a set that d-separates $X$ and $Y$. The structure $X - Z - Y$ is\n",
    "an immorality and can therefore be oriented as $X → Z ← Y$ if and only if $Z \\notin A$.\n",
    "After the orientation of immoralities, further edges are oriented in order to avoid cycles.\n",
    "\n",
    "<br>\n",
    "\n",
    "An outline of the PC algorithm is illustrated in the figure below (image taken from https://towardsdatascience.com/causal-discovery-6858f9af6dcb). \n",
    "\n",
    "![img](img/ch6/Trick1.png)\n",
    "\n",
    "\n",
    "**Step 1:** form a fully connected, undirected graph using every variable in the dataset. \n",
    "\n",
    "**Step 2:**  edges are deleted if the corresponding variables are independent. \n",
    "\n",
    "**Step 3:**  connected edges undergo conditional independence testing, e.g., independence test of bottom and far-right node conditioned on the middle node (see step 2). If conditioning on a variable kills the dependence, that variable is added to the Separation set for those two variables. Depending on the size of the graph, conditional independence testing will continue (i.e. condition on more variables) until there are no more candidates for testing.\n",
    "\n",
    "**Step 4:**  colliders (i.e. $X \\rightarrow Y \\leftarrow Z$) are oriented based on the Separation set of node pairs. \n",
    "\n",
    "**Step 5:**  remaining edges are directed based on two constraints, 1) no new v-structures and 2) no directed cycles can be formed."
   ]
  },
  {
   "cell_type": "markdown",
   "metadata": {},
   "source": [
    "### B. Score-based Methods\n",
    "\n",
    "In the preceding section we have directly used the independence statements to infer the graph. Alternatively, we can test different graph structures in their ability to\n",
    "fit the data. The idea is that graph structures encoding the wrong conditional independences, for example, will yield bad model fits.\n",
    "\n",
    "#### Best Scoring Graph  \n",
    "\n",
    "Given data $\\mathcal{D} = (X^1,\\dots,X^n)$ from a vector $X$ of variables (e.g., a sample containing $n$ i.i.d. observations), the idea is to assign a score $S(\\mathcal{D},\\mathcal{G})$ to each graph $G$ and search over the space of DAGs to find the graph with the highest score:\n",
    "\n",
    "$$\\hat{ \\mathcal{D} } = argmax_{\\mathcal{G} DAG over \\mathbf{X}} S(\\mathcal{D},\\mathcal{G})$$\n",
    "\n",
    "There are several possibilities to define such a scoring function $S$. Often a parametric model is assumed, for example linear Gaussian equations or multinomial distributions which introduces a set of parameters $\\theta$.\n",
    "\n",
    "Here listed are some common functions or approaches used.\n",
    "\n",
    "**(Penalized) Likelihood:**  \n",
    "\n",
    "For each graph we may consider the maximum likelihood estimator $\\hat{\\theta}$ for $\\theta$ and then define a score function by the BIC: \n",
    "\n",
    "$$ S(\\mathcal{D},\\mathcal{G}) = \\log p(\\mathcal{D}|\\hat{\\theta}, \\mathcal{g}) - \\frac{\\# parameters}{2} \\log n $$ \n",
    "\n",
    "where $\\log p(\\mathcal{D}|\\hat{\\theta}, \\mathcal{G})$ is the log likelihood and n is the sample size.\n",
    "\n",
    "**Bayesian Scoring Functions:** \n",
    "\n",
    "We define priors $p_{pr}(G)$ and $p_{pr}(\\theta)$ over DAGs and parameters, respectively, and consider the log posterior as a score function (note that $p(\\mathcal{D})$ is constant over all DAGs):\n",
    "\n",
    "$$ S(\\mathcal{D},\\mathcal{G}) := \\log p (\\mathcal{D},\\mathcal{G}) \\propto \\log p_{pr}(\\mathcal{G}) + \\log p(\\mathcal{D}|\\mathcal{G})$$ \n",
    "\n",
    "where $\\log p(\\mathcal{D}|\\mathcal{G})$ is the marginal likelihood.\n",
    "\n",
    "In the case of parametric models, we call two graphs $G_1$ and $G_2$ distribution equivalent if for each parameter $\\theta_1$ there is a corresponding parameter $\\theta_2$, such that the distribution obtained from $G_1$ in combination with θ1 is the same as the distribution obtained from graph $G_1$ with $\\theta_2$, and vice versa. \n",
    "It can be shown that in the linear Gaussian case, for example, two graphs are distribution equivalent if and only if they are Markov equivalent. \n",
    "\n",
    "\n",
    "#### Greedy Search Techniques\n",
    "\n",
    "The search space of all DAGs is growing superexponentially in the number of variables. In general, finding the optimal scoring DAG is a NP-hard problem. \n",
    "Just to have an idea, , the numbers of DAGs for 2, 3, 4, and 10 variables are 3, 25, 543, and 4175098976430598143, respectively.\n",
    "Therefore, it is evident that computing an exact solution that maximize the score $S(\\mathcal{D},\\mathcal{G})$ by searching over all graphs is often infeasible. \n",
    "\n",
    "Instead, greedy search algorithms can be applied.\n",
    "\n",
    "A greedy algorithm is an approach for solving a problem by selecting the best option available at the moment. \n",
    "\n",
    "- greedy algorithms doesn't worry whether the current best result will bring the globally optimal result. The algorithm never reverses the earlier decision, even if the choice is wrong. \n",
    "\n",
    "- Usually, greedy algorithms are easier to describe and can perform quite well than other algorithms. However, greedy searches cannot guarantee an optimal solution. \n",
    "\n",
    "- For most problems, the space of possible DAGs is so big that finding a true optimal solution is challenging.\n",
    "\n",
    "- The **Greedy Equivalence Search (GES)** algorithm uses this trick. GES starts with an empty graph and iteratively adds directed edges such that the improvement in a model fitness measure (i.e., score) is maximized.\n",
    "\n",
    "\n",
    "\n",
    "### C. Other tricks\n",
    "\n",
    "Often, some additional tricks are used.  \n",
    "A fundamental property of causality is **asymmetry**. $A$ could cause $B$, but $B$ may not cause $A$. Thus, some algorithms leverage this idea to select between causal model candidates concerning time.\n",
    "Time asymmetry is quite natural since causes happen before effects. This is used in the **Granger causality test** too. Granger causality test says that a variable $X$ that evolves over time causes another evolving variable $Y$ if predictions of the value of $Y$ based on its own past values and based on the past values of $X$ are better than predictions of $Y$ based only on $ Y$'s own past values.\n",
    "\n",
    "\n",
    "**Neural networks** have been used to explore causal relationships. Following are two examples:\n",
    "\n",
    "- Causal Generative Neural Networks (CGNN), where the algorithm learns functional causal models from observational data based on generative neural networks. [CGNN](https://arxiv.org/pdf/1711.08936.pdf)\n",
    "\n",
    "- Casual Recurrent Neural Networks (CRNN), where we developed a framework to explore causal structure in a multivariate time-series problem. [CRNN](https://ieeexplore.ieee.org/abstract/document/8437162)"
   ]
  },
  {
   "cell_type": "markdown",
   "metadata": {},
   "source": [
    "A broad overview of different causal structure search methods is available at:\n",
    "[Review of Causal Discovery Methods Based on Graphical Models](https://www.frontiersin.org/articles/10.3389/fgene.2019.00524/full#:~:text=Causal%20discovery%20aims%20to%20find,process%20or%20the%20sampling%20process)\n",
    "\n",
    "We also recommend you to check Chapter 4 and 7, Learning Cause-Effect Models from the [Elements of Causal Inference](https://mitpress.mit.edu/books/elements-causal-inference) book.\n",
    "\n",
    "Finally, **structure learning is an active field of research.** These algorithms don't guarantee to retrieve the true causal relationship for all the variables. However, they can help better understand the problems and some relationships between variables. "
   ]
  },
  {
   "attachments": {},
   "cell_type": "markdown",
   "metadata": {},
   "source": [
    "## Example for Causal Structure Learning : Shortness of breath disease\n",
    "\n",
    "In this example we will try to analyse patients treatment regarding shortness-of-breath (dyspnoea). The dataset has few variables and is siumulated by [Lauritzen and Spiegelhalter,1988](https://www.jstor.org/stable/2345762?seq=1). The data is about relationship between lung diseases (tuberculosis, lung cancer or bronchitis) and visits to infection areas for 20000 patientes.\n",
    "\n",
    "**Background:** Shortness-of-breath (dyspnoea) may be due to **tuberculosis, lung cancer, bronchitis**, or none of them, or more than one of them. A recent visit to infectious areas increases the chances of tuberculosis, while smoking is known to be a risk factor for both lung cancer and bronchitis. The results of a single chest X-ray do not discriminate between lung cancer and tuberculosis, as neither does the presence or absence of dyspnoea.\n",
    "\n",
    "![img](img/ch6/dyspnoea.jpeg)\n",
    "\n",
    "We will make use of the *bnlearn* and *pgmpy* library, which are a Python implementation for Bayesian Networks with various algorithms for Structure Learning, Parameter Estimation, Approximate (Sampling Based), and Causal Inference."
   ]
  },
  {
   "cell_type": "code",
   "execution_count": 1,
   "metadata": {},
   "outputs": [
    {
     "name": "stdout",
     "output_type": "stream",
     "text": [
      "[bnlearn] >bayes DAG created.\n",
      "[bnlearn] >Extracting files..\n"
     ]
    },
    {
     "name": "stderr",
     "output_type": "stream",
     "text": [
      "Generating for node: dysp: 100%|██████████| 8/8 [00:00<00:00, 216.80it/s]\n"
     ]
    },
    {
     "name": "stdout",
     "output_type": "stream",
     "text": [
      "[bnlearn] >Forward sampling for 10000 samples..\n"
     ]
    },
    {
     "name": "stderr",
     "output_type": "stream",
     "text": [
      "Generating for node: dysp: 100%|██████████| 7/7 [00:00<00:00, 242.03it/s]\n"
     ]
    }
   ],
   "source": [
    "import utils\n",
    "df = utils.generate_dyspnoea_dataset()\n",
    "# Save the DataFrame in case\n",
    "# df.to_csv(\"dyspnoea.csv\", index=False)"
   ]
  },
  {
   "cell_type": "code",
   "execution_count": 2,
   "metadata": {},
   "outputs": [
    {
     "name": "stdout",
     "output_type": "stream",
     "text": [
      "[bnlearn] >bayes DAG created.\n"
     ]
    },
    {
     "data": {
      "image/png": "[encoded data removed]",
      "text/plain": [
       "<Figure size 432x288 with 1 Axes>"
      ]
     },
     "metadata": {},
     "output_type": "display_data"
    }
   ],
   "source": [
    "utils.plot_dyspnoea_dataset()"
   ]
  },
  {
   "attachments": {},
   "cell_type": "markdown",
   "metadata": {},
   "source": [
    "This is the 'ground truth', which is the model that generates the data. Let's see if we can retrieve it back from the data (this is where the **causal structure learning** comes into). "
   ]
  },
  {
   "cell_type": "code",
   "execution_count": 2,
   "metadata": {
    "scrolled": true
   },
   "outputs": [
    {
     "data": {
      "text/html": [
       "<div>\n",
       "<style scoped>\n",
       "    .dataframe tbody tr th:only-of-type {\n",
       "        vertical-align: middle;\n",
       "    }\n",
       "\n",
       "    .dataframe tbody tr th {\n",
       "        vertical-align: top;\n",
       "    }\n",
       "\n",
       "    .dataframe thead th {\n",
       "        text-align: right;\n",
       "    }\n",
       "</style>\n",
       "<table border=\"1\" class=\"dataframe\">\n",
       "  <thead>\n",
       "    <tr style=\"text-align: right;\">\n",
       "      <th></th>\n",
       "      <th>tuberculosis_area</th>\n",
       "      <th>tuberculosis</th>\n",
       "      <th>dyspnea</th>\n",
       "      <th>xray</th>\n",
       "      <th>lung_cancer</th>\n",
       "      <th>smoke</th>\n",
       "      <th>bronchitis</th>\n",
       "    </tr>\n",
       "  </thead>\n",
       "  <tbody>\n",
       "    <tr>\n",
       "      <th>0</th>\n",
       "      <td>1</td>\n",
       "      <td>1</td>\n",
       "      <td>1</td>\n",
       "      <td>1</td>\n",
       "      <td>1</td>\n",
       "      <td>0</td>\n",
       "      <td>1</td>\n",
       "    </tr>\n",
       "    <tr>\n",
       "      <th>1</th>\n",
       "      <td>1</td>\n",
       "      <td>1</td>\n",
       "      <td>1</td>\n",
       "      <td>1</td>\n",
       "      <td>1</td>\n",
       "      <td>0</td>\n",
       "      <td>1</td>\n",
       "    </tr>\n",
       "    <tr>\n",
       "      <th>2</th>\n",
       "      <td>1</td>\n",
       "      <td>1</td>\n",
       "      <td>0</td>\n",
       "      <td>1</td>\n",
       "      <td>1</td>\n",
       "      <td>0</td>\n",
       "      <td>0</td>\n",
       "    </tr>\n",
       "    <tr>\n",
       "      <th>3</th>\n",
       "      <td>1</td>\n",
       "      <td>1</td>\n",
       "      <td>0</td>\n",
       "      <td>1</td>\n",
       "      <td>1</td>\n",
       "      <td>0</td>\n",
       "      <td>0</td>\n",
       "    </tr>\n",
       "    <tr>\n",
       "      <th>4</th>\n",
       "      <td>1</td>\n",
       "      <td>1</td>\n",
       "      <td>0</td>\n",
       "      <td>1</td>\n",
       "      <td>1</td>\n",
       "      <td>0</td>\n",
       "      <td>0</td>\n",
       "    </tr>\n",
       "  </tbody>\n",
       "</table>\n",
       "</div>"
      ],
      "text/plain": [
       "   tuberculosis_area  tuberculosis  dyspnea  xray  lung_cancer  smoke  \\\n",
       "0                  1             1        1     1            1      0   \n",
       "1                  1             1        1     1            1      0   \n",
       "2                  1             1        0     1            1      0   \n",
       "3                  1             1        0     1            1      0   \n",
       "4                  1             1        0     1            1      0   \n",
       "\n",
       "   bronchitis  \n",
       "0           1  \n",
       "1           1  \n",
       "2           0  \n",
       "3           0  \n",
       "4           0  "
      ]
     },
     "execution_count": 2,
     "metadata": {},
     "output_type": "execute_result"
    }
   ],
   "source": [
    "# Load model\n",
    "import bnlearn as bn\n",
    "import pandas as pd\n",
    "\n",
    "df = pd.read_csv('data/dyspnoea.csv')\n",
    "df.head()"
   ]
  },
  {
   "cell_type": "markdown",
   "metadata": {},
   "source": [
    "## Build a causal model when we have data and domain knowledge\n",
    "\n",
    "As we saw in the lectures, expert knowledge can be included in causal models by using graphs in the form of a Directed Acyclic Graphs. Let's assume that our knowledge about dyspnoea is limited to: smoking is related to lung cancer, smoking is related to bronchitis, and if you have lung or bronchitus we may need an xray examination. \n",
    "\n",
    "Therefore, we create a DAG based on this knowledge:"
   ]
  },
  {
   "cell_type": "code",
   "execution_count": 24,
   "metadata": {},
   "outputs": [
    {
     "name": "stdout",
     "output_type": "stream",
     "text": [
      "[bnlearn] >bayes DAG created.\n"
     ]
    },
    {
     "data": {
      "image/svg+xml": [
       "<?xml version=\"1.0\" encoding=\"UTF-8\" standalone=\"no\"?>\n",
       "<!DOCTYPE svg PUBLIC \"-//W3C//DTD SVG 1.1//EN\"\n",
       " \"http://www.w3.org/Graphics/SVG/1.1/DTD/svg11.dtd\">\n",
       "<!-- Generated by graphviz version 2.50.0 (0)\n",
       " -->\n",
       "<!-- Pages: 1 -->\n",
       "<svg width=\"142pt\" height=\"188pt\"\n",
       " viewBox=\"0.00 0.00 141.55 188.00\" xmlns=\"http://www.w3.org/2000/svg\" xmlns:xlink=\"http://www.w3.org/1999/xlink\">\n",
       "<g id=\"graph0\" class=\"graph\" transform=\"scale(1 1) rotate(0) translate(4 184)\">\n",
       "<polygon fill=\"white\" stroke=\"transparent\" points=\"-4,4 -4,-184 137.55,-184 137.55,4 -4,4\"/>\n",
       "<!-- smoke -->\n",
       "<g id=\"node1\" class=\"node\">\n",
       "<title>smoke</title>\n",
       "<ellipse fill=\"none\" stroke=\"black\" cx=\"65\" cy=\"-162\" rx=\"34.39\" ry=\"18\"/>\n",
       "<text text-anchor=\"middle\" x=\"65\" y=\"-158.3\" font-family=\"Times,serif\" font-size=\"14.00\">smoke</text>\n",
       "</g>\n",
       "<!-- lung -->\n",
       "<g id=\"node2\" class=\"node\">\n",
       "<title>lung</title>\n",
       "<ellipse fill=\"none\" stroke=\"black\" cx=\"27\" cy=\"-90\" rx=\"27\" ry=\"18\"/>\n",
       "<text text-anchor=\"middle\" x=\"27\" y=\"-86.3\" font-family=\"Times,serif\" font-size=\"14.00\">lung</text>\n",
       "</g>\n",
       "<!-- smoke&#45;&gt;lung -->\n",
       "<g id=\"edge1\" class=\"edge\">\n",
       "<title>smoke&#45;&gt;lung</title>\n",
       "<path fill=\"none\" stroke=\"black\" d=\"M55.99,-144.41C51.45,-136.04 45.84,-125.71 40.77,-116.37\"/>\n",
       "<polygon fill=\"black\" stroke=\"black\" points=\"43.79,-114.59 35.94,-107.47 37.64,-117.93 43.79,-114.59\"/>\n",
       "</g>\n",
       "<!-- bronc -->\n",
       "<g id=\"node3\" class=\"node\">\n",
       "<title>bronc</title>\n",
       "<ellipse fill=\"none\" stroke=\"black\" cx=\"103\" cy=\"-90\" rx=\"30.59\" ry=\"18\"/>\n",
       "<text text-anchor=\"middle\" x=\"103\" y=\"-86.3\" font-family=\"Times,serif\" font-size=\"14.00\">bronc</text>\n",
       "</g>\n",
       "<!-- smoke&#45;&gt;bronc -->\n",
       "<g id=\"edge2\" class=\"edge\">\n",
       "<title>smoke&#45;&gt;bronc</title>\n",
       "<path fill=\"none\" stroke=\"black\" d=\"M74.01,-144.41C78.55,-136.04 84.16,-125.71 89.23,-116.37\"/>\n",
       "<polygon fill=\"black\" stroke=\"black\" points=\"92.36,-117.93 94.06,-107.47 86.21,-114.59 92.36,-117.93\"/>\n",
       "</g>\n",
       "<!-- xray -->\n",
       "<g id=\"node4\" class=\"node\">\n",
       "<title>xray</title>\n",
       "<ellipse fill=\"none\" stroke=\"black\" cx=\"65\" cy=\"-18\" rx=\"27\" ry=\"18\"/>\n",
       "<text text-anchor=\"middle\" x=\"65\" y=\"-14.3\" font-family=\"Times,serif\" font-size=\"14.00\">xray</text>\n",
       "</g>\n",
       "<!-- lung&#45;&gt;xray -->\n",
       "<g id=\"edge3\" class=\"edge\">\n",
       "<title>lung&#45;&gt;xray</title>\n",
       "<path fill=\"none\" stroke=\"black\" d=\"M35.81,-72.76C40.42,-64.28 46.16,-53.71 51.32,-44.2\"/>\n",
       "<polygon fill=\"black\" stroke=\"black\" points=\"54.54,-45.61 56.23,-35.15 48.39,-42.27 54.54,-45.61\"/>\n",
       "</g>\n",
       "<!-- bronc&#45;&gt;xray -->\n",
       "<g id=\"edge4\" class=\"edge\">\n",
       "<title>bronc&#45;&gt;xray</title>\n",
       "<path fill=\"none\" stroke=\"black\" d=\"M94.19,-72.76C89.58,-64.28 83.84,-53.71 78.68,-44.2\"/>\n",
       "<polygon fill=\"black\" stroke=\"black\" points=\"81.61,-42.27 73.77,-35.15 75.46,-45.61 81.61,-42.27\"/>\n",
       "</g>\n",
       "</g>\n",
       "</svg>\n"
      ],
      "text/plain": [
       "<graphviz.graphs.Digraph at 0x7f8817e1f5d0>"
      ]
     },
     "execution_count": 24,
     "metadata": {},
     "output_type": "execute_result"
    }
   ],
   "source": [
    "import graphviz as gr\n",
    "\n",
    "edges = [('smoke', 'lung'),\n",
    "         ('smoke', 'bronc'),\n",
    "         ('lung', 'xray'),\n",
    "         ('bronc', 'xray')]\n",
    "\n",
    "# Create the DAG from the edges\n",
    "DAG = bn.make_DAG(edges)\n",
    "\n",
    "# Plot and make sure the arrows are correct.\n",
    "def plot_from_edges(edges):\n",
    "    # plot\n",
    "    g = gr.Digraph()\n",
    "    \n",
    "    for i in range(0, len(edges)):\n",
    "        g.edge(*edges[i])\n",
    "    return g\n",
    "\n",
    "g = plot_from_edges(edges)\n",
    "g"
   ]
  },
  {
   "cell_type": "markdown",
   "metadata": {},
   "source": [
    "<br/><br/>\n",
    "\n",
    "At this point we have the data set in our dataframe (df), and we also have the DAG based on our expert knowledge. \n",
    "We can use parameter learning to learn conditional probability distributions (CPDs) of variales in our model. "
   ]
  },
  {
   "cell_type": "code",
   "execution_count": 25,
   "metadata": {},
   "outputs": [
    {
     "name": "stdout",
     "output_type": "stream",
     "text": [
      "[bnlearn] >Removing columns from dataframe to make consistent with DAG [['tub_area' 'tub' 'either' 'dysp']]\n",
      "[bnlearn] >Parameter learning> Computing parameters using [bayes]\n",
      "[bnlearn] >CPD of smoke:\n",
      "+----------+----------+\n",
      "| smoke(0) | 0.495333 |\n",
      "+----------+----------+\n",
      "| smoke(1) | 0.504667 |\n",
      "+----------+----------+\n",
      "[bnlearn] >CPD of lung:\n",
      "+---------+---------------------+---------------------+\n",
      "| smoke   | smoke(0)            | smoke(1)            |\n",
      "+---------+---------------------+---------------------+\n",
      "| lung(0) | 0.11449721207460103 | 0.03302509907529723 |\n",
      "+---------+---------------------+---------------------+\n",
      "| lung(1) | 0.8855027879253989  | 0.9669749009247027  |\n",
      "+---------+---------------------+---------------------+\n",
      "[bnlearn] >CPD of bronc:\n",
      "+----------+--------------------+--------------------+\n",
      "| smoke    | smoke(0)           | smoke(1)           |\n",
      "+----------+--------------------+--------------------+\n",
      "| bronc(0) | 0.5919054028071524 | 0.3110020758633704 |\n",
      "+----------+--------------------+--------------------+\n",
      "| bronc(1) | 0.4080945971928475 | 0.6889979241366295 |\n",
      "+----------+--------------------+--------------------+\n",
      "[bnlearn] >CPD of xray:\n",
      "+---------+---------------------+-----+---------------------+\n",
      "| bronc   | bronc(0)            | ... | bronc(1)            |\n",
      "+---------+---------------------+-----+---------------------+\n",
      "| lung    | lung(0)             | ... | lung(1)             |\n",
      "+---------+---------------------+-----+---------------------+\n",
      "| xray(0) | 0.8385598141695703  | ... | 0.06883224440968068 |\n",
      "+---------+---------------------+-----+---------------------+\n",
      "| xray(1) | 0.16144018583042974 | ... | 0.9311677555903193  |\n",
      "+---------+---------------------+-----+---------------------+\n"
     ]
    }
   ],
   "source": [
    "# Learn the parameters from data set.\n",
    "# As input we have the DAG without CPDs.\n",
    "DAG = bn.parameter_learning.fit(DAG, df, methodtype='bayes')"
   ]
  },
  {
   "cell_type": "code",
   "execution_count": 26,
   "metadata": {},
   "outputs": [
    {
     "name": "stdout",
     "output_type": "stream",
     "text": [
      "CPD of smoke:\n",
      "+----------+----------+\n",
      "| smoke(0) | 0.495333 |\n",
      "+----------+----------+\n",
      "| smoke(1) | 0.504667 |\n",
      "+----------+----------+\n",
      "CPD of lung:\n",
      "+---------+---------------------+---------------------+\n",
      "| smoke   | smoke(0)            | smoke(1)            |\n",
      "+---------+---------------------+---------------------+\n",
      "| lung(0) | 0.11449721207460103 | 0.03302509907529723 |\n",
      "+---------+---------------------+---------------------+\n",
      "| lung(1) | 0.8855027879253989  | 0.9669749009247027  |\n",
      "+---------+---------------------+---------------------+\n",
      "CPD of bronc:\n",
      "+----------+--------------------+--------------------+\n",
      "| smoke    | smoke(0)           | smoke(1)           |\n",
      "+----------+--------------------+--------------------+\n",
      "| bronc(0) | 0.5919054028071524 | 0.3110020758633704 |\n",
      "+----------+--------------------+--------------------+\n",
      "| bronc(1) | 0.4080945971928475 | 0.6889979241366295 |\n",
      "+----------+--------------------+--------------------+\n",
      "CPD of xray:\n",
      "+---------+---------------------+-----+---------------------+\n",
      "| bronc   | bronc(0)            | ... | bronc(1)            |\n",
      "+---------+---------------------+-----+---------------------+\n",
      "| lung    | lung(0)             | ... | lung(1)             |\n",
      "+---------+---------------------+-----+---------------------+\n",
      "| xray(0) | 0.8385598141695703  | ... | 0.06883224440968068 |\n",
      "+---------+---------------------+-----+---------------------+\n",
      "| xray(1) | 0.16144018583042974 | ... | 0.9311677555903193  |\n",
      "+---------+---------------------+-----+---------------------+\n",
      "[bnlearn] >Independencies:\n",
      "(lung ⟂ bronc | smoke)\n",
      "(smoke ⟂ xray | lung, bronc)\n",
      "(xray ⟂ smoke | lung, bronc)\n",
      "(bronc ⟂ lung | smoke)\n",
      "[bnlearn] >Nodes: ['smoke', 'lung', 'bronc', 'xray']\n",
      "[bnlearn] >Edges: [('smoke', 'lung'), ('smoke', 'bronc'), ('lung', 'xray'), ('bronc', 'xray')]\n"
     ]
    }
   ],
   "source": [
    "# Print the CPDs\n",
    "bn.print_CPD(DAG)\n",
    "# At this point we have a DAG with the learned CPDs"
   ]
  },
  {
   "cell_type": "markdown",
   "metadata": {},
   "source": [
    "Now we can combined our expert knowledge with a data set! Then we can make inferences which allows us to ask causal questions from the model. Let us demonstrate a few questions...\n",
    "\n",
    "<br>\n",
    "\n",
    "- **Question 1:**\n",
    "What is the probability of lung-cancer, given that we know that patient does smoke?"
   ]
  },
  {
   "cell_type": "code",
   "execution_count": 27,
   "metadata": {},
   "outputs": [
    {
     "name": "stdout",
     "output_type": "stream",
     "text": [
      "[bnlearn] >Variable Elimination..\n",
      "+----+--------+-----------+\n",
      "|    |   lung |         p |\n",
      "+====+========+===========+\n",
      "|  0 |      0 | 0.0330251 |\n",
      "+----+--------+-----------+\n",
      "|  1 |      1 | 0.966975  |\n",
      "+----+--------+-----------+\n"
     ]
    }
   ],
   "source": [
    "q1 = bn.inference.fit(DAG, variables=['lung'], evidence={'smoke':1})"
   ]
  },
  {
   "cell_type": "markdown",
   "metadata": {},
   "source": [
    "<br/><br/>\n",
    "\n",
    "**Question 2:**\n",
    "What is the probability of bronchitis, given that we know patient does smoke?"
   ]
  },
  {
   "cell_type": "code",
   "execution_count": 28,
   "metadata": {},
   "outputs": [
    {
     "name": "stdout",
     "output_type": "stream",
     "text": [
      "[bnlearn] >Variable Elimination..\n",
      "+----+---------+----------+\n",
      "|    |   bronc |        p |\n",
      "+====+=========+==========+\n",
      "|  0 |       0 | 0.311002 |\n",
      "+----+---------+----------+\n",
      "|  1 |       1 | 0.688998 |\n",
      "+----+---------+----------+\n"
     ]
    }
   ],
   "source": [
    "q2 = bn.inference.fit(DAG, variables=['bronc'], evidence={'smoke':1})"
   ]
  },
  {
   "cell_type": "markdown",
   "metadata": {},
   "source": [
    "<br/><br/>\n",
    "\n",
    "**Question 3:** \n",
    "What is the probability of lung-cancer, given that we know that patient does smoke and also has bronchitis?"
   ]
  },
  {
   "cell_type": "code",
   "execution_count": 29,
   "metadata": {},
   "outputs": [
    {
     "name": "stdout",
     "output_type": "stream",
     "text": [
      "[bnlearn] >Variable Elimination..\n",
      "+----+--------+-----------+\n",
      "|    |   lung |         p |\n",
      "+====+========+===========+\n",
      "|  0 |      0 | 0.0330251 |\n",
      "+----+--------+-----------+\n",
      "|  1 |      1 | 0.966975  |\n",
      "+----+--------+-----------+\n"
     ]
    }
   ],
   "source": [
    "q3 = bn.inference.fit(DAG, variables=['lung'], evidence={'smoke':1, 'bronc':1})"
   ]
  },
  {
   "cell_type": "markdown",
   "metadata": {},
   "source": [
    "<br/><br/>\n",
    "\n",
    "**Question 4:**\n",
    "Lets specify the question even more. What is the probability of lung-cancer or bronchitis, given that we know that patient does smoke but did not had xray?"
   ]
  },
  {
   "cell_type": "code",
   "execution_count": 30,
   "metadata": {},
   "outputs": [
    {
     "name": "stdout",
     "output_type": "stream",
     "text": [
      "[bnlearn] >Variable Elimination..\n",
      "+----+---------+--------+-----------+\n",
      "|    |   bronc |   lung |         p |\n",
      "+====+=========+========+===========+\n",
      "|  0 |       0 |      0 | 0.0915345 |\n",
      "+----+---------+--------+-----------+\n",
      "|  1 |       0 |      1 | 0.226912  |\n",
      "+----+---------+--------+-----------+\n",
      "|  2 |       1 |      0 | 0.194173  |\n",
      "+----+---------+--------+-----------+\n",
      "|  3 |       1 |      1 | 0.487381  |\n",
      "+----+---------+--------+-----------+\n"
     ]
    }
   ],
   "source": [
    "q4 = bn.inference.fit(DAG, variables=['bronc','lung'], evidence={'smoke':1, 'xray':0})"
   ]
  },
  {
   "cell_type": "markdown",
   "metadata": {},
   "source": [
    "## Build a causal model when we have data, but no domain knowledge!\n",
    "\n",
    "Suppose that we have the medical records of hundreds or even thousands patients treatment regarding shortness-of-breath (dyspnoea). Our goal is to determine the causality across variables given the data set. We dont have a prior knowledge. e.g. we are a data scientist whom just start to work with the dataset.\n",
    "\n",
    "We use structure learning to estimate the DAG structure of the dataset."
   ]
  },
  {
   "attachments": {},
   "cell_type": "markdown",
   "metadata": {},
   "source": [
    "### PC Algorithm \n",
    "\n",
    "As we saw the PC algorithm is based on independence-based method that creates a DAG by querying the dataset for d-separation statements and by checking the corresponding conditional independence test."
   ]
  },
  {
   "cell_type": "code",
   "execution_count": 1,
   "metadata": {},
   "outputs": [],
   "source": [
    "from pgmpy.estimators import PC, HillClimbSearch, MmhcEstimator\n",
    "from pgmpy.estimators import K2Score\n",
    "import bnlearn as bn\n",
    "import utils\n",
    "import graphviz as gr"
   ]
  },
  {
   "cell_type": "code",
   "execution_count": 5,
   "metadata": {},
   "outputs": [
    {
     "name": "stderr",
     "output_type": "stream",
     "text": [
      "Working for n conditional variables: 4:  80%|████████  | 4/5 [00:00<00:00,  9.08it/s]\n"
     ]
    },
    {
     "data": {
      "image/svg+xml": [
       "<?xml version=\"1.0\" encoding=\"UTF-8\" standalone=\"no\"?>\n",
       "<!DOCTYPE svg PUBLIC \"-//W3C//DTD SVG 1.1//EN\"\n",
       " \"http://www.w3.org/Graphics/SVG/1.1/DTD/svg11.dtd\">\n",
       "<!-- Generated by graphviz version 3.0.0 (20220226.1711)\n",
       " -->\n",
       "<!-- Pages: 1 -->\n",
       "<svg width=\"375pt\" height=\"188pt\"\n",
       " viewBox=\"0.00 0.00 374.89 188.00\" xmlns=\"http://www.w3.org/2000/svg\" xmlns:xlink=\"http://www.w3.org/1999/xlink\">\n",
       "<g id=\"graph0\" class=\"graph\" transform=\"scale(1 1) rotate(0) translate(4 184)\">\n",
       "<polygon fill=\"white\" stroke=\"transparent\" points=\"-4,4 -4,-184 370.89,-184 370.89,4 -4,4\"/>\n",
       "<!-- tuberculosis -->\n",
       "<g id=\"node1\" class=\"node\">\n",
       "<title>tuberculosis</title>\n",
       "<ellipse fill=\"none\" stroke=\"black\" cx=\"292.8\" cy=\"-90\" rx=\"54.69\" ry=\"18\"/>\n",
       "<text text-anchor=\"middle\" x=\"292.8\" y=\"-86.3\" font-family=\"Times New Roman,serif\" font-size=\"14.00\">tuberculosis</text>\n",
       "</g>\n",
       "<!-- xray -->\n",
       "<g id=\"node2\" class=\"node\">\n",
       "<title>xray</title>\n",
       "<ellipse fill=\"none\" stroke=\"black\" cx=\"216.8\" cy=\"-18\" rx=\"27\" ry=\"18\"/>\n",
       "<text text-anchor=\"middle\" x=\"216.8\" y=\"-14.3\" font-family=\"Times New Roman,serif\" font-size=\"14.00\">xray</text>\n",
       "</g>\n",
       "<!-- tuberculosis&#45;&gt;xray -->\n",
       "<g id=\"edge1\" class=\"edge\">\n",
       "<title>tuberculosis&#45;&gt;xray</title>\n",
       "<path fill=\"none\" stroke=\"black\" d=\"M275.17,-72.76C264.55,-62.99 250.92,-50.43 239.5,-39.91\"/>\n",
       "<polygon fill=\"black\" stroke=\"black\" points=\"241.74,-37.22 232.02,-33.02 237,-42.37 241.74,-37.22\"/>\n",
       "</g>\n",
       "<!-- bronchitis -->\n",
       "<g id=\"node3\" class=\"node\">\n",
       "<title>bronchitis</title>\n",
       "<ellipse fill=\"none\" stroke=\"black\" cx=\"46.8\" cy=\"-90\" rx=\"46.59\" ry=\"18\"/>\n",
       "<text text-anchor=\"middle\" x=\"46.8\" y=\"-86.3\" font-family=\"Times New Roman,serif\" font-size=\"14.00\">bronchitis</text>\n",
       "</g>\n",
       "<!-- dyspnea -->\n",
       "<g id=\"node4\" class=\"node\">\n",
       "<title>dyspnea</title>\n",
       "<ellipse fill=\"none\" stroke=\"black\" cx=\"114.8\" cy=\"-18\" rx=\"40.89\" ry=\"18\"/>\n",
       "<text text-anchor=\"middle\" x=\"114.8\" y=\"-14.3\" font-family=\"Times New Roman,serif\" font-size=\"14.00\">dyspnea</text>\n",
       "</g>\n",
       "<!-- bronchitis&#45;&gt;dyspnea -->\n",
       "<g id=\"edge2\" class=\"edge\">\n",
       "<title>bronchitis&#45;&gt;dyspnea</title>\n",
       "<path fill=\"none\" stroke=\"black\" d=\"M62.57,-72.76C71.32,-63.75 82.36,-52.39 92.04,-42.43\"/>\n",
       "<polygon fill=\"black\" stroke=\"black\" points=\"94.65,-44.76 99.11,-35.15 89.63,-39.88 94.65,-44.76\"/>\n",
       "</g>\n",
       "<!-- lung_cancer -->\n",
       "<g id=\"node5\" class=\"node\">\n",
       "<title>lung_cancer</title>\n",
       "<ellipse fill=\"none\" stroke=\"black\" cx=\"165.8\" cy=\"-90\" rx=\"54.69\" ry=\"18\"/>\n",
       "<text text-anchor=\"middle\" x=\"165.8\" y=\"-86.3\" font-family=\"Times New Roman,serif\" font-size=\"14.00\">lung_cancer</text>\n",
       "</g>\n",
       "<!-- lung_cancer&#45;&gt;xray -->\n",
       "<g id=\"edge3\" class=\"edge\">\n",
       "<title>lung_cancer&#45;&gt;xray</title>\n",
       "<path fill=\"none\" stroke=\"black\" d=\"M177.88,-72.41C184.35,-63.53 192.43,-52.44 199.55,-42.67\"/>\n",
       "<polygon fill=\"black\" stroke=\"black\" points=\"202.44,-44.65 205.5,-34.51 196.78,-40.53 202.44,-44.65\"/>\n",
       "</g>\n",
       "<!-- lung_cancer&#45;&gt;dyspnea -->\n",
       "<g id=\"edge4\" class=\"edge\">\n",
       "<title>lung_cancer&#45;&gt;dyspnea</title>\n",
       "<path fill=\"none\" stroke=\"black\" d=\"M153.71,-72.41C147.49,-63.87 139.77,-53.28 132.86,-43.79\"/>\n",
       "<polygon fill=\"black\" stroke=\"black\" points=\"135.51,-41.49 126.8,-35.47 129.86,-45.61 135.51,-41.49\"/>\n",
       "</g>\n",
       "<!-- smoke -->\n",
       "<g id=\"node6\" class=\"node\">\n",
       "<title>smoke</title>\n",
       "<ellipse fill=\"none\" stroke=\"black\" cx=\"106.8\" cy=\"-162\" rx=\"34.39\" ry=\"18\"/>\n",
       "<text text-anchor=\"middle\" x=\"106.8\" y=\"-158.3\" font-family=\"Times New Roman,serif\" font-size=\"14.00\">smoke</text>\n",
       "</g>\n",
       "<!-- smoke&#45;&gt;bronchitis -->\n",
       "<g id=\"edge6\" class=\"edge\">\n",
       "<title>smoke&#45;&gt;bronchitis</title>\n",
       "<path fill=\"none\" stroke=\"black\" d=\"M93.18,-145.12C85.54,-136.2 75.86,-124.91 67.32,-114.94\"/>\n",
       "<polygon fill=\"black\" stroke=\"black\" points=\"69.94,-112.62 60.77,-107.31 64.62,-117.18 69.94,-112.62\"/>\n",
       "</g>\n",
       "<!-- smoke&#45;&gt;lung_cancer -->\n",
       "<g id=\"edge5\" class=\"edge\">\n",
       "<title>smoke&#45;&gt;lung_cancer</title>\n",
       "<path fill=\"none\" stroke=\"black\" d=\"M120.18,-145.12C127.51,-136.42 136.76,-125.45 145.01,-115.66\"/>\n",
       "<polygon fill=\"black\" stroke=\"black\" points=\"147.87,-117.7 151.64,-107.8 142.52,-113.19 147.87,-117.7\"/>\n",
       "</g>\n",
       "<!-- tuberculosis_area -->\n",
       "<g id=\"node7\" class=\"node\">\n",
       "<title>tuberculosis_area</title>\n",
       "<ellipse fill=\"none\" stroke=\"black\" cx=\"292.8\" cy=\"-162\" rx=\"74.19\" ry=\"18\"/>\n",
       "<text text-anchor=\"middle\" x=\"292.8\" y=\"-158.3\" font-family=\"Times New Roman,serif\" font-size=\"14.00\">tuberculosis_area</text>\n",
       "</g>\n",
       "<!-- tuberculosis_area&#45;&gt;tuberculosis -->\n",
       "<g id=\"edge7\" class=\"edge\">\n",
       "<title>tuberculosis_area&#45;&gt;tuberculosis</title>\n",
       "<path fill=\"none\" stroke=\"black\" d=\"M292.8,-143.7C292.8,-135.98 292.8,-126.71 292.8,-118.11\"/>\n",
       "<polygon fill=\"black\" stroke=\"black\" points=\"296.3,-118.1 292.8,-108.1 289.3,-118.1 296.3,-118.1\"/>\n",
       "</g>\n",
       "</g>\n",
       "</svg>\n"
      ],
      "text/plain": [
       "<graphviz.graphs.Digraph at 0x2147f30ea90>"
      ]
     },
     "execution_count": 5,
     "metadata": {},
     "output_type": "execute_result"
    }
   ],
   "source": [
    "est = PC(data = df)\n",
    "estimated_model = est.estimate(variant=\"stable\", max_cond_vars=5, ci_test = \"chi_square\", return_type = \"dag\", significance_level = 0.01)\n",
    "utils.plot_from_model_pgmpy(estimated_model.edges())"
   ]
  },
  {
   "attachments": {},
   "cell_type": "markdown",
   "metadata": {},
   "source": [
    "We see that the graph has been correclty identified."
   ]
  },
  {
   "attachments": {},
   "cell_type": "markdown",
   "metadata": {},
   "source": [
    "### Score-based methods\n",
    "\n",
    "This class of approaches test different graph structures in their ability to fit the data. Theyhave two main components:\n",
    "\n",
    "*   a **search algorithm** to optimize throughout the search space of all possible DAGs (e.g. *Hillclimbsearch*,  ExhaustiveSearch, Chow-Liu)\n",
    "*   a **scoring function** to measure how well the Bayesian network fits the data. Commonly used scoring functions are *K2* and the Bayesian Information Criterion (BIC).\n",
    "\n",
    "Let's take a better look at some search algorithm and scoring function of choice to tackle the problem."
   ]
  },
  {
   "attachments": {},
   "cell_type": "markdown",
   "metadata": {},
   "source": [
    "#### Search algorithm: $Exhaustive search$\n",
    "\n",
    "The ExhaustiveSearch approach scores every possible DAG and returns the best-scoring DAG. This search approach is only attractable for very small networks and prohibits efficient local optimization algorithms to always find the optimal structure. Thus, identifying the ideal structure is often not tractable (read: when we have more than 5 or so)."
   ]
  },
  {
   "cell_type": "code",
   "execution_count": null,
   "metadata": {},
   "outputs": [],
   "source": [
    "model_estimated = bn.structure_learning.fit(df, methodtype='ex', scoretype='bic')\n",
    "# After 4 minutes the code was still running, compared to 0.6s of the previous approach. Therefore it is here presented only for completeness"
   ]
  },
  {
   "attachments": {},
   "cell_type": "markdown",
   "metadata": {},
   "source": [
    "#### Search algorithm: $Hillclimbsearch$\n",
    "It is a heuristic search approach that implements a greedy local search. It starts from the disconnected DAG and proceeds by iteratively performing single-edge manipulations that maximally increase the score. The search terminates once a local maximum is found, i.e. adding other edges would not increase the score associated to the model.\n",
    "\n",
    "\n",
    "#### Scoring function: $K2^{[1]}$\n",
    "The scoring function is so defined:\n",
    "\n",
    "$\n",
    "g(i, \\pi_i) = \\prod_{j=1}^{q_i}\\frac{(r_i-1)!}{(N_{ij} + r_i - 1)!}\\prod_{k=1}^{r_i}N_{ijk}!\n",
    "$\n",
    "\n",
    "where the context is:\n",
    "* $Z$ is a set of n discrete variables\n",
    "* a variable $x_i$ in $Z$ has $r_i$ possible value assignments: ($v_{i1}$, ..., $v_{ir_i}$.)\n",
    "* $D$ be a database of $m$ cases, where each case contains a value assignment for each variable in $Z$\n",
    "* $BS$ denote a belief-network structure containing just the variables in Z\n",
    "* Each variable $x_i$ in $BS$ has a set of parents, which we represent with a list of variables $\\pi_i$\n",
    "* $w_{ij}$ denote they $j$-th unique instantiation of $\\pi_i$ relative to $D$. Suppose there are $q_i$ such unique instantiations of $\\pi_i$\n",
    "* $N_{ijk}$ is the number of cases in $D$ in which variable $x_i$ has the value $v_{ik}$ and $\\pi_i$ is instantiated as $w_{ij}$\n",
    "\n",
    "$[1]$ A Bayesian Method for the Induction of Probabilistic Networks from Data, Cooper and Herskovits, 1992"
   ]
  },
  {
   "cell_type": "code",
   "execution_count": 5,
   "metadata": {},
   "outputs": [
    {
     "name": "stdout",
     "output_type": "stream",
     "text": [
      "[bnlearn] >Computing best DAG using [hc]\n",
      "[bnlearn] >Set scoring type at [k2]\n"
     ]
    },
    {
     "data": {
      "image/svg+xml": [
       "<?xml version=\"1.0\" encoding=\"UTF-8\" standalone=\"no\"?>\n",
       "<!DOCTYPE svg PUBLIC \"-//W3C//DTD SVG 1.1//EN\"\n",
       " \"http://www.w3.org/Graphics/SVG/1.1/DTD/svg11.dtd\">\n",
       "<!-- Generated by graphviz version 3.0.0 (20220226.1711)\n",
       " -->\n",
       "<!-- Pages: 1 -->\n",
       "<svg width=\"278pt\" height=\"332pt\"\n",
       " viewBox=\"0.00 0.00 277.69 332.00\" xmlns=\"http://www.w3.org/2000/svg\" xmlns:xlink=\"http://www.w3.org/1999/xlink\">\n",
       "<g id=\"graph0\" class=\"graph\" transform=\"scale(1 1) rotate(0) translate(4 328)\">\n",
       "<polygon fill=\"white\" stroke=\"transparent\" points=\"-4,4 -4,-328 273.69,-328 273.69,4 -4,4\"/>\n",
       "<!-- tuberculosis_area -->\n",
       "<g id=\"node1\" class=\"node\">\n",
       "<title>tuberculosis_area</title>\n",
       "<ellipse fill=\"none\" stroke=\"black\" cx=\"74.09\" cy=\"-306\" rx=\"74.19\" ry=\"18\"/>\n",
       "<text text-anchor=\"middle\" x=\"74.09\" y=\"-302.3\" font-family=\"Times New Roman,serif\" font-size=\"14.00\">tuberculosis_area</text>\n",
       "</g>\n",
       "<!-- tuberculosis -->\n",
       "<g id=\"node2\" class=\"node\">\n",
       "<title>tuberculosis</title>\n",
       "<ellipse fill=\"none\" stroke=\"black\" cx=\"74.09\" cy=\"-234\" rx=\"54.69\" ry=\"18\"/>\n",
       "<text text-anchor=\"middle\" x=\"74.09\" y=\"-230.3\" font-family=\"Times New Roman,serif\" font-size=\"14.00\">tuberculosis</text>\n",
       "</g>\n",
       "<!-- tuberculosis_area&#45;&gt;tuberculosis -->\n",
       "<g id=\"edge1\" class=\"edge\">\n",
       "<title>tuberculosis_area&#45;&gt;tuberculosis</title>\n",
       "<path fill=\"none\" stroke=\"black\" d=\"M74.09,-287.7C74.09,-279.98 74.09,-270.71 74.09,-262.11\"/>\n",
       "<polygon fill=\"black\" stroke=\"black\" points=\"77.59,-262.1 74.09,-252.1 70.59,-262.1 77.59,-262.1\"/>\n",
       "</g>\n",
       "<!-- xray -->\n",
       "<g id=\"node3\" class=\"node\">\n",
       "<title>xray</title>\n",
       "<ellipse fill=\"none\" stroke=\"black\" cx=\"74.09\" cy=\"-162\" rx=\"27\" ry=\"18\"/>\n",
       "<text text-anchor=\"middle\" x=\"74.09\" y=\"-158.3\" font-family=\"Times New Roman,serif\" font-size=\"14.00\">xray</text>\n",
       "</g>\n",
       "<!-- tuberculosis&#45;&gt;xray -->\n",
       "<g id=\"edge2\" class=\"edge\">\n",
       "<title>tuberculosis&#45;&gt;xray</title>\n",
       "<path fill=\"none\" stroke=\"black\" d=\"M74.09,-215.7C74.09,-207.98 74.09,-198.71 74.09,-190.11\"/>\n",
       "<polygon fill=\"black\" stroke=\"black\" points=\"77.59,-190.1 74.09,-180.1 70.59,-190.1 77.59,-190.1\"/>\n",
       "</g>\n",
       "<!-- bronchitis -->\n",
       "<g id=\"node4\" class=\"node\">\n",
       "<title>bronchitis</title>\n",
       "<ellipse fill=\"none\" stroke=\"black\" cx=\"176.09\" cy=\"-90\" rx=\"46.59\" ry=\"18\"/>\n",
       "<text text-anchor=\"middle\" x=\"176.09\" y=\"-86.3\" font-family=\"Times New Roman,serif\" font-size=\"14.00\">bronchitis</text>\n",
       "</g>\n",
       "<!-- tuberculosis&#45;&gt;bronchitis -->\n",
       "<g id=\"edge3\" class=\"edge\">\n",
       "<title>tuberculosis&#45;&gt;bronchitis</title>\n",
       "<path fill=\"none\" stroke=\"black\" d=\"M58.35,-216.53C42.45,-197.83 22.33,-166.94 38.09,-144 56.7,-116.92 91.21,-103.67 121.07,-97.19\"/>\n",
       "<polygon fill=\"black\" stroke=\"black\" points=\"121.84,-100.6 130.98,-95.24 120.49,-93.74 121.84,-100.6\"/>\n",
       "</g>\n",
       "<!-- dyspnea -->\n",
       "<g id=\"node5\" class=\"node\">\n",
       "<title>dyspnea</title>\n",
       "<ellipse fill=\"none\" stroke=\"black\" cx=\"160.09\" cy=\"-162\" rx=\"40.89\" ry=\"18\"/>\n",
       "<text text-anchor=\"middle\" x=\"160.09\" y=\"-158.3\" font-family=\"Times New Roman,serif\" font-size=\"14.00\">dyspnea</text>\n",
       "</g>\n",
       "<!-- tuberculosis&#45;&gt;dyspnea -->\n",
       "<g id=\"edge4\" class=\"edge\">\n",
       "<title>tuberculosis&#45;&gt;dyspnea</title>\n",
       "<path fill=\"none\" stroke=\"black\" d=\"M93.61,-217.12C105.4,-207.52 120.58,-195.16 133.47,-184.67\"/>\n",
       "<polygon fill=\"black\" stroke=\"black\" points=\"135.99,-187.13 141.54,-178.1 131.58,-181.7 135.99,-187.13\"/>\n",
       "</g>\n",
       "<!-- smoke -->\n",
       "<g id=\"node7\" class=\"node\">\n",
       "<title>smoke</title>\n",
       "<ellipse fill=\"none\" stroke=\"black\" cx=\"213.09\" cy=\"-18\" rx=\"34.39\" ry=\"18\"/>\n",
       "<text text-anchor=\"middle\" x=\"213.09\" y=\"-14.3\" font-family=\"Times New Roman,serif\" font-size=\"14.00\">smoke</text>\n",
       "</g>\n",
       "<!-- bronchitis&#45;&gt;smoke -->\n",
       "<g id=\"edge10\" class=\"edge\">\n",
       "<title>bronchitis&#45;&gt;smoke</title>\n",
       "<path fill=\"none\" stroke=\"black\" d=\"M185.05,-72.05C189.37,-63.89 194.64,-53.91 199.44,-44.82\"/>\n",
       "<polygon fill=\"black\" stroke=\"black\" points=\"202.64,-46.27 204.22,-35.79 196.45,-42.99 202.64,-46.27\"/>\n",
       "</g>\n",
       "<!-- dyspnea&#45;&gt;bronchitis -->\n",
       "<g id=\"edge5\" class=\"edge\">\n",
       "<title>dyspnea&#45;&gt;bronchitis</title>\n",
       "<path fill=\"none\" stroke=\"black\" d=\"M163.97,-144.05C165.75,-136.26 167.91,-126.82 169.9,-118.08\"/>\n",
       "<polygon fill=\"black\" stroke=\"black\" points=\"173.33,-118.8 172.14,-108.28 166.5,-117.24 173.33,-118.8\"/>\n",
       "</g>\n",
       "<!-- lung_cancer -->\n",
       "<g id=\"node6\" class=\"node\">\n",
       "<title>lung_cancer</title>\n",
       "<ellipse fill=\"none\" stroke=\"black\" cx=\"215.09\" cy=\"-234\" rx=\"54.69\" ry=\"18\"/>\n",
       "<text text-anchor=\"middle\" x=\"215.09\" y=\"-230.3\" font-family=\"Times New Roman,serif\" font-size=\"14.00\">lung_cancer</text>\n",
       "</g>\n",
       "<!-- lung_cancer&#45;&gt;xray -->\n",
       "<g id=\"edge6\" class=\"edge\">\n",
       "<title>lung_cancer&#45;&gt;xray</title>\n",
       "<path fill=\"none\" stroke=\"black\" d=\"M186.22,-218.67C162.32,-206.8 128.48,-190 104.24,-177.96\"/>\n",
       "<polygon fill=\"black\" stroke=\"black\" points=\"105.65,-174.76 95.14,-173.45 102.54,-181.03 105.65,-174.76\"/>\n",
       "</g>\n",
       "<!-- lung_cancer&#45;&gt;bronchitis -->\n",
       "<g id=\"edge8\" class=\"edge\">\n",
       "<title>lung_cancer&#45;&gt;bronchitis</title>\n",
       "<path fill=\"none\" stroke=\"black\" d=\"M216.67,-215.8C217.77,-197.52 217.87,-168 210.09,-144 206.89,-134.12 201.39,-124.27 195.72,-115.8\"/>\n",
       "<polygon fill=\"black\" stroke=\"black\" points=\"198.5,-113.65 189.86,-107.52 192.78,-117.7 198.5,-113.65\"/>\n",
       "</g>\n",
       "<!-- lung_cancer&#45;&gt;dyspnea -->\n",
       "<g id=\"edge7\" class=\"edge\">\n",
       "<title>lung_cancer&#45;&gt;dyspnea</title>\n",
       "<path fill=\"none\" stroke=\"black\" d=\"M202.06,-216.41C195.28,-207.78 186.86,-197.06 179.34,-187.5\"/>\n",
       "<polygon fill=\"black\" stroke=\"black\" points=\"181.96,-185.17 173.03,-179.47 176.46,-189.5 181.96,-185.17\"/>\n",
       "</g>\n",
       "<!-- lung_cancer&#45;&gt;smoke -->\n",
       "<g id=\"edge9\" class=\"edge\">\n",
       "<title>lung_cancer&#45;&gt;smoke</title>\n",
       "<path fill=\"none\" stroke=\"black\" d=\"M220.12,-215.97C222.95,-205.66 226.28,-192.18 228.09,-180 235.18,-132.49 240.32,-119.32 232.09,-72 230.53,-63 227.58,-53.51 224.46,-45.09\"/>\n",
       "<polygon fill=\"black\" stroke=\"black\" points=\"227.71,-43.8 220.79,-35.78 221.2,-46.37 227.71,-43.8\"/>\n",
       "</g>\n",
       "</g>\n",
       "</svg>\n"
      ],
      "text/plain": [
       "<graphviz.graphs.Digraph at 0x233bb59b670>"
      ]
     },
     "execution_count": 5,
     "metadata": {},
     "output_type": "execute_result"
    }
   ],
   "source": [
    "# Structure learning on the data set\n",
    "estimated_model = bn.structure_learning.fit(df, methodtype='hc', scoretype='k2')\n",
    "utils.plot_from_model_bnlearn(estimated_model)"
   ]
  },
  {
   "attachments": {},
   "cell_type": "markdown",
   "metadata": {},
   "source": [
    "Here we see that some relations are correct, but others are reversed or wrong. \n",
    "\n",
    "Let's try with the *pgmpy* library:"
   ]
  },
  {
   "cell_type": "code",
   "execution_count": 10,
   "metadata": {},
   "outputs": [
    {
     "name": "stderr",
     "output_type": "stream",
     "text": [
      "  0%|          | 10/10000 [00:00<05:43, 29.05it/s]\n"
     ]
    },
    {
     "data": {
      "image/svg+xml": [
       "<?xml version=\"1.0\" encoding=\"UTF-8\" standalone=\"no\"?>\n",
       "<!DOCTYPE svg PUBLIC \"-//W3C//DTD SVG 1.1//EN\"\n",
       " \"http://www.w3.org/Graphics/SVG/1.1/DTD/svg11.dtd\">\n",
       "<!-- Generated by graphviz version 3.0.0 (20220226.1711)\n",
       " -->\n",
       "<!-- Pages: 1 -->\n",
       "<svg width=\"278pt\" height=\"332pt\"\n",
       " viewBox=\"0.00 0.00 277.69 332.00\" xmlns=\"http://www.w3.org/2000/svg\" xmlns:xlink=\"http://www.w3.org/1999/xlink\">\n",
       "<g id=\"graph0\" class=\"graph\" transform=\"scale(1 1) rotate(0) translate(4 328)\">\n",
       "<polygon fill=\"white\" stroke=\"transparent\" points=\"-4,4 -4,-328 273.69,-328 273.69,4 -4,4\"/>\n",
       "<!-- tuberculosis_area -->\n",
       "<g id=\"node1\" class=\"node\">\n",
       "<title>tuberculosis_area</title>\n",
       "<ellipse fill=\"none\" stroke=\"black\" cx=\"74.09\" cy=\"-306\" rx=\"74.19\" ry=\"18\"/>\n",
       "<text text-anchor=\"middle\" x=\"74.09\" y=\"-302.3\" font-family=\"Times New Roman,serif\" font-size=\"14.00\">tuberculosis_area</text>\n",
       "</g>\n",
       "<!-- tuberculosis -->\n",
       "<g id=\"node2\" class=\"node\">\n",
       "<title>tuberculosis</title>\n",
       "<ellipse fill=\"none\" stroke=\"black\" cx=\"74.09\" cy=\"-234\" rx=\"54.69\" ry=\"18\"/>\n",
       "<text text-anchor=\"middle\" x=\"74.09\" y=\"-230.3\" font-family=\"Times New Roman,serif\" font-size=\"14.00\">tuberculosis</text>\n",
       "</g>\n",
       "<!-- tuberculosis_area&#45;&gt;tuberculosis -->\n",
       "<g id=\"edge1\" class=\"edge\">\n",
       "<title>tuberculosis_area&#45;&gt;tuberculosis</title>\n",
       "<path fill=\"none\" stroke=\"black\" d=\"M74.09,-287.7C74.09,-279.98 74.09,-270.71 74.09,-262.11\"/>\n",
       "<polygon fill=\"black\" stroke=\"black\" points=\"77.59,-262.1 74.09,-252.1 70.59,-262.1 77.59,-262.1\"/>\n",
       "</g>\n",
       "<!-- xray -->\n",
       "<g id=\"node3\" class=\"node\">\n",
       "<title>xray</title>\n",
       "<ellipse fill=\"none\" stroke=\"black\" cx=\"74.09\" cy=\"-162\" rx=\"27\" ry=\"18\"/>\n",
       "<text text-anchor=\"middle\" x=\"74.09\" y=\"-158.3\" font-family=\"Times New Roman,serif\" font-size=\"14.00\">xray</text>\n",
       "</g>\n",
       "<!-- tuberculosis&#45;&gt;xray -->\n",
       "<g id=\"edge2\" class=\"edge\">\n",
       "<title>tuberculosis&#45;&gt;xray</title>\n",
       "<path fill=\"none\" stroke=\"black\" d=\"M74.09,-215.7C74.09,-207.98 74.09,-198.71 74.09,-190.11\"/>\n",
       "<polygon fill=\"black\" stroke=\"black\" points=\"77.59,-190.1 74.09,-180.1 70.59,-190.1 77.59,-190.1\"/>\n",
       "</g>\n",
       "<!-- bronchitis -->\n",
       "<g id=\"node4\" class=\"node\">\n",
       "<title>bronchitis</title>\n",
       "<ellipse fill=\"none\" stroke=\"black\" cx=\"176.09\" cy=\"-90\" rx=\"46.59\" ry=\"18\"/>\n",
       "<text text-anchor=\"middle\" x=\"176.09\" y=\"-86.3\" font-family=\"Times New Roman,serif\" font-size=\"14.00\">bronchitis</text>\n",
       "</g>\n",
       "<!-- tuberculosis&#45;&gt;bronchitis -->\n",
       "<g id=\"edge3\" class=\"edge\">\n",
       "<title>tuberculosis&#45;&gt;bronchitis</title>\n",
       "<path fill=\"none\" stroke=\"black\" d=\"M58.35,-216.53C42.45,-197.83 22.33,-166.94 38.09,-144 56.7,-116.92 91.21,-103.67 121.07,-97.19\"/>\n",
       "<polygon fill=\"black\" stroke=\"black\" points=\"121.84,-100.6 130.98,-95.24 120.49,-93.74 121.84,-100.6\"/>\n",
       "</g>\n",
       "<!-- dyspnea -->\n",
       "<g id=\"node5\" class=\"node\">\n",
       "<title>dyspnea</title>\n",
       "<ellipse fill=\"none\" stroke=\"black\" cx=\"160.09\" cy=\"-162\" rx=\"40.89\" ry=\"18\"/>\n",
       "<text text-anchor=\"middle\" x=\"160.09\" y=\"-158.3\" font-family=\"Times New Roman,serif\" font-size=\"14.00\">dyspnea</text>\n",
       "</g>\n",
       "<!-- tuberculosis&#45;&gt;dyspnea -->\n",
       "<g id=\"edge4\" class=\"edge\">\n",
       "<title>tuberculosis&#45;&gt;dyspnea</title>\n",
       "<path fill=\"none\" stroke=\"black\" d=\"M93.61,-217.12C105.4,-207.52 120.58,-195.16 133.47,-184.67\"/>\n",
       "<polygon fill=\"black\" stroke=\"black\" points=\"135.99,-187.13 141.54,-178.1 131.58,-181.7 135.99,-187.13\"/>\n",
       "</g>\n",
       "<!-- smoke -->\n",
       "<g id=\"node7\" class=\"node\">\n",
       "<title>smoke</title>\n",
       "<ellipse fill=\"none\" stroke=\"black\" cx=\"213.09\" cy=\"-18\" rx=\"34.39\" ry=\"18\"/>\n",
       "<text text-anchor=\"middle\" x=\"213.09\" y=\"-14.3\" font-family=\"Times New Roman,serif\" font-size=\"14.00\">smoke</text>\n",
       "</g>\n",
       "<!-- bronchitis&#45;&gt;smoke -->\n",
       "<g id=\"edge10\" class=\"edge\">\n",
       "<title>bronchitis&#45;&gt;smoke</title>\n",
       "<path fill=\"none\" stroke=\"black\" d=\"M185.05,-72.05C189.37,-63.89 194.64,-53.91 199.44,-44.82\"/>\n",
       "<polygon fill=\"black\" stroke=\"black\" points=\"202.64,-46.27 204.22,-35.79 196.45,-42.99 202.64,-46.27\"/>\n",
       "</g>\n",
       "<!-- dyspnea&#45;&gt;bronchitis -->\n",
       "<g id=\"edge5\" class=\"edge\">\n",
       "<title>dyspnea&#45;&gt;bronchitis</title>\n",
       "<path fill=\"none\" stroke=\"black\" d=\"M163.97,-144.05C165.75,-136.26 167.91,-126.82 169.9,-118.08\"/>\n",
       "<polygon fill=\"black\" stroke=\"black\" points=\"173.33,-118.8 172.14,-108.28 166.5,-117.24 173.33,-118.8\"/>\n",
       "</g>\n",
       "<!-- lung_cancer -->\n",
       "<g id=\"node6\" class=\"node\">\n",
       "<title>lung_cancer</title>\n",
       "<ellipse fill=\"none\" stroke=\"black\" cx=\"215.09\" cy=\"-234\" rx=\"54.69\" ry=\"18\"/>\n",
       "<text text-anchor=\"middle\" x=\"215.09\" y=\"-230.3\" font-family=\"Times New Roman,serif\" font-size=\"14.00\">lung_cancer</text>\n",
       "</g>\n",
       "<!-- lung_cancer&#45;&gt;xray -->\n",
       "<g id=\"edge6\" class=\"edge\">\n",
       "<title>lung_cancer&#45;&gt;xray</title>\n",
       "<path fill=\"none\" stroke=\"black\" d=\"M186.22,-218.67C162.32,-206.8 128.48,-190 104.24,-177.96\"/>\n",
       "<polygon fill=\"black\" stroke=\"black\" points=\"105.65,-174.76 95.14,-173.45 102.54,-181.03 105.65,-174.76\"/>\n",
       "</g>\n",
       "<!-- lung_cancer&#45;&gt;bronchitis -->\n",
       "<g id=\"edge8\" class=\"edge\">\n",
       "<title>lung_cancer&#45;&gt;bronchitis</title>\n",
       "<path fill=\"none\" stroke=\"black\" d=\"M216.67,-215.8C217.77,-197.52 217.87,-168 210.09,-144 206.89,-134.12 201.39,-124.27 195.72,-115.8\"/>\n",
       "<polygon fill=\"black\" stroke=\"black\" points=\"198.5,-113.65 189.86,-107.52 192.78,-117.7 198.5,-113.65\"/>\n",
       "</g>\n",
       "<!-- lung_cancer&#45;&gt;dyspnea -->\n",
       "<g id=\"edge7\" class=\"edge\">\n",
       "<title>lung_cancer&#45;&gt;dyspnea</title>\n",
       "<path fill=\"none\" stroke=\"black\" d=\"M202.06,-216.41C195.28,-207.78 186.86,-197.06 179.34,-187.5\"/>\n",
       "<polygon fill=\"black\" stroke=\"black\" points=\"181.96,-185.17 173.03,-179.47 176.46,-189.5 181.96,-185.17\"/>\n",
       "</g>\n",
       "<!-- lung_cancer&#45;&gt;smoke -->\n",
       "<g id=\"edge9\" class=\"edge\">\n",
       "<title>lung_cancer&#45;&gt;smoke</title>\n",
       "<path fill=\"none\" stroke=\"black\" d=\"M220.12,-215.97C222.95,-205.66 226.28,-192.18 228.09,-180 235.18,-132.49 240.32,-119.32 232.09,-72 230.53,-63 227.58,-53.51 224.46,-45.09\"/>\n",
       "<polygon fill=\"black\" stroke=\"black\" points=\"227.71,-43.8 220.79,-35.78 221.2,-46.37 227.71,-43.8\"/>\n",
       "</g>\n",
       "</g>\n",
       "</svg>\n"
      ],
      "text/plain": [
       "<graphviz.graphs.Digraph at 0x233bb561e20>"
      ]
     },
     "execution_count": 10,
     "metadata": {},
     "output_type": "execute_result"
    }
   ],
   "source": [
    "scoring_method = K2Score(data = df)\n",
    "est_2 = HillClimbSearch(data = df)\n",
    "estimated_model_2 = est_2.estimate(scoring_method=scoring_method, max_indegree=4, max_iter=int(1e4))\n",
    "utils.plot_from_model_pgmpy(estimated_model_2.edges())"
   ]
  },
  {
   "attachments": {},
   "cell_type": "markdown",
   "metadata": {},
   "source": [
    "and the resulting graph is of course the same."
   ]
  },
  {
   "attachments": {},
   "cell_type": "markdown",
   "metadata": {},
   "source": [
    "## Takeways\n",
    "\n",
    "It is important to bear in mind that **structure learning is an active field of research.** These algorithms don't guarantee to retrieve the true causal relationship for all the variables (otherwise causal inference would have been complelty solved and easy to perform). \n",
    "However, they can help better understand the problems and some relationships between variables. \n",
    "It is also possible to \"query\" the model given some observations to find out how the probability change in relation to the evidence."
   ]
  },
  {
   "attachments": {},
   "cell_type": "markdown",
   "metadata": {},
   "source": [
    "### References\n",
    "For this chapter, we used an exmaple from *bnlearn - Library for Bayesian network learning and inference*. The e-book has varius exmaples with nice visualization. Here is the ptython library [bnlearn](https://pypi.org/project/bnlearn/)\n",
    "\n",
    "The Python bnlearn ieself is inspired by the [bnlearn - an R package for Bayesian network learning and inference](https://www.bnlearn.com) book an amazing work by Marco Scutari, IDSIA.\n",
    "\n",
    "For causal struture search methods, we recommned this paper: [Review of Causal Discovery Methods Based on Graphical Models](https://www.frontiersin.org/articles/10.3389/fgene.2019.00524/full)"
   ]
  }
 ],
 "metadata": {
  "interpreter": {
   "hash": "f82454df3ab4669350e470cecfad51160e6fdff8e76eafd19d8880dd92d922a3"
  },
  "kernelspec": {
   "display_name": "Python 3 (ipykernel)",
   "language": "python",
   "name": "python3"
  },
  "language_info": {
   "codemirror_mode": {
    "name": "ipython",
    "version": 3
   },
   "file_extension": ".py",
   "mimetype": "text/x-python",
   "name": "python",
   "nbconvert_exporter": "python",
   "pygments_lexer": "ipython3",
   "version": "3.8.8"
  }
 },
 "nbformat": 4,
 "nbformat_minor": 2
}
